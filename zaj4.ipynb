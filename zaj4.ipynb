{
  "nbformat": 4,
  "nbformat_minor": 0,
  "metadata": {
    "colab": {
      "name": "zaj4.ipynb",
      "provenance": [],
      "collapsed_sections": [],
      "include_colab_link": true
    },
    "kernelspec": {
      "name": "python3",
      "display_name": "Python 3"
    },
    "widgets": {
      "application/vnd.jupyter.widget-state+json": {
        "2d3773d7c395471bba8d8187ab9a58e9": {
          "model_module": "@jupyter-widgets/controls",
          "model_name": "VBoxModel",
          "state": {
            "_view_name": "VBoxView",
            "_dom_classes": [
              "widget-interact"
            ],
            "_model_name": "VBoxModel",
            "_view_module": "@jupyter-widgets/controls",
            "_model_module_version": "1.5.0",
            "_view_count": null,
            "_view_module_version": "1.5.0",
            "box_style": "",
            "layout": "IPY_MODEL_1ec58157294a4bd89169b8a6b7ddbf10",
            "_model_module": "@jupyter-widgets/controls",
            "children": [
              "IPY_MODEL_cba549f7648042d3b8c77e95f8e416c0",
              "IPY_MODEL_da9e80d7d2794e1a85793b85ab5bbd9f",
              "IPY_MODEL_e60324462d1a450d83412200ff4d0941",
              "IPY_MODEL_24df180eeca645e39388a588d4439f75",
              "IPY_MODEL_25ab71a2b5424d9598a86fa5a14a1b9d",
              "IPY_MODEL_0ee491b9dd77407d91db39c5a2b80968",
              "IPY_MODEL_5ceb2005acb9474b9c1312c6bda32a62",
              "IPY_MODEL_0baedcc7a8584470be3e39bd0fe3fc1c",
              "IPY_MODEL_696e9541b5df402b8b93ad7d08df9e58",
              "IPY_MODEL_a7d01a5b51b24acc92ee28b1c0505960"
            ]
          }
        },
        "1ec58157294a4bd89169b8a6b7ddbf10": {
          "model_module": "@jupyter-widgets/base",
          "model_name": "LayoutModel",
          "state": {
            "_view_name": "LayoutView",
            "grid_template_rows": null,
            "right": null,
            "justify_content": null,
            "_view_module": "@jupyter-widgets/base",
            "overflow": null,
            "_model_module_version": "1.2.0",
            "_view_count": null,
            "flex_flow": null,
            "width": null,
            "min_width": null,
            "border": null,
            "align_items": null,
            "bottom": null,
            "_model_module": "@jupyter-widgets/base",
            "top": null,
            "grid_column": null,
            "overflow_y": null,
            "overflow_x": null,
            "grid_auto_flow": null,
            "grid_area": null,
            "grid_template_columns": null,
            "flex": null,
            "_model_name": "LayoutModel",
            "justify_items": null,
            "grid_row": null,
            "max_height": null,
            "align_content": null,
            "visibility": null,
            "align_self": null,
            "height": null,
            "min_height": null,
            "padding": null,
            "grid_auto_rows": null,
            "grid_gap": null,
            "max_width": null,
            "order": null,
            "_view_module_version": "1.2.0",
            "grid_template_areas": null,
            "object_position": null,
            "object_fit": null,
            "grid_auto_columns": null,
            "margin": null,
            "display": null,
            "left": null
          }
        },
        "cba549f7648042d3b8c77e95f8e416c0": {
          "model_module": "@jupyter-widgets/controls",
          "model_name": "FloatSliderModel",
          "state": {
            "_view_name": "FloatSliderView",
            "style": "IPY_MODEL_10884c11e589402ab470e25181bac170",
            "_dom_classes": [],
            "description": "aluminium_zysk",
            "step": 1,
            "_model_name": "FloatSliderModel",
            "orientation": "horizontal",
            "max": 10,
            "_view_module": "@jupyter-widgets/controls",
            "_model_module_version": "1.5.0",
            "value": 3,
            "_view_count": null,
            "disabled": false,
            "_view_module_version": "1.5.0",
            "min": 0,
            "continuous_update": true,
            "readout_format": ".2f",
            "description_tooltip": null,
            "readout": true,
            "_model_module": "@jupyter-widgets/controls",
            "layout": "IPY_MODEL_c6857920c3ca4d3883960ee299932eb0"
          }
        },
        "da9e80d7d2794e1a85793b85ab5bbd9f": {
          "model_module": "@jupyter-widgets/controls",
          "model_name": "FloatSliderModel",
          "state": {
            "_view_name": "FloatSliderView",
            "style": "IPY_MODEL_d1c1d77097124cc4b6a9ce96137a2a45",
            "_dom_classes": [],
            "description": "drewno_zysk",
            "step": 1,
            "_model_name": "FloatSliderModel",
            "orientation": "horizontal",
            "max": 10,
            "_view_module": "@jupyter-widgets/controls",
            "_model_module_version": "1.5.0",
            "value": 5,
            "_view_count": null,
            "disabled": false,
            "_view_module_version": "1.5.0",
            "min": 0,
            "continuous_update": true,
            "readout_format": ".2f",
            "description_tooltip": null,
            "readout": true,
            "_model_module": "@jupyter-widgets/controls",
            "layout": "IPY_MODEL_90d825c9756d4b8d839e90d01983b997"
          }
        },
        "e60324462d1a450d83412200ff4d0941": {
          "model_module": "@jupyter-widgets/controls",
          "model_name": "FloatSliderModel",
          "state": {
            "_view_name": "FloatSliderView",
            "style": "IPY_MODEL_3ea91c006ee64260b2f2197a518971d5",
            "_dom_classes": [],
            "description": "czas_produkcji_alu_F1",
            "step": 1,
            "_model_name": "FloatSliderModel",
            "orientation": "horizontal",
            "max": 9,
            "_view_module": "@jupyter-widgets/controls",
            "_model_module_version": "1.5.0",
            "value": 1,
            "_view_count": null,
            "disabled": false,
            "_view_module_version": "1.5.0",
            "min": 0,
            "continuous_update": true,
            "readout_format": ".2f",
            "description_tooltip": null,
            "readout": true,
            "_model_module": "@jupyter-widgets/controls",
            "layout": "IPY_MODEL_00838d5a7d214cdd8bba3093ebbc6af0"
          }
        },
        "24df180eeca645e39388a588d4439f75": {
          "model_module": "@jupyter-widgets/controls",
          "model_name": "FloatSliderModel",
          "state": {
            "_view_name": "FloatSliderView",
            "style": "IPY_MODEL_48a797ab39954b3f93d4b871effbce1e",
            "_dom_classes": [],
            "description": "czas_produkcji_alu_F3",
            "step": 1,
            "_model_name": "FloatSliderModel",
            "orientation": "horizontal",
            "max": 9,
            "_view_module": "@jupyter-widgets/controls",
            "_model_module_version": "1.5.0",
            "value": 3,
            "_view_count": null,
            "disabled": false,
            "_view_module_version": "1.5.0",
            "min": 0,
            "continuous_update": true,
            "readout_format": ".2f",
            "description_tooltip": null,
            "readout": true,
            "_model_module": "@jupyter-widgets/controls",
            "layout": "IPY_MODEL_c95ea61aefaa472c92987cc27f1d3861"
          }
        },
        "25ab71a2b5424d9598a86fa5a14a1b9d": {
          "model_module": "@jupyter-widgets/controls",
          "model_name": "FloatSliderModel",
          "state": {
            "_view_name": "FloatSliderView",
            "style": "IPY_MODEL_b9145bfbd416454287ac226877544f65",
            "_dom_classes": [],
            "description": "czas_produkcji_dre_F2",
            "step": 1,
            "_model_name": "FloatSliderModel",
            "orientation": "horizontal",
            "max": 9,
            "_view_module": "@jupyter-widgets/controls",
            "_model_module_version": "1.5.0",
            "value": 2,
            "_view_count": null,
            "disabled": false,
            "_view_module_version": "1.5.0",
            "min": 0,
            "continuous_update": true,
            "readout_format": ".2f",
            "description_tooltip": null,
            "readout": true,
            "_model_module": "@jupyter-widgets/controls",
            "layout": "IPY_MODEL_bfad31a67f4542f8ab9d615b388228cd"
          }
        },
        "0ee491b9dd77407d91db39c5a2b80968": {
          "model_module": "@jupyter-widgets/controls",
          "model_name": "FloatSliderModel",
          "state": {
            "_view_name": "FloatSliderView",
            "style": "IPY_MODEL_7d52340a04ee477fa37a3227770f2fb8",
            "_dom_classes": [],
            "description": "czas_produkcji_dre_F3",
            "step": 1,
            "_model_name": "FloatSliderModel",
            "orientation": "horizontal",
            "max": 9,
            "_view_module": "@jupyter-widgets/controls",
            "_model_module_version": "1.5.0",
            "value": 2,
            "_view_count": null,
            "disabled": false,
            "_view_module_version": "1.5.0",
            "min": 0,
            "continuous_update": true,
            "readout_format": ".2f",
            "description_tooltip": null,
            "readout": true,
            "_model_module": "@jupyter-widgets/controls",
            "layout": "IPY_MODEL_f89e870bf37d4282ae20fd8c606f1f9e"
          }
        },
        "5ceb2005acb9474b9c1312c6bda32a62": {
          "model_module": "@jupyter-widgets/controls",
          "model_name": "FloatSliderModel",
          "state": {
            "_view_name": "FloatSliderView",
            "style": "IPY_MODEL_c0a8aa5d30504b93a00d4885d7142730",
            "_dom_classes": [],
            "description": "F1_dostepnosc",
            "step": 1,
            "_model_name": "FloatSliderModel",
            "orientation": "horizontal",
            "max": 30,
            "_view_module": "@jupyter-widgets/controls",
            "_model_module_version": "1.5.0",
            "value": 4,
            "_view_count": null,
            "disabled": false,
            "_view_module_version": "1.5.0",
            "min": 0,
            "continuous_update": true,
            "readout_format": ".2f",
            "description_tooltip": null,
            "readout": true,
            "_model_module": "@jupyter-widgets/controls",
            "layout": "IPY_MODEL_9a2c6e5814a7471e8a2885c42a4984f3"
          }
        },
        "0baedcc7a8584470be3e39bd0fe3fc1c": {
          "model_module": "@jupyter-widgets/controls",
          "model_name": "FloatSliderModel",
          "state": {
            "_view_name": "FloatSliderView",
            "style": "IPY_MODEL_43ec42a626d14fd3832b7d4735b6bdb5",
            "_dom_classes": [],
            "description": "F2_dostepnosc",
            "step": 1,
            "_model_name": "FloatSliderModel",
            "orientation": "horizontal",
            "max": 30,
            "_view_module": "@jupyter-widgets/controls",
            "_model_module_version": "1.5.0",
            "value": 12,
            "_view_count": null,
            "disabled": false,
            "_view_module_version": "1.5.0",
            "min": 0,
            "continuous_update": true,
            "readout_format": ".2f",
            "description_tooltip": null,
            "readout": true,
            "_model_module": "@jupyter-widgets/controls",
            "layout": "IPY_MODEL_edee86bfaab34e38ba6383e48fb40552"
          }
        },
        "696e9541b5df402b8b93ad7d08df9e58": {
          "model_module": "@jupyter-widgets/controls",
          "model_name": "FloatSliderModel",
          "state": {
            "_view_name": "FloatSliderView",
            "style": "IPY_MODEL_f07ceec564714b65b8b1125a1c11f70b",
            "_dom_classes": [],
            "description": "F3_dostepnosc",
            "step": 1,
            "_model_name": "FloatSliderModel",
            "orientation": "horizontal",
            "max": 30,
            "_view_module": "@jupyter-widgets/controls",
            "_model_module_version": "1.5.0",
            "value": 18,
            "_view_count": null,
            "disabled": false,
            "_view_module_version": "1.5.0",
            "min": 0,
            "continuous_update": true,
            "readout_format": ".2f",
            "description_tooltip": null,
            "readout": true,
            "_model_module": "@jupyter-widgets/controls",
            "layout": "IPY_MODEL_42c33b7528de41e7bfcdd2deae39fc86"
          }
        },
        "a7d01a5b51b24acc92ee28b1c0505960": {
          "model_module": "@jupyter-widgets/output",
          "model_name": "OutputModel",
          "state": {
            "_view_name": "OutputView",
            "msg_id": "",
            "_dom_classes": [],
            "_model_name": "OutputModel",
            "outputs": [
              {
                "output_type": "stream",
                "metadata": {
                  "tags": []
                },
                "text": "Status: Optimal\naluminium = 2.0\ndrewno = 6.0\nZysk wyniesie 36.0 zł  \n**********Shadow Prices**********\n            name  shadow price  slack\n0  F3Requirement           1.0   -0.0\n1  F1Requirement          -0.0    2.0\n2  F2Requirement           1.5   -0.0\n",
                "stream": "stdout"
              }
            ],
            "_view_module": "@jupyter-widgets/output",
            "_model_module_version": "1.0.0",
            "_view_count": null,
            "_view_module_version": "1.0.0",
            "layout": "IPY_MODEL_c230ea0b931d418ab048c93da00ecae9",
            "_model_module": "@jupyter-widgets/output"
          }
        },
        "10884c11e589402ab470e25181bac170": {
          "model_module": "@jupyter-widgets/controls",
          "model_name": "SliderStyleModel",
          "state": {
            "_view_name": "StyleView",
            "handle_color": null,
            "_model_name": "SliderStyleModel",
            "description_width": "initial",
            "_view_module": "@jupyter-widgets/base",
            "_model_module_version": "1.5.0",
            "_view_count": null,
            "_view_module_version": "1.2.0",
            "_model_module": "@jupyter-widgets/controls"
          }
        },
        "c6857920c3ca4d3883960ee299932eb0": {
          "model_module": "@jupyter-widgets/base",
          "model_name": "LayoutModel",
          "state": {
            "_view_name": "LayoutView",
            "grid_template_rows": null,
            "right": null,
            "justify_content": null,
            "_view_module": "@jupyter-widgets/base",
            "overflow": null,
            "_model_module_version": "1.2.0",
            "_view_count": null,
            "flex_flow": null,
            "width": null,
            "min_width": null,
            "border": null,
            "align_items": null,
            "bottom": null,
            "_model_module": "@jupyter-widgets/base",
            "top": null,
            "grid_column": null,
            "overflow_y": null,
            "overflow_x": null,
            "grid_auto_flow": null,
            "grid_area": null,
            "grid_template_columns": null,
            "flex": null,
            "_model_name": "LayoutModel",
            "justify_items": null,
            "grid_row": null,
            "max_height": null,
            "align_content": null,
            "visibility": null,
            "align_self": null,
            "height": null,
            "min_height": null,
            "padding": null,
            "grid_auto_rows": null,
            "grid_gap": null,
            "max_width": null,
            "order": null,
            "_view_module_version": "1.2.0",
            "grid_template_areas": null,
            "object_position": null,
            "object_fit": null,
            "grid_auto_columns": null,
            "margin": null,
            "display": null,
            "left": null
          }
        },
        "d1c1d77097124cc4b6a9ce96137a2a45": {
          "model_module": "@jupyter-widgets/controls",
          "model_name": "SliderStyleModel",
          "state": {
            "_view_name": "StyleView",
            "handle_color": null,
            "_model_name": "SliderStyleModel",
            "description_width": "initial",
            "_view_module": "@jupyter-widgets/base",
            "_model_module_version": "1.5.0",
            "_view_count": null,
            "_view_module_version": "1.2.0",
            "_model_module": "@jupyter-widgets/controls"
          }
        },
        "90d825c9756d4b8d839e90d01983b997": {
          "model_module": "@jupyter-widgets/base",
          "model_name": "LayoutModel",
          "state": {
            "_view_name": "LayoutView",
            "grid_template_rows": null,
            "right": null,
            "justify_content": null,
            "_view_module": "@jupyter-widgets/base",
            "overflow": null,
            "_model_module_version": "1.2.0",
            "_view_count": null,
            "flex_flow": null,
            "width": null,
            "min_width": null,
            "border": null,
            "align_items": null,
            "bottom": null,
            "_model_module": "@jupyter-widgets/base",
            "top": null,
            "grid_column": null,
            "overflow_y": null,
            "overflow_x": null,
            "grid_auto_flow": null,
            "grid_area": null,
            "grid_template_columns": null,
            "flex": null,
            "_model_name": "LayoutModel",
            "justify_items": null,
            "grid_row": null,
            "max_height": null,
            "align_content": null,
            "visibility": null,
            "align_self": null,
            "height": null,
            "min_height": null,
            "padding": null,
            "grid_auto_rows": null,
            "grid_gap": null,
            "max_width": null,
            "order": null,
            "_view_module_version": "1.2.0",
            "grid_template_areas": null,
            "object_position": null,
            "object_fit": null,
            "grid_auto_columns": null,
            "margin": null,
            "display": null,
            "left": null
          }
        },
        "3ea91c006ee64260b2f2197a518971d5": {
          "model_module": "@jupyter-widgets/controls",
          "model_name": "SliderStyleModel",
          "state": {
            "_view_name": "StyleView",
            "handle_color": null,
            "_model_name": "SliderStyleModel",
            "description_width": "initial",
            "_view_module": "@jupyter-widgets/base",
            "_model_module_version": "1.5.0",
            "_view_count": null,
            "_view_module_version": "1.2.0",
            "_model_module": "@jupyter-widgets/controls"
          }
        },
        "00838d5a7d214cdd8bba3093ebbc6af0": {
          "model_module": "@jupyter-widgets/base",
          "model_name": "LayoutModel",
          "state": {
            "_view_name": "LayoutView",
            "grid_template_rows": null,
            "right": null,
            "justify_content": null,
            "_view_module": "@jupyter-widgets/base",
            "overflow": null,
            "_model_module_version": "1.2.0",
            "_view_count": null,
            "flex_flow": null,
            "width": null,
            "min_width": null,
            "border": null,
            "align_items": null,
            "bottom": null,
            "_model_module": "@jupyter-widgets/base",
            "top": null,
            "grid_column": null,
            "overflow_y": null,
            "overflow_x": null,
            "grid_auto_flow": null,
            "grid_area": null,
            "grid_template_columns": null,
            "flex": null,
            "_model_name": "LayoutModel",
            "justify_items": null,
            "grid_row": null,
            "max_height": null,
            "align_content": null,
            "visibility": null,
            "align_self": null,
            "height": null,
            "min_height": null,
            "padding": null,
            "grid_auto_rows": null,
            "grid_gap": null,
            "max_width": null,
            "order": null,
            "_view_module_version": "1.2.0",
            "grid_template_areas": null,
            "object_position": null,
            "object_fit": null,
            "grid_auto_columns": null,
            "margin": null,
            "display": null,
            "left": null
          }
        },
        "48a797ab39954b3f93d4b871effbce1e": {
          "model_module": "@jupyter-widgets/controls",
          "model_name": "SliderStyleModel",
          "state": {
            "_view_name": "StyleView",
            "handle_color": null,
            "_model_name": "SliderStyleModel",
            "description_width": "initial",
            "_view_module": "@jupyter-widgets/base",
            "_model_module_version": "1.5.0",
            "_view_count": null,
            "_view_module_version": "1.2.0",
            "_model_module": "@jupyter-widgets/controls"
          }
        },
        "c95ea61aefaa472c92987cc27f1d3861": {
          "model_module": "@jupyter-widgets/base",
          "model_name": "LayoutModel",
          "state": {
            "_view_name": "LayoutView",
            "grid_template_rows": null,
            "right": null,
            "justify_content": null,
            "_view_module": "@jupyter-widgets/base",
            "overflow": null,
            "_model_module_version": "1.2.0",
            "_view_count": null,
            "flex_flow": null,
            "width": null,
            "min_width": null,
            "border": null,
            "align_items": null,
            "bottom": null,
            "_model_module": "@jupyter-widgets/base",
            "top": null,
            "grid_column": null,
            "overflow_y": null,
            "overflow_x": null,
            "grid_auto_flow": null,
            "grid_area": null,
            "grid_template_columns": null,
            "flex": null,
            "_model_name": "LayoutModel",
            "justify_items": null,
            "grid_row": null,
            "max_height": null,
            "align_content": null,
            "visibility": null,
            "align_self": null,
            "height": null,
            "min_height": null,
            "padding": null,
            "grid_auto_rows": null,
            "grid_gap": null,
            "max_width": null,
            "order": null,
            "_view_module_version": "1.2.0",
            "grid_template_areas": null,
            "object_position": null,
            "object_fit": null,
            "grid_auto_columns": null,
            "margin": null,
            "display": null,
            "left": null
          }
        },
        "b9145bfbd416454287ac226877544f65": {
          "model_module": "@jupyter-widgets/controls",
          "model_name": "SliderStyleModel",
          "state": {
            "_view_name": "StyleView",
            "handle_color": null,
            "_model_name": "SliderStyleModel",
            "description_width": "initial",
            "_view_module": "@jupyter-widgets/base",
            "_model_module_version": "1.5.0",
            "_view_count": null,
            "_view_module_version": "1.2.0",
            "_model_module": "@jupyter-widgets/controls"
          }
        },
        "bfad31a67f4542f8ab9d615b388228cd": {
          "model_module": "@jupyter-widgets/base",
          "model_name": "LayoutModel",
          "state": {
            "_view_name": "LayoutView",
            "grid_template_rows": null,
            "right": null,
            "justify_content": null,
            "_view_module": "@jupyter-widgets/base",
            "overflow": null,
            "_model_module_version": "1.2.0",
            "_view_count": null,
            "flex_flow": null,
            "width": null,
            "min_width": null,
            "border": null,
            "align_items": null,
            "bottom": null,
            "_model_module": "@jupyter-widgets/base",
            "top": null,
            "grid_column": null,
            "overflow_y": null,
            "overflow_x": null,
            "grid_auto_flow": null,
            "grid_area": null,
            "grid_template_columns": null,
            "flex": null,
            "_model_name": "LayoutModel",
            "justify_items": null,
            "grid_row": null,
            "max_height": null,
            "align_content": null,
            "visibility": null,
            "align_self": null,
            "height": null,
            "min_height": null,
            "padding": null,
            "grid_auto_rows": null,
            "grid_gap": null,
            "max_width": null,
            "order": null,
            "_view_module_version": "1.2.0",
            "grid_template_areas": null,
            "object_position": null,
            "object_fit": null,
            "grid_auto_columns": null,
            "margin": null,
            "display": null,
            "left": null
          }
        },
        "7d52340a04ee477fa37a3227770f2fb8": {
          "model_module": "@jupyter-widgets/controls",
          "model_name": "SliderStyleModel",
          "state": {
            "_view_name": "StyleView",
            "handle_color": null,
            "_model_name": "SliderStyleModel",
            "description_width": "initial",
            "_view_module": "@jupyter-widgets/base",
            "_model_module_version": "1.5.0",
            "_view_count": null,
            "_view_module_version": "1.2.0",
            "_model_module": "@jupyter-widgets/controls"
          }
        },
        "f89e870bf37d4282ae20fd8c606f1f9e": {
          "model_module": "@jupyter-widgets/base",
          "model_name": "LayoutModel",
          "state": {
            "_view_name": "LayoutView",
            "grid_template_rows": null,
            "right": null,
            "justify_content": null,
            "_view_module": "@jupyter-widgets/base",
            "overflow": null,
            "_model_module_version": "1.2.0",
            "_view_count": null,
            "flex_flow": null,
            "width": null,
            "min_width": null,
            "border": null,
            "align_items": null,
            "bottom": null,
            "_model_module": "@jupyter-widgets/base",
            "top": null,
            "grid_column": null,
            "overflow_y": null,
            "overflow_x": null,
            "grid_auto_flow": null,
            "grid_area": null,
            "grid_template_columns": null,
            "flex": null,
            "_model_name": "LayoutModel",
            "justify_items": null,
            "grid_row": null,
            "max_height": null,
            "align_content": null,
            "visibility": null,
            "align_self": null,
            "height": null,
            "min_height": null,
            "padding": null,
            "grid_auto_rows": null,
            "grid_gap": null,
            "max_width": null,
            "order": null,
            "_view_module_version": "1.2.0",
            "grid_template_areas": null,
            "object_position": null,
            "object_fit": null,
            "grid_auto_columns": null,
            "margin": null,
            "display": null,
            "left": null
          }
        },
        "c0a8aa5d30504b93a00d4885d7142730": {
          "model_module": "@jupyter-widgets/controls",
          "model_name": "SliderStyleModel",
          "state": {
            "_view_name": "StyleView",
            "handle_color": null,
            "_model_name": "SliderStyleModel",
            "description_width": "initial",
            "_view_module": "@jupyter-widgets/base",
            "_model_module_version": "1.5.0",
            "_view_count": null,
            "_view_module_version": "1.2.0",
            "_model_module": "@jupyter-widgets/controls"
          }
        },
        "9a2c6e5814a7471e8a2885c42a4984f3": {
          "model_module": "@jupyter-widgets/base",
          "model_name": "LayoutModel",
          "state": {
            "_view_name": "LayoutView",
            "grid_template_rows": null,
            "right": null,
            "justify_content": null,
            "_view_module": "@jupyter-widgets/base",
            "overflow": null,
            "_model_module_version": "1.2.0",
            "_view_count": null,
            "flex_flow": null,
            "width": null,
            "min_width": null,
            "border": null,
            "align_items": null,
            "bottom": null,
            "_model_module": "@jupyter-widgets/base",
            "top": null,
            "grid_column": null,
            "overflow_y": null,
            "overflow_x": null,
            "grid_auto_flow": null,
            "grid_area": null,
            "grid_template_columns": null,
            "flex": null,
            "_model_name": "LayoutModel",
            "justify_items": null,
            "grid_row": null,
            "max_height": null,
            "align_content": null,
            "visibility": null,
            "align_self": null,
            "height": null,
            "min_height": null,
            "padding": null,
            "grid_auto_rows": null,
            "grid_gap": null,
            "max_width": null,
            "order": null,
            "_view_module_version": "1.2.0",
            "grid_template_areas": null,
            "object_position": null,
            "object_fit": null,
            "grid_auto_columns": null,
            "margin": null,
            "display": null,
            "left": null
          }
        },
        "43ec42a626d14fd3832b7d4735b6bdb5": {
          "model_module": "@jupyter-widgets/controls",
          "model_name": "SliderStyleModel",
          "state": {
            "_view_name": "StyleView",
            "handle_color": null,
            "_model_name": "SliderStyleModel",
            "description_width": "initial",
            "_view_module": "@jupyter-widgets/base",
            "_model_module_version": "1.5.0",
            "_view_count": null,
            "_view_module_version": "1.2.0",
            "_model_module": "@jupyter-widgets/controls"
          }
        },
        "edee86bfaab34e38ba6383e48fb40552": {
          "model_module": "@jupyter-widgets/base",
          "model_name": "LayoutModel",
          "state": {
            "_view_name": "LayoutView",
            "grid_template_rows": null,
            "right": null,
            "justify_content": null,
            "_view_module": "@jupyter-widgets/base",
            "overflow": null,
            "_model_module_version": "1.2.0",
            "_view_count": null,
            "flex_flow": null,
            "width": null,
            "min_width": null,
            "border": null,
            "align_items": null,
            "bottom": null,
            "_model_module": "@jupyter-widgets/base",
            "top": null,
            "grid_column": null,
            "overflow_y": null,
            "overflow_x": null,
            "grid_auto_flow": null,
            "grid_area": null,
            "grid_template_columns": null,
            "flex": null,
            "_model_name": "LayoutModel",
            "justify_items": null,
            "grid_row": null,
            "max_height": null,
            "align_content": null,
            "visibility": null,
            "align_self": null,
            "height": null,
            "min_height": null,
            "padding": null,
            "grid_auto_rows": null,
            "grid_gap": null,
            "max_width": null,
            "order": null,
            "_view_module_version": "1.2.0",
            "grid_template_areas": null,
            "object_position": null,
            "object_fit": null,
            "grid_auto_columns": null,
            "margin": null,
            "display": null,
            "left": null
          }
        },
        "f07ceec564714b65b8b1125a1c11f70b": {
          "model_module": "@jupyter-widgets/controls",
          "model_name": "SliderStyleModel",
          "state": {
            "_view_name": "StyleView",
            "handle_color": null,
            "_model_name": "SliderStyleModel",
            "description_width": "initial",
            "_view_module": "@jupyter-widgets/base",
            "_model_module_version": "1.5.0",
            "_view_count": null,
            "_view_module_version": "1.2.0",
            "_model_module": "@jupyter-widgets/controls"
          }
        },
        "42c33b7528de41e7bfcdd2deae39fc86": {
          "model_module": "@jupyter-widgets/base",
          "model_name": "LayoutModel",
          "state": {
            "_view_name": "LayoutView",
            "grid_template_rows": null,
            "right": null,
            "justify_content": null,
            "_view_module": "@jupyter-widgets/base",
            "overflow": null,
            "_model_module_version": "1.2.0",
            "_view_count": null,
            "flex_flow": null,
            "width": null,
            "min_width": null,
            "border": null,
            "align_items": null,
            "bottom": null,
            "_model_module": "@jupyter-widgets/base",
            "top": null,
            "grid_column": null,
            "overflow_y": null,
            "overflow_x": null,
            "grid_auto_flow": null,
            "grid_area": null,
            "grid_template_columns": null,
            "flex": null,
            "_model_name": "LayoutModel",
            "justify_items": null,
            "grid_row": null,
            "max_height": null,
            "align_content": null,
            "visibility": null,
            "align_self": null,
            "height": null,
            "min_height": null,
            "padding": null,
            "grid_auto_rows": null,
            "grid_gap": null,
            "max_width": null,
            "order": null,
            "_view_module_version": "1.2.0",
            "grid_template_areas": null,
            "object_position": null,
            "object_fit": null,
            "grid_auto_columns": null,
            "margin": null,
            "display": null,
            "left": null
          }
        },
        "c230ea0b931d418ab048c93da00ecae9": {
          "model_module": "@jupyter-widgets/base",
          "model_name": "LayoutModel",
          "state": {
            "_view_name": "LayoutView",
            "grid_template_rows": null,
            "right": null,
            "justify_content": null,
            "_view_module": "@jupyter-widgets/base",
            "overflow": null,
            "_model_module_version": "1.2.0",
            "_view_count": null,
            "flex_flow": null,
            "width": null,
            "min_width": null,
            "border": null,
            "align_items": null,
            "bottom": null,
            "_model_module": "@jupyter-widgets/base",
            "top": null,
            "grid_column": null,
            "overflow_y": null,
            "overflow_x": null,
            "grid_auto_flow": null,
            "grid_area": null,
            "grid_template_columns": null,
            "flex": null,
            "_model_name": "LayoutModel",
            "justify_items": null,
            "grid_row": null,
            "max_height": null,
            "align_content": null,
            "visibility": null,
            "align_self": null,
            "height": null,
            "min_height": null,
            "padding": null,
            "grid_auto_rows": null,
            "grid_gap": null,
            "max_width": null,
            "order": null,
            "_view_module_version": "1.2.0",
            "grid_template_areas": null,
            "object_position": null,
            "object_fit": null,
            "grid_auto_columns": null,
            "margin": null,
            "display": null,
            "left": null
          }
        }
      }
    }
  },
  "cells": [
    {
      "cell_type": "markdown",
      "metadata": {
        "id": "view-in-github",
        "colab_type": "text"
      },
      "source": [
        "<a href=\"https://colab.research.google.com/github/kokot123-dev/MISP/blob/main/zaj4.ipynb\" target=\"_parent\"><img src=\"https://colab.research.google.com/assets/colab-badge.svg\" alt=\"Open In Colab\"/></a>"
      ]
    },
    {
      "cell_type": "code",
      "metadata": {
        "id": "3E5tK1vjaSGu",
        "colab": {
          "base_uri": "https://localhost:8080/"
        },
        "outputId": "26e48b6b-6670-4c82-a1d3-02300befcc26"
      },
      "source": [
        "!pip install pulp\n",
        "\n",
        "!sudo apt-get install coinor-cbc glpk-utils coinor-clp"
      ],
      "execution_count": null,
      "outputs": [
        {
          "output_type": "stream",
          "text": [
            "Requirement already satisfied: pulp in /usr/local/lib/python3.6/dist-packages (2.3.1)\n",
            "Requirement already satisfied: amply>=0.1.2 in /usr/local/lib/python3.6/dist-packages (from pulp) (0.1.4)\n",
            "Requirement already satisfied: pyparsing in /usr/local/lib/python3.6/dist-packages (from amply>=0.1.2->pulp) (2.4.7)\n",
            "Requirement already satisfied: docutils>=0.3 in /usr/local/lib/python3.6/dist-packages (from amply>=0.1.2->pulp) (0.16)\n",
            "Reading package lists... Done\n",
            "Building dependency tree       \n",
            "Reading state information... Done\n",
            "coinor-cbc is already the newest version (2.9.9+repack1-1).\n",
            "coinor-clp is already the newest version (1.16.11+repack1-1).\n",
            "glpk-utils is already the newest version (4.65-1).\n",
            "0 upgraded, 0 newly installed, 0 to remove and 14 not upgraded.\n"
          ],
          "name": "stdout"
        }
      ]
    },
    {
      "cell_type": "markdown",
      "metadata": {
        "id": "tRu5tTZ6KcfQ"
      },
      "source": [
        "# **PROBLEM**\n",
        "\n",
        "Producent planuje produkcje okien. Produkowane są dwa typy drewniane i aluminiowe. Na pojedyńczej partii drewnianych producent zarabia 5000 zł a na aluminiowych 3000 zł. Okna mogą być produkowane w 3 fabrykach. Fabryka F1 produkuje tylko okna aluminiowe, z prędkościa 1 partię na godzinę. Fabryka jest dostępna 4h w tygodniu. Fabryka F2 produkuje tylko okna drewniane, z prędkością 1 partię na 2 godziny. Jest dostepna 12h w tygodniu. Fabryka F3 produkuje oba typy okien. Okna aluminiowe są produkowane z prędkością 1 partie na 3 godziny, drewniane 1 partie na 2 godziny. Jest dostępna 18h w tygodniu.\n",
        "\n",
        "Jak powinien dobrać produkcję producent aby zmaksymalizować zysk?"
      ]
    },
    {
      "cell_type": "markdown",
      "metadata": {
        "id": "SKSTCS2ECqEk"
      },
      "source": [
        "![okno.jpg](data:image/jpeg;base64,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)"
      ]
    },
    {
      "cell_type": "markdown",
      "metadata": {
        "id": "6D34z8VpM3cU"
      },
      "source": [
        "\n",
        "# Kroki analizowania problemu\n",
        "Identyfikacja zmiennych decyzyjnych\n",
        "\n",
        "Określenie funkcji celu\n",
        "\n",
        "Określenie ograniczeń \n",
        "\n",
        "Rozwiązanie problemu\n"
      ]
    },
    {
      "cell_type": "markdown",
      "metadata": {
        "id": "R-qF_nsaNDs-"
      },
      "source": [
        "**Zmienne decyzyjne**\n",
        "\n",
        "Ilość partii okien aluminiowych x1, Ilość partii okien drewnianych x2"
      ]
    },
    {
      "cell_type": "markdown",
      "metadata": {
        "id": "fbNaElsfNbXJ"
      },
      "source": [
        "**Funkcja celu**\n",
        "\n",
        "Maksymalizacja zysku\n",
        "\n",
        "3.0 • (x1) + 5.0 •  (x2)"
      ]
    },
    {
      "cell_type": "markdown",
      "metadata": {
        "id": "u69haMN5NuJs"
      },
      "source": [
        "**Ograniczenia** \n",
        "\n",
        "* wydajność i dostępność fabryk f1, f2, f3\n",
        "\n",
        "3.0 • x1 + 2.0 • x2 <= 18\n",
        "\n",
        "1.0 • x1 <= 4.0\n",
        "\n",
        "2.0 • x2 <= 12.0\n",
        "\n",
        "* brak wartośći ujemnych \n",
        "\n",
        "x1>=0 x2>=0"
      ]
    },
    {
      "cell_type": "markdown",
      "metadata": {
        "id": "y_Wgc8tjpEmW"
      },
      "source": [
        "# Rozwiązanie graficzne"
      ]
    },
    {
      "cell_type": "code",
      "metadata": {
        "colab": {
          "base_uri": "https://localhost:8080/",
          "height": 302
        },
        "id": "EdmSR8eLOdwn",
        "outputId": "c5a92a00-ef55-402f-f9f0-834b11ad9461"
      },
      "source": [
        "import numpy as np\n",
        "import matplotlib.pyplot as plt\n",
        "%matplotlib inline\n",
        "\n",
        "\n",
        "x = np.linspace(0, 10, 2000)\n",
        "\n",
        "\n",
        "y1 = 0*x +6\n",
        "y2=(18-3*x)/2\n",
        "y3=(-3*x+36)/5\n",
        "y4 = 0*x +1000\n",
        "# Make plot\n",
        "\n",
        "plt.plot(x, y1,label=r'$2.0*x2 <= 12.0$' )\n",
        "plt.plot(x, y2,label=r'$3.0*x1 + 2.0*x2 <= 18.0$ ')\n",
        "plt.plot(x, y4,color='black',label=r'$x1<=4$ ')\n",
        "plt.plot(x, y3,label=r'$3.0*x1 + 5.0*x2 = 36.0$ ')\n",
        "\n",
        "plt.xlim((0, 10))\n",
        "plt.ylim((0, 10))\n",
        "plt.xlabel(r'$x_1$')\n",
        "plt.ylabel(r'$x_2$')\n",
        "\n",
        "plt.vlines(4,0,10)\n",
        "# Fill feasible region\n",
        "y5 = np.maximum(y1, 0)\n",
        "y6 = np.maximum(y2, 0)\n",
        "\n",
        "plt.fill_between(x,0, y6, color='black', alpha=0.33)\n",
        "plt.fill_between(x,0, y5, color='black', alpha=0.33)\n",
        "plt.fill_betweenx(x,4,0 , color='black', alpha=0.33)\n",
        "\n",
        "plt.legend(bbox_to_anchor=(1.05, 1), loc=2, borderaxespad=0.)"
      ],
      "execution_count": null,
      "outputs": [
        {
          "output_type": "execute_result",
          "data": {
            "text/plain": [
              "<matplotlib.legend.Legend at 0x7f21957c7c88>"
            ]
          },
          "metadata": {
            "tags": []
          },
          "execution_count": 84
        },
        {
          "output_type": "display_data",
          "data": {
            "image/png": "[encoded data removed]",
            "text/plain": [
              "<Figure size 432x288 with 1 Axes>"
            ]
          },
          "metadata": {
            "tags": [],
            "needs_background": "light"
          }
        }
      ]
    },
    {
      "cell_type": "markdown",
      "metadata": {
        "id": "WfqnoLbopt46"
      },
      "source": [
        "najciemniejszy obszar, to obszar spełniający wszystkie ograniczenia \n",
        "tj. obszar dopuszczalnych rozwiązań\n",
        "\n",
        "linia zielona to jedno z możliwych rozwiązań w zależności od Z, dla Z = 36 w tym przypadku jest to wierzchołek obszaru "
      ]
    },
    {
      "cell_type": "markdown",
      "metadata": {
        "id": "JWlwR6whrhFJ"
      },
      "source": [
        "\n",
        "# Rozwiązanie problemu za pomocą biblioteki pulp"
      ]
    },
    {
      "cell_type": "code",
      "metadata": {
        "id": "zoId0HYyaNx7",
        "colab": {
          "base_uri": "https://localhost:8080/"
        },
        "outputId": "428c448b-61fd-4a3a-e8ac-110d566b0019"
      },
      "source": [
        "from pulp import *\n",
        "prob = LpProblem(\"Problem3\",LpMaximize)\n",
        "\n",
        "x1=LpVariable(\"aluminium\",0)\n",
        "x2=LpVariable(\"drewno\",0)\n",
        "\n",
        "prob += 3.0*(x1) + 5.0*(x2), \"Total zysk\"\n",
        "\n",
        "prob += 3.0*x1 + 2.0*x2 <= 18.0, \"F3Requirement\"\n",
        "prob += 1.0*x1 <= 4.0, \"F1Requirement\"\n",
        "prob += 2.0*x2 <= 12.0, \"F2Requirement\"\n",
        "\n",
        "\n",
        "prob.writeLP(\"Problem3.lp\")\n",
        "prob.solve()\n",
        "print(\"Status:\", LpStatus[prob.status])\n",
        "print(\"Zysk = \", value(prob.objective))\n",
        "print(\"Wyprodukowano:\")\n",
        "\n",
        "for v in prob.variables():\n",
        "   print(v.name, \"=\", v.varValue, \"partie\")\n",
        "\n",
        "#!cat \"Problem3.lp\""
      ],
      "execution_count": null,
      "outputs": [
        {
          "output_type": "stream",
          "text": [
            "Status: Optimal\n",
            "Zysk =  36.0\n",
            "Wyprodukowano:\n",
            "aluminium = 2.0 partie\n",
            "drewno = 6.0 partie\n"
          ],
          "name": "stdout"
        }
      ]
    },
    {
      "cell_type": "markdown",
      "metadata": {
        "id": "mjzMXwCNrrje"
      },
      "source": [
        "# Wersja z suwakami"
      ]
    },
    {
      "cell_type": "code",
      "metadata": {
        "id": "IEkdoXAkaeli",
        "colab": {
          "base_uri": "https://localhost:8080/",
          "height": 475,
          "referenced_widgets": [
            "2d3773d7c395471bba8d8187ab9a58e9",
            "1ec58157294a4bd89169b8a6b7ddbf10",
            "cba549f7648042d3b8c77e95f8e416c0",
            "da9e80d7d2794e1a85793b85ab5bbd9f",
            "e60324462d1a450d83412200ff4d0941",
            "24df180eeca645e39388a588d4439f75",
            "25ab71a2b5424d9598a86fa5a14a1b9d",
            "0ee491b9dd77407d91db39c5a2b80968",
            "5ceb2005acb9474b9c1312c6bda32a62",
            "0baedcc7a8584470be3e39bd0fe3fc1c",
            "696e9541b5df402b8b93ad7d08df9e58",
            "a7d01a5b51b24acc92ee28b1c0505960",
            "10884c11e589402ab470e25181bac170",
            "c6857920c3ca4d3883960ee299932eb0",
            "d1c1d77097124cc4b6a9ce96137a2a45",
            "90d825c9756d4b8d839e90d01983b997",
            "3ea91c006ee64260b2f2197a518971d5",
            "00838d5a7d214cdd8bba3093ebbc6af0",
            "48a797ab39954b3f93d4b871effbce1e",
            "c95ea61aefaa472c92987cc27f1d3861",
            "b9145bfbd416454287ac226877544f65",
            "bfad31a67f4542f8ab9d615b388228cd",
            "7d52340a04ee477fa37a3227770f2fb8",
            "f89e870bf37d4282ae20fd8c606f1f9e",
            "c0a8aa5d30504b93a00d4885d7142730",
            "9a2c6e5814a7471e8a2885c42a4984f3",
            "43ec42a626d14fd3832b7d4735b6bdb5",
            "edee86bfaab34e38ba6383e48fb40552",
            "f07ceec564714b65b8b1125a1c11f70b",
            "42c33b7528de41e7bfcdd2deae39fc86",
            "c230ea0b931d418ab048c93da00ecae9"
          ]
        },
        "outputId": "3a6a47d9-3553-46d2-a058-3353e69ace9c"
      },
      "source": [
        "from __future__ import print_function\n",
        "from ipywidgets import interact, interactive, fixed, interact_manual, Layout, FloatSlider, IntSlider\n",
        "import ipywidgets as widgets\n",
        "import pandas as pd\n",
        "\n",
        "style = {'description_width': 'initial'}\n",
        "\n",
        "\n",
        "alu_slider = FloatSlider(min=0,max = 10, value= 3.0, step = 1.0, description=\"aluminium_zysk\", style= style )\n",
        "dre_slider = FloatSlider(min=0,max = 10, value= 5.0, step = 1.0, description=\"drewno_zysk\", style= style )\n",
        "czas_alu_F1_slider = FloatSlider(min=0,max = 9, value= 1, step = 1.0, description=\"czas_produkcji_alu_F1\", style= style )\n",
        "czas_dre_F2_slider = FloatSlider(min=0,max = 9, value= 2, step = 1.0, description=\"czas_produkcji_dre_F2\", style= style )\n",
        "czas_alu_F3_slider = FloatSlider(min=0,max = 9, value= 3, step = 1.0, description=\"czas_produkcji_alu_F3\", style= style )\n",
        "czas_dre_F3_slider = FloatSlider(min=0,max = 9, value= 2, step = 1.0, description=\"czas_produkcji_dre_F3\", style= style )\n",
        "max_F1_slider = FloatSlider(min=0,max = 30, value=  4, step = 1.0, description=\"F1_dostepnosc\", style= style )\n",
        "max_F2_slider = FloatSlider(min=0,max = 30, value= 12, step = 1.0, description=\"F2_dostepnosc\", style= style )\n",
        "max_F3_slider = FloatSlider(min=0,max = 30, value= 18, step = 1.0, description=\"F3_dostepnosc\", style= style )\n",
        "\n",
        "\n",
        "def hurt_produkcja(alu = 3.0,\n",
        "    dre = 5.0,\n",
        "    czas_alu_F1=1,\n",
        "    czas_alu_F3=3,\n",
        "    czas_dre_F2=2,\n",
        "    czas_dre_F3=2,\n",
        "    max_F1=4,\n",
        "    max_F2=12,\n",
        "    max_F3=18):\n",
        "    \n",
        "    prob = LpProblem(\"Problem4\",LpMaximize)\n",
        "\n",
        "    x1=LpVariable(\"aluminium\",0)\n",
        "    x2=LpVariable(\"drewno\",0)\n",
        "\n",
        "    prob += alu*(x1) + dre*(x2), \"Total zysk\"\n",
        "\n",
        "    prob += czas_alu_F3*x1 + czas_dre_F3*x2 <= max_F3, \"F3Requirement\"\n",
        "    prob += czas_alu_F1*x1 <= max_F1, \"F1Requirement\"\n",
        "    prob += czas_dre_F2*x2 <= max_F2, \"F2Requirement\"\n",
        "\n",
        "    \n",
        "    prob.solve()\n",
        "    # The status of the solution is printed to the screen\n",
        "    print(\"Status:\", LpStatus[prob.status])\n",
        "    # Each of the variables is printed with it's resolved optimum value\n",
        "    for v in prob.variables():\n",
        "        print(v.name, \"=\", v.varValue)\n",
        "    print(\"Zysk wyniesie {} zł  \".format( value(prob.objective)))\n",
        "    \n",
        "    shadows = [{'name':name, 'shadow price': c.pi, \"slack\": c.slack} for name, c in prob.constraints.items()]\n",
        "    print(\"*\"*10+\"Shadow Prices\"+\"*\"*10)\n",
        "    print(pd.DataFrame(shadows))\n",
        "    \n",
        "    \n",
        "interact(hurt_produkcja,\n",
        "    alu = alu_slider,\n",
        "    dre = dre_slider,\n",
        "    czas_alu_F1 = czas_alu_F1_slider,\n",
        "    czas_dre_F2 = czas_dre_F2_slider,\n",
        "    czas_alu_F3 = czas_alu_F3_slider,\n",
        "    czas_dre_F3 = czas_dre_F3_slider,\n",
        "    max_F1 = max_F1_slider,\n",
        "    max_F2 = max_F2_slider,\n",
        "    max_F3 = max_F3_slider)"
      ],
      "execution_count": null,
      "outputs": [
        {
          "output_type": "display_data",
          "data": {
            "application/vnd.jupyter.widget-view+json": {
              "model_id": "2d3773d7c395471bba8d8187ab9a58e9",
              "version_minor": 0,
              "version_major": 2
            },
            "text/plain": [
              "interactive(children=(FloatSlider(value=3.0, description='aluminium_zysk', max=10.0, step=1.0, style=SliderSty…"
            ]
          },
          "metadata": {
            "tags": []
          }
        },
        {
          "output_type": "execute_result",
          "data": {
            "text/plain": [
              "<function __main__.hurt_produkcja>"
            ]
          },
          "metadata": {
            "tags": []
          },
          "execution_count": 87
        }
      ]
    }
  ]
}