{
  "nbformat": 4,
  "nbformat_minor": 0,
  "metadata": {
    "kernelspec": {
      "name": "python3",
      "display_name": "Python 3",
      "language": "python"
    },
    "language_info": {
      "name": "python",
      "version": "3.6.6",
      "mimetype": "text/x-python",
      "codemirror_mode": {
        "name": "ipython",
        "version": 3
      },
      "pygments_lexer": "ipython3",
      "nbconvert_exporter": "python",
      "file_extension": ".py"
    },
    "colab": {
      "name": "zaj_projekt",
      "provenance": [],
      "include_colab_link": true
    }
  },
  "cells": [
    {
      "cell_type": "markdown",
      "metadata": {
        "id": "view-in-github",
        "colab_type": "text"
      },
      "source": [
        "<a href=\"https://colab.research.google.com/github/kokot123-dev/MISP/blob/main/zaj_projekt.ipynb\" target=\"_parent\"><img src=\"https://colab.research.google.com/assets/colab-badge.svg\" alt=\"Open In Colab\"/></a>"
      ]
    },
    {
      "cell_type": "markdown",
      "metadata": {
        "id": "HCU3n33ktf_K"
      },
      "source": [
        "* Autor: Michał Rybak 215336 7AIR1\n",
        "\n",
        "* Nazwa konkursu: Categorical Feature Encoding Challenge\n",
        "[link](https://www.kaggle.com/c/cat-in-the-dat)\n",
        "* Krótki opis: W programie przedstawiono klika technik kodowania danych. Sam konkurs również dotyczy kodowania więc będzie przedstawionych kilka popularnych i skutecznych technik. Każda z technik będzie testowana pod względem wydajności i skuteczności."
      ]
    },
    {
      "cell_type": "markdown",
      "metadata": {
        "id": "bPfTDZ7Ktf_L"
      },
      "source": [
        "# 1. Importowanie bibliotek wykorzystanych w zadaniu"
      ]
    },
    {
      "cell_type": "code",
      "metadata": {
        "_uuid": "d629ff2d2480ee46fbb7e2d37f6b5fab8052498a",
        "_cell_guid": "79c7e3d0-c299-4dcb-8224-4455121ee9b0",
        "trusted": true,
        "id": "YN1T0EC4tf_L",
        "outputId": "6772762a-143b-4c22-820d-f51166280fa7"
      },
      "source": [
        "import pandas as pd\n",
        "import numpy as np\n",
        "import matplotlib.pyplot as plt\n",
        "from sklearn.model_selection import train_test_split\n",
        "from sklearn.linear_model import LogisticRegression\n",
        "from sklearn.metrics import accuracy_score\n",
        "from sklearn.model_selection import KFold\n",
        "from sklearn import base\n",
        "\n",
        "import os\n",
        "for dirname, _, filenames in os.walk('/kaggle/input'):\n",
        "    for filename in filenames:\n",
        "        print(os.path.join(dirname, filename))\n"
      ],
      "execution_count": null,
      "outputs": [
        {
          "output_type": "stream",
          "text": [
            "/kaggle/input/cat-in-the-dat/train.csv\n",
            "/kaggle/input/cat-in-the-dat/test.csv\n",
            "/kaggle/input/cat-in-the-dat/sample_submission.csv\n"
          ],
          "name": "stdout"
        }
      ]
    },
    {
      "cell_type": "markdown",
      "metadata": {
        "id": "NQumMQvJtf_O"
      },
      "source": [
        "# 2. Załadowanie danych do treningu i testu "
      ]
    },
    {
      "cell_type": "code",
      "metadata": {
        "trusted": true,
        "id": "V9IKOS_Jtf_O"
      },
      "source": [
        "df_train=pd.read_csv('../input/cat-in-the-dat/train.csv')\n",
        "df_test=pd.read_csv('../input/cat-in-the-dat/test.csv')"
      ],
      "execution_count": null,
      "outputs": []
    },
    {
      "cell_type": "code",
      "metadata": {
        "trusted": true,
        "id": "WJLdYw4Mtf_O",
        "outputId": "e9883284-b0fa-4bad-bfc9-a4c34e70b2d7"
      },
      "source": [
        "print('dane do treningu mają {} wierszy i {} kolumn'.format(df_train.shape[0],df_train.shape[1]))\n",
        "print('dane do testu mają {} wierszy i {} kolumn'.format(df_test.shape[0],df_test.shape[1]))\n",
        "\n",
        "X=df_train.drop(['target'],axis=1)\n",
        "y=df_train['target']\n"
      ],
      "execution_count": null,
      "outputs": [
        {
          "output_type": "stream",
          "text": [
            "dane do treningu mają 300000 wierszy i 25 kolumn\n",
            "dane do testu mają 200000 wierszy i 24 kolumn\n"
          ],
          "name": "stdout"
        }
      ]
    },
    {
      "cell_type": "code",
      "metadata": {
        "trusted": true,
        "id": "7qo-e6uitf_O",
        "outputId": "887a1703-bd56-4251-ef75-a58a3fb90e78"
      },
      "source": [
        "df_train.head()\n",
        "#wyświetlenie 5 pierwszych wierszy, sprawdzenie typu danych w kolumnach pliku danych do treningu"
      ],
      "execution_count": null,
      "outputs": [
        {
          "output_type": "execute_result",
          "data": {
            "text/plain": [
              "   id  bin_0  bin_1  bin_2 bin_3 bin_4  nom_0      nom_1    nom_2    nom_3  \\\n",
              "0   0      0      0      0     T     Y  Green   Triangle    Snake  Finland   \n",
              "1   1      0      1      0     T     Y  Green  Trapezoid  Hamster   Russia   \n",
              "2   2      0      0      0     F     Y   Blue  Trapezoid     Lion   Russia   \n",
              "3   3      0      1      0     F     Y    Red  Trapezoid    Snake   Canada   \n",
              "4   4      0      0      0     F     N    Red  Trapezoid     Lion   Canada   \n",
              "\n",
              "   ...      nom_9 ord_0        ord_1        ord_2 ord_3 ord_4  ord_5 day  \\\n",
              "0  ...  2f4cb3d51     2  Grandmaster         Cold     h     D     kr   2   \n",
              "1  ...  f83c56c21     1  Grandmaster          Hot     a     A     bF   7   \n",
              "2  ...  ae6800dd0     1       Expert     Lava Hot     h     R     Jc   7   \n",
              "3  ...  8270f0d71     1  Grandmaster  Boiling Hot     i     D     kW   2   \n",
              "4  ...  b164b72a7     1  Grandmaster     Freezing     a     R     qP   7   \n",
              "\n",
              "  month target  \n",
              "0     2      0  \n",
              "1     8      0  \n",
              "2     2      0  \n",
              "3     1      1  \n",
              "4     8      0  \n",
              "\n",
              "[5 rows x 25 columns]"
            ],
            "text/html": [
              "<div>\n",
              "<style scoped>\n",
              "    .dataframe tbody tr th:only-of-type {\n",
              "        vertical-align: middle;\n",
              "    }\n",
              "\n",
              "    .dataframe tbody tr th {\n",
              "        vertical-align: top;\n",
              "    }\n",
              "\n",
              "    .dataframe thead th {\n",
              "        text-align: right;\n",
              "    }\n",
              "</style>\n",
              "<table border=\"1\" class=\"dataframe\">\n",
              "  <thead>\n",
              "    <tr style=\"text-align: right;\">\n",
              "      <th></th>\n",
              "      <th>id</th>\n",
              "      <th>bin_0</th>\n",
              "      <th>bin_1</th>\n",
              "      <th>bin_2</th>\n",
              "      <th>bin_3</th>\n",
              "      <th>bin_4</th>\n",
              "      <th>nom_0</th>\n",
              "      <th>nom_1</th>\n",
              "      <th>nom_2</th>\n",
              "      <th>nom_3</th>\n",
              "      <th>...</th>\n",
              "      <th>nom_9</th>\n",
              "      <th>ord_0</th>\n",
              "      <th>ord_1</th>\n",
              "      <th>ord_2</th>\n",
              "      <th>ord_3</th>\n",
              "      <th>ord_4</th>\n",
              "      <th>ord_5</th>\n",
              "      <th>day</th>\n",
              "      <th>month</th>\n",
              "      <th>target</th>\n",
              "    </tr>\n",
              "  </thead>\n",
              "  <tbody>\n",
              "    <tr>\n",
              "      <th>0</th>\n",
              "      <td>0</td>\n",
              "      <td>0</td>\n",
              "      <td>0</td>\n",
              "      <td>0</td>\n",
              "      <td>T</td>\n",
              "      <td>Y</td>\n",
              "      <td>Green</td>\n",
              "      <td>Triangle</td>\n",
              "      <td>Snake</td>\n",
              "      <td>Finland</td>\n",
              "      <td>...</td>\n",
              "      <td>2f4cb3d51</td>\n",
              "      <td>2</td>\n",
              "      <td>Grandmaster</td>\n",
              "      <td>Cold</td>\n",
              "      <td>h</td>\n",
              "      <td>D</td>\n",
              "      <td>kr</td>\n",
              "      <td>2</td>\n",
              "      <td>2</td>\n",
              "      <td>0</td>\n",
              "    </tr>\n",
              "    <tr>\n",
              "      <th>1</th>\n",
              "      <td>1</td>\n",
              "      <td>0</td>\n",
              "      <td>1</td>\n",
              "      <td>0</td>\n",
              "      <td>T</td>\n",
              "      <td>Y</td>\n",
              "      <td>Green</td>\n",
              "      <td>Trapezoid</td>\n",
              "      <td>Hamster</td>\n",
              "      <td>Russia</td>\n",
              "      <td>...</td>\n",
              "      <td>f83c56c21</td>\n",
              "      <td>1</td>\n",
              "      <td>Grandmaster</td>\n",
              "      <td>Hot</td>\n",
              "      <td>a</td>\n",
              "      <td>A</td>\n",
              "      <td>bF</td>\n",
              "      <td>7</td>\n",
              "      <td>8</td>\n",
              "      <td>0</td>\n",
              "    </tr>\n",
              "    <tr>\n",
              "      <th>2</th>\n",
              "      <td>2</td>\n",
              "      <td>0</td>\n",
              "      <td>0</td>\n",
              "      <td>0</td>\n",
              "      <td>F</td>\n",
              "      <td>Y</td>\n",
              "      <td>Blue</td>\n",
              "      <td>Trapezoid</td>\n",
              "      <td>Lion</td>\n",
              "      <td>Russia</td>\n",
              "      <td>...</td>\n",
              "      <td>ae6800dd0</td>\n",
              "      <td>1</td>\n",
              "      <td>Expert</td>\n",
              "      <td>Lava Hot</td>\n",
              "      <td>h</td>\n",
              "      <td>R</td>\n",
              "      <td>Jc</td>\n",
              "      <td>7</td>\n",
              "      <td>2</td>\n",
              "      <td>0</td>\n",
              "    </tr>\n",
              "    <tr>\n",
              "      <th>3</th>\n",
              "      <td>3</td>\n",
              "      <td>0</td>\n",
              "      <td>1</td>\n",
              "      <td>0</td>\n",
              "      <td>F</td>\n",
              "      <td>Y</td>\n",
              "      <td>Red</td>\n",
              "      <td>Trapezoid</td>\n",
              "      <td>Snake</td>\n",
              "      <td>Canada</td>\n",
              "      <td>...</td>\n",
              "      <td>8270f0d71</td>\n",
              "      <td>1</td>\n",
              "      <td>Grandmaster</td>\n",
              "      <td>Boiling Hot</td>\n",
              "      <td>i</td>\n",
              "      <td>D</td>\n",
              "      <td>kW</td>\n",
              "      <td>2</td>\n",
              "      <td>1</td>\n",
              "      <td>1</td>\n",
              "    </tr>\n",
              "    <tr>\n",
              "      <th>4</th>\n",
              "      <td>4</td>\n",
              "      <td>0</td>\n",
              "      <td>0</td>\n",
              "      <td>0</td>\n",
              "      <td>F</td>\n",
              "      <td>N</td>\n",
              "      <td>Red</td>\n",
              "      <td>Trapezoid</td>\n",
              "      <td>Lion</td>\n",
              "      <td>Canada</td>\n",
              "      <td>...</td>\n",
              "      <td>b164b72a7</td>\n",
              "      <td>1</td>\n",
              "      <td>Grandmaster</td>\n",
              "      <td>Freezing</td>\n",
              "      <td>a</td>\n",
              "      <td>R</td>\n",
              "      <td>qP</td>\n",
              "      <td>7</td>\n",
              "      <td>8</td>\n",
              "      <td>0</td>\n",
              "    </tr>\n",
              "  </tbody>\n",
              "</table>\n",
              "<p>5 rows × 25 columns</p>\n",
              "</div>"
            ]
          },
          "metadata": {
            "tags": []
          },
          "execution_count": 96
        }
      ]
    },
    {
      "cell_type": "code",
      "metadata": {
        "trusted": true,
        "id": "7EUuHItjtf_P",
        "outputId": "fc500fc9-9b6f-49ae-a385-a8fd0ec6bd10"
      },
      "source": [
        "df_train.info()\n",
        "#podstawowe informacje o pliku danych (np. zużycie pamięci, wartości inne niż NULL)\n"
      ],
      "execution_count": null,
      "outputs": [
        {
          "output_type": "stream",
          "text": [
            "<class 'pandas.core.frame.DataFrame'>\n",
            "RangeIndex: 300000 entries, 0 to 299999\n",
            "Data columns (total 25 columns):\n",
            "id        300000 non-null int64\n",
            "bin_0     300000 non-null int64\n",
            "bin_1     300000 non-null int64\n",
            "bin_2     300000 non-null int64\n",
            "bin_3     300000 non-null object\n",
            "bin_4     300000 non-null object\n",
            "nom_0     300000 non-null object\n",
            "nom_1     300000 non-null object\n",
            "nom_2     300000 non-null object\n",
            "nom_3     300000 non-null object\n",
            "nom_4     300000 non-null object\n",
            "nom_5     300000 non-null object\n",
            "nom_6     300000 non-null object\n",
            "nom_7     300000 non-null object\n",
            "nom_8     300000 non-null object\n",
            "nom_9     300000 non-null object\n",
            "ord_0     300000 non-null int64\n",
            "ord_1     300000 non-null object\n",
            "ord_2     300000 non-null object\n",
            "ord_3     300000 non-null object\n",
            "ord_4     300000 non-null object\n",
            "ord_5     300000 non-null object\n",
            "day       300000 non-null int64\n",
            "month     300000 non-null int64\n",
            "target    300000 non-null int64\n",
            "dtypes: int64(8), object(17)\n",
            "memory usage: 57.2+ MB\n"
          ],
          "name": "stdout"
        }
      ]
    },
    {
      "cell_type": "markdown",
      "metadata": {
        "id": "98rVJM5etf_P"
      },
      "source": [
        "**Typy danych w projekcie:**\n",
        "1. binarne: zmienna binarna 0/1\n",
        "2. nominalne: zmienna string np. nazwisko\n",
        "3. kategoryczne: zmienna liczbowa 1-7\n",
        "4. czasowa: zmienna typu DATA lub TIME\n",
        "5. porządkowa: zmienna liczbowa np. ocena filmu"
      ]
    },
    {
      "cell_type": "markdown",
      "metadata": {
        "id": "IWmH3F20tf_P"
      },
      "source": [
        "# 3. METODA I - kodowanie etykiet"
      ]
    },
    {
      "cell_type": "markdown",
      "metadata": {
        "id": "dURd6uqptf_P"
      },
      "source": [
        "W tej metodzie zmieniamy wszystkie dane na liczbę np. Triangle -> 5, Trapezoid -> 4 itd. Do tego zadania wykorzystany został *Labelencoder* z modułu *sklern*"
      ]
    },
    {
      "cell_type": "markdown",
      "metadata": {
        "id": "l6T-ncqqtf_P"
      },
      "source": [
        "**Algorytm:**\n",
        "1. Inicjalizacja klasy *LabelEncoder*\n",
        "2. Metodą *fit()* dopasowujemy dane\n",
        "3. Przekształcenie danych w dane klasy *LabelEncoder*"
      ]
    },
    {
      "cell_type": "code",
      "metadata": {
        "trusted": true,
        "id": "HPT-otHttf_P"
      },
      "source": [
        "from sklearn.preprocessing import LabelEncoder"
      ],
      "execution_count": null,
      "outputs": []
    },
    {
      "cell_type": "markdown",
      "metadata": {
        "id": "m1-lM8xntf_P"
      },
      "source": [
        "**Obliczanie czasu trwania algorytmu **"
      ]
    },
    {
      "cell_type": "code",
      "metadata": {
        "trusted": true,
        "id": "tFcK3Sb5tf_P",
        "outputId": "15bfdad8-c2b1-498d-f976-9e643fa913b1"
      },
      "source": [
        "%%time\n",
        "\n",
        "train=pd.DataFrame() #dwuwymiarowa tabela\n",
        "label=LabelEncoder() #przekształcanie etykiet nienumerycznych na numeryczne\n",
        "for c in  X.columns:\n",
        "    if(X[c].dtype=='object'): #typ do zamiany\n",
        "        train[c]=label.fit_transform(X[c]) #dopasuj etykiete i zwróć zakodowaną etykiete\n",
        "    else:\n",
        "        train[c]=X[c]\n",
        "        \n",
        "train.head()    #wyświetl 5 pierwszych wierszy po zamianie "
      ],
      "execution_count": null,
      "outputs": [
        {
          "output_type": "stream",
          "text": [
            "CPU times: user 2.07 s, sys: 9.88 ms, total: 2.08 s\n",
            "Wall time: 2.08 s\n"
          ],
          "name": "stdout"
        },
        {
          "output_type": "execute_result",
          "data": {
            "text/plain": [
              "   id  bin_0  bin_1  bin_2  bin_3  bin_4  nom_0  nom_1  nom_2  nom_3  ...  \\\n",
              "0   0      0      0      0      1      1      1      5      5      3  ...   \n",
              "1   1      0      1      0      1      1      1      4      3      5  ...   \n",
              "2   2      0      0      0      0      1      0      4      4      5  ...   \n",
              "3   3      0      1      0      0      1      2      4      5      0  ...   \n",
              "4   4      0      0      0      0      0      2      4      4      0  ...   \n",
              "\n",
              "   nom_8  nom_9  ord_0  ord_1  ord_2  ord_3  ord_4  ord_5  day  month  \n",
              "0   1686   2175      2      2      1      7      3    136    2      2  \n",
              "1    650  11635      1      2      3      0      0     93    7      8  \n",
              "2   1932   8078      1      1      4      7     17     31    7      2  \n",
              "3    629   6056      1      2      0      8      3    134    2      1  \n",
              "4   1760   8231      1      2      2      0     17    158    7      8  \n",
              "\n",
              "[5 rows x 24 columns]"
            ],
            "text/html": [
              "<div>\n",
              "<style scoped>\n",
              "    .dataframe tbody tr th:only-of-type {\n",
              "        vertical-align: middle;\n",
              "    }\n",
              "\n",
              "    .dataframe tbody tr th {\n",
              "        vertical-align: top;\n",
              "    }\n",
              "\n",
              "    .dataframe thead th {\n",
              "        text-align: right;\n",
              "    }\n",
              "</style>\n",
              "<table border=\"1\" class=\"dataframe\">\n",
              "  <thead>\n",
              "    <tr style=\"text-align: right;\">\n",
              "      <th></th>\n",
              "      <th>id</th>\n",
              "      <th>bin_0</th>\n",
              "      <th>bin_1</th>\n",
              "      <th>bin_2</th>\n",
              "      <th>bin_3</th>\n",
              "      <th>bin_4</th>\n",
              "      <th>nom_0</th>\n",
              "      <th>nom_1</th>\n",
              "      <th>nom_2</th>\n",
              "      <th>nom_3</th>\n",
              "      <th>...</th>\n",
              "      <th>nom_8</th>\n",
              "      <th>nom_9</th>\n",
              "      <th>ord_0</th>\n",
              "      <th>ord_1</th>\n",
              "      <th>ord_2</th>\n",
              "      <th>ord_3</th>\n",
              "      <th>ord_4</th>\n",
              "      <th>ord_5</th>\n",
              "      <th>day</th>\n",
              "      <th>month</th>\n",
              "    </tr>\n",
              "  </thead>\n",
              "  <tbody>\n",
              "    <tr>\n",
              "      <th>0</th>\n",
              "      <td>0</td>\n",
              "      <td>0</td>\n",
              "      <td>0</td>\n",
              "      <td>0</td>\n",
              "      <td>1</td>\n",
              "      <td>1</td>\n",
              "      <td>1</td>\n",
              "      <td>5</td>\n",
              "      <td>5</td>\n",
              "      <td>3</td>\n",
              "      <td>...</td>\n",
              "      <td>1686</td>\n",
              "      <td>2175</td>\n",
              "      <td>2</td>\n",
              "      <td>2</td>\n",
              "      <td>1</td>\n",
              "      <td>7</td>\n",
              "      <td>3</td>\n",
              "      <td>136</td>\n",
              "      <td>2</td>\n",
              "      <td>2</td>\n",
              "    </tr>\n",
              "    <tr>\n",
              "      <th>1</th>\n",
              "      <td>1</td>\n",
              "      <td>0</td>\n",
              "      <td>1</td>\n",
              "      <td>0</td>\n",
              "      <td>1</td>\n",
              "      <td>1</td>\n",
              "      <td>1</td>\n",
              "      <td>4</td>\n",
              "      <td>3</td>\n",
              "      <td>5</td>\n",
              "      <td>...</td>\n",
              "      <td>650</td>\n",
              "      <td>11635</td>\n",
              "      <td>1</td>\n",
              "      <td>2</td>\n",
              "      <td>3</td>\n",
              "      <td>0</td>\n",
              "      <td>0</td>\n",
              "      <td>93</td>\n",
              "      <td>7</td>\n",
              "      <td>8</td>\n",
              "    </tr>\n",
              "    <tr>\n",
              "      <th>2</th>\n",
              "      <td>2</td>\n",
              "      <td>0</td>\n",
              "      <td>0</td>\n",
              "      <td>0</td>\n",
              "      <td>0</td>\n",
              "      <td>1</td>\n",
              "      <td>0</td>\n",
              "      <td>4</td>\n",
              "      <td>4</td>\n",
              "      <td>5</td>\n",
              "      <td>...</td>\n",
              "      <td>1932</td>\n",
              "      <td>8078</td>\n",
              "      <td>1</td>\n",
              "      <td>1</td>\n",
              "      <td>4</td>\n",
              "      <td>7</td>\n",
              "      <td>17</td>\n",
              "      <td>31</td>\n",
              "      <td>7</td>\n",
              "      <td>2</td>\n",
              "    </tr>\n",
              "    <tr>\n",
              "      <th>3</th>\n",
              "      <td>3</td>\n",
              "      <td>0</td>\n",
              "      <td>1</td>\n",
              "      <td>0</td>\n",
              "      <td>0</td>\n",
              "      <td>1</td>\n",
              "      <td>2</td>\n",
              "      <td>4</td>\n",
              "      <td>5</td>\n",
              "      <td>0</td>\n",
              "      <td>...</td>\n",
              "      <td>629</td>\n",
              "      <td>6056</td>\n",
              "      <td>1</td>\n",
              "      <td>2</td>\n",
              "      <td>0</td>\n",
              "      <td>8</td>\n",
              "      <td>3</td>\n",
              "      <td>134</td>\n",
              "      <td>2</td>\n",
              "      <td>1</td>\n",
              "    </tr>\n",
              "    <tr>\n",
              "      <th>4</th>\n",
              "      <td>4</td>\n",
              "      <td>0</td>\n",
              "      <td>0</td>\n",
              "      <td>0</td>\n",
              "      <td>0</td>\n",
              "      <td>0</td>\n",
              "      <td>2</td>\n",
              "      <td>4</td>\n",
              "      <td>4</td>\n",
              "      <td>0</td>\n",
              "      <td>...</td>\n",
              "      <td>1760</td>\n",
              "      <td>8231</td>\n",
              "      <td>1</td>\n",
              "      <td>2</td>\n",
              "      <td>2</td>\n",
              "      <td>0</td>\n",
              "      <td>17</td>\n",
              "      <td>158</td>\n",
              "      <td>7</td>\n",
              "      <td>8</td>\n",
              "    </tr>\n",
              "  </tbody>\n",
              "</table>\n",
              "<p>5 rows × 24 columns</p>\n",
              "</div>"
            ]
          },
          "metadata": {
            "tags": []
          },
          "execution_count": 99
        }
      ]
    },
    {
      "cell_type": "code",
      "metadata": {
        "trusted": true,
        "id": "linJ5vDEtf_Q",
        "outputId": "32add870-669d-4126-88aa-eb06589a8fd6"
      },
      "source": [
        "\n",
        "print('zbiór danych do treningu miał {} wierszy i {} kolumn'.format(train.shape[0],train.shape[1]))\n",
        "#sprawdzenie danych po transformacji\n"
      ],
      "execution_count": null,
      "outputs": [
        {
          "output_type": "stream",
          "text": [
            "zbiór danych do treningu miał 300000 wierszy i 24 kolumn\n"
          ],
          "name": "stdout"
        }
      ]
    },
    {
      "cell_type": "markdown",
      "metadata": {
        "id": "Ews-_hoXtf_Q"
      },
      "source": [
        "**Wyznaczenie skuteczności algorytmu**"
      ]
    },
    {
      "cell_type": "code",
      "metadata": {
        "trusted": true,
        "id": "BcUi4vAdtf_R"
      },
      "source": [
        "def logistic(X,y):\n",
        "    X_train,X_test,y_train,y_test=train_test_split(X,y,random_state=42,test_size=0.2)\n",
        "    #szybkie narzędzie do walidacji danych i testowania\n",
        "    lr=LogisticRegression() #klasyfikator regresji logistycznej\n",
        "    lr.fit(X_train,y_train) #dopasuj model\n",
        "    y_pre=lr.predict(X_test)#prognozuj\n",
        "    print('Trafność: ',accuracy_score(y_test,y_pre)) #dokładność testowych i prognozy\n"
      ],
      "execution_count": null,
      "outputs": []
    },
    {
      "cell_type": "code",
      "metadata": {
        "trusted": true,
        "id": "IND7HkAbtf_R",
        "outputId": "3fb68583-48ee-432c-fdb2-d97e57d475f9"
      },
      "source": [
        "logistic(train,y) #odpalenie zdefiniowanej funkcji"
      ],
      "execution_count": null,
      "outputs": [
        {
          "output_type": "stream",
          "text": [
            "/opt/conda/lib/python3.6/site-packages/sklearn/linear_model/logistic.py:432: FutureWarning: Default solver will be changed to 'lbfgs' in 0.22. Specify a solver to silence this warning.\n",
            "  FutureWarning)\n"
          ],
          "name": "stderr"
        },
        {
          "output_type": "stream",
          "text": [
            "Trafność:  0.6901333333333334\n"
          ],
          "name": "stdout"
        }
      ]
    },
    {
      "cell_type": "markdown",
      "metadata": {
        "id": "5UMLsg0Ntf_S"
      },
      "source": [
        "# 4. METODA II - funkcja skrótu \n"
      ]
    },
    {
      "cell_type": "markdown",
      "metadata": {
        "id": "BeGEjlsEtf_S"
      },
      "source": [
        "W tej metodzie zamieniamy dowolną cechę w wektor lub macierz. "
      ]
    },
    {
      "cell_type": "code",
      "metadata": {
        "trusted": true,
        "id": "dutUhID2tf_S"
      },
      "source": [
        "from sklearn.feature_extraction import FeatureHasher"
      ],
      "execution_count": null,
      "outputs": []
    },
    {
      "cell_type": "markdown",
      "metadata": {
        "id": "5MAwgrfLupTh"
      },
      "source": [
        "**Obliczanie czasu trwania algorytmu**"
      ]
    },
    {
      "cell_type": "code",
      "metadata": {
        "trusted": true,
        "id": "2xJSAoZ5tf_T"
      },
      "source": [
        "%%time\n",
        "\n",
        "X_train_hash=X.copy() #kopia listy\n",
        "for c in X.columns:\n",
        "    X_train_hash[c]=X[c].astype('str')        #zrzutuj na typ string\n",
        "hashing=FeatureHasher(input_type='string')    #implementacja algorytmu\n",
        "train=hashing.transform(X_train_hash.values)  #przekształć w macierz\n"
      ],
      "execution_count": null,
      "outputs": []
    },
    {
      "cell_type": "markdown",
      "metadata": {
        "id": "kRpj5IokvnO2"
      },
      "source": [
        "CPU times: user 8.9 s, sys: 288 ms, total: 9.19 s\n",
        "\n",
        "Wall time: 9.19 s"
      ]
    },
    {
      "cell_type": "code",
      "metadata": {
        "trusted": true,
        "id": "fZS9wq3Stf_T"
      },
      "source": [
        "\n",
        "print('zbiór danych do treningu miał {} wierszy i {} kolumn'.format(train.shape[0],train.shape[1]))\n",
        "#dane po transformacji\n",
        "\n"
      ],
      "execution_count": null,
      "outputs": []
    },
    {
      "cell_type": "markdown",
      "metadata": {
        "id": "740iHk2fv0oc"
      },
      "source": [
        "zbiór danych do treningu miał 300000 wierszy i 1048576 kolumn"
      ]
    },
    {
      "cell_type": "markdown",
      "metadata": {
        "id": "tcr-GcN_tf_T"
      },
      "source": [
        "**Wyznaczenie skuteczności algorytmu**"
      ]
    },
    {
      "cell_type": "code",
      "metadata": {
        "trusted": true,
        "id": "IfUy8oP7tf_T"
      },
      "source": [
        "logistic(train,y)"
      ],
      "execution_count": null,
      "outputs": []
    },
    {
      "cell_type": "markdown",
      "metadata": {
        "id": "v5e181ndv32E"
      },
      "source": [
        "/opt/conda/lib/python3.6/site-packages/sklearn/linear_model/logistic.py:432: FutureWarning: Default solver will be changed to 'lbfgs' in 0.22. Specify a solver to silence this warning.\n",
        "  FutureWarning)\n",
        "  \n",
        "Trafność:  0.7512333333333333"
      ]
    },
    {
      "cell_type": "markdown",
      "metadata": {
        "id": "4ajoTS3-tf_T"
      },
      "source": [
        "# 5. METODA III - metoda statystyczna "
      ]
    },
    {
      "cell_type": "markdown",
      "metadata": {
        "id": "XlRaO8HItf_U"
      },
      "source": [
        "W tej metodzie modelom nadajemy reprezentacje numeryczną. Zmienne string są zamieniane na liczbę, która reprezentuje ilość jej wystąpienia."
      ]
    },
    {
      "cell_type": "markdown",
      "metadata": {
        "id": "swmgFKSltf_U"
      },
      "source": [
        "**Obliczanie czasu trwania algorytmu**"
      ]
    },
    {
      "cell_type": "code",
      "metadata": {
        "trusted": true,
        "id": "48BNr1Z-tf_U"
      },
      "source": [
        "%%time\n",
        "\n",
        "X_train_stat=X.copy()\n",
        "for c in X_train_stat.columns:\n",
        "    if(X_train_stat[c].dtype=='object'):                    #typ do zamiany\n",
        "        X_train_stat[c]=X_train_stat[c].astype('category')  #zrzutuj na typ category\n",
        "        counts=X_train_stat[c].value_counts()               #seria unikalnych wartości\n",
        "                                                            \n",
        "        counts=counts.sort_index()                          #sortuj majęco po popularności \n",
        "        counts=counts.fillna(0)                             #zamień N/A na 0\n",
        "        counts += np.random.rand(len(counts))/1000          #losowe wartości z zakresu\n",
        "        X_train_stat[c].cat.categories=counts               #przypisanie nowej wartości do kategorii\n",
        "    \n",
        "        \n",
        "        "
      ],
      "execution_count": null,
      "outputs": []
    },
    {
      "cell_type": "markdown",
      "metadata": {
        "id": "J3-UYLkwwVeH"
      },
      "source": [
        "CPU times: user 841 ms, sys: 7.04 ms, total: 848 ms\n",
        "\n",
        "Wall time: 866 ms"
      ]
    },
    {
      "cell_type": "code",
      "metadata": {
        "trusted": true,
        "id": "LWyAIcyWtf_U"
      },
      "source": [
        "print('zbiór danych do treningu miał {} wierszy i {} kolumn'.format(X_train_stat.shape[0],X_train_stat.shape[1]))\n",
        "#dane po transformacji        "
      ],
      "execution_count": null,
      "outputs": []
    },
    {
      "cell_type": "markdown",
      "metadata": {
        "id": "ChI0j7x3wi1l"
      },
      "source": [
        "zbiór danych do treningu miał 300000 wierszy i 24 kolumn"
      ]
    },
    {
      "cell_type": "markdown",
      "metadata": {
        "id": "-BrZ837Stf_U"
      },
      "source": [
        "**Wyznaczenie skuteczności algorytmu**"
      ]
    },
    {
      "cell_type": "code",
      "metadata": {
        "trusted": true,
        "id": "V6z-yMYytf_U"
      },
      "source": [
        "logistic(X_train_stat,y)"
      ],
      "execution_count": null,
      "outputs": []
    },
    {
      "cell_type": "markdown",
      "metadata": {
        "id": "1aHP2MqrwkGG"
      },
      "source": [
        "Trafność:  0.6946"
      ]
    },
    {
      "cell_type": "markdown",
      "metadata": {
        "id": "Mb3WRL30tf_U"
      },
      "source": [
        "# 6. Podsumowanie"
      ]
    },
    {
      "cell_type": "markdown",
      "metadata": {
        "id": "J3zvZ-Eltf_U"
      },
      "source": [
        "Funkcja skrótu zapewniła największa dokładność z zastosowanych funkcji.\n",
        "1. Kodowanie etykiet: 69% w 2.08s\n",
        "2. Funkcja skrótu:    75% w 9.52s\n",
        "3. Metoda statystyczna: 69% w 824 ms"
      ]
    },
    {
      "cell_type": "markdown",
      "metadata": {
        "id": "23yh3mMYx3GM"
      },
      "source": [
        "Zgłoszone rozwiązanie:\n",
        "\n",
        "![last.jpg](data:image/jpeg;base64,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)"
      ]
    }
  ]
}