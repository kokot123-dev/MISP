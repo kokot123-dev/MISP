{
  "nbformat": 4,
  "nbformat_minor": 0,
  "metadata": {
    "kernelspec": {
      "name": "python3",
      "display_name": "Python 3",
      "language": "python"
    },
    "language_info": {
      "name": "python",
      "version": "3.7.6",
      "mimetype": "text/x-python",
      "codemirror_mode": {
        "name": "ipython",
        "version": 3
      },
      "pygments_lexer": "ipython3",
      "nbconvert_exporter": "python",
      "file_extension": ".py"
    },
    "colab": {
      "name": "zaj8.ipynb",
      "provenance": [],
      "collapsed_sections": [],
      "include_colab_link": true
    }
  },
  "cells": [
    {
      "cell_type": "markdown",
      "metadata": {
        "id": "view-in-github",
        "colab_type": "text"
      },
      "source": [
        "<a href=\"https://colab.research.google.com/github/kokot123-dev/MISP/blob/main/zaj8.ipynb\" target=\"_parent\"><img src=\"https://colab.research.google.com/assets/colab-badge.svg\" alt=\"Open In Colab\"/></a>"
      ]
    },
    {
      "cell_type": "markdown",
      "metadata": {
        "id": "mUJufK2bWUsD"
      },
      "source": [
        "# Zajęcia z analizy danych w Pandas\n",
        "[link realizowanego tutoriala](https://www.kaggle.com/learn/pandas)\n",
        "\n",
        "Na tym zajęciach realizowaliśmy jeden z tutoriali dostepnych na stronie kaggle.com aby zapoznać się z możliwościami analizy danych.\n",
        "\n",
        "**Poniższe kody działają w notatniku Kaggle.com, w środowisku Google Colab nie kompilują się**"
      ]
    },
    {
      "cell_type": "markdown",
      "metadata": {
        "id": "xiuyiC7tWUsQ"
      },
      "source": [
        "# Lekcja 1\n",
        "\n",
        "Podczas tej lekcji poznaliśmy sposób wgrywania plików do notatnika, oraz sposoby pracy na własnych lub istniejących typach danych. \n"
      ]
    },
    {
      "cell_type": "code",
      "metadata": {
        "trusted": true,
        "id": "KlD2d3_uWUsS",
        "outputId": "0a595f3c-c18c-40a3-9087-6fd29ec62297"
      },
      "source": [
        "import pandas as  pd        # załadowanie wykorzystywanych bibliotek \n",
        "pd.set_option('max_rows', 5)\n",
        "from learntools.core import binder; binder.bind(globals())\n",
        "from learntools.pandas.creating_reading_and_writing import *\n",
        "print(\"Setup complete.\")"
      ],
      "execution_count": null,
      "outputs": [
        {
          "output_type": "stream",
          "text": [
            "Setup complete.\n"
          ],
          "name": "stdout"
        }
      ]
    },
    {
      "cell_type": "markdown",
      "metadata": {
        "id": "afgNDSCTWUsV"
      },
      "source": [
        "zmienna \"fruits\" zawierająca ramke \n",
        "\n",
        "![](https://i.imgur.com/Ax3pp2A.png)"
      ]
    },
    {
      "cell_type": "code",
      "metadata": {
        "trusted": true,
        "id": "5V51zPfMWUsW",
        "outputId": "496380b9-3a79-4662-975d-831754ca5ec4"
      },
      "source": [
        "fruits = pd.DataFrame([[30, 21]], columns=['Apples', 'Bananas'])\n",
        "fruits"
      ],
      "execution_count": null,
      "outputs": [
        {
          "output_type": "execute_result",
          "data": {
            "text/plain": [
              "   Apples  Bananas\n",
              "0      30       21"
            ],
            "text/html": [
              "<div>\n",
              "<style scoped>\n",
              "    .dataframe tbody tr th:only-of-type {\n",
              "        vertical-align: middle;\n",
              "    }\n",
              "\n",
              "    .dataframe tbody tr th {\n",
              "        vertical-align: top;\n",
              "    }\n",
              "\n",
              "    .dataframe thead th {\n",
              "        text-align: right;\n",
              "    }\n",
              "</style>\n",
              "<table border=\"1\" class=\"dataframe\">\n",
              "  <thead>\n",
              "    <tr style=\"text-align: right;\">\n",
              "      <th></th>\n",
              "      <th>Apples</th>\n",
              "      <th>Bananas</th>\n",
              "    </tr>\n",
              "  </thead>\n",
              "  <tbody>\n",
              "    <tr>\n",
              "      <th>0</th>\n",
              "      <td>30</td>\n",
              "      <td>21</td>\n",
              "    </tr>\n",
              "  </tbody>\n",
              "</table>\n",
              "</div>"
            ]
          },
          "metadata": {
            "tags": []
          },
          "execution_count": 52
        }
      ]
    },
    {
      "cell_type": "markdown",
      "metadata": {
        "id": "56l9mwwLWUsW"
      },
      "source": [
        "zmienna \"fruit_sales\" zawierająca ramke \n",
        "\n",
        "![](https://i.imgur.com/CHPn7ZF.png)"
      ]
    },
    {
      "cell_type": "code",
      "metadata": {
        "trusted": true,
        "id": "5cbveQKhWUsX",
        "outputId": "2312980b-2fbd-4e2e-f3fc-5f08e6b997b6"
      },
      "source": [
        "fruit_sales = pd.DataFrame([[35, 21], [41, 34]], columns=['Apples', 'Bananas'],\n",
        "                index=['2017 Sales', '2018 Sales'])\n",
        "\n",
        "fruit_sales"
      ],
      "execution_count": null,
      "outputs": [
        {
          "output_type": "execute_result",
          "data": {
            "text/plain": [
              "            Apples  Bananas\n",
              "2017 Sales      35       21\n",
              "2018 Sales      41       34"
            ],
            "text/html": [
              "<div>\n",
              "<style scoped>\n",
              "    .dataframe tbody tr th:only-of-type {\n",
              "        vertical-align: middle;\n",
              "    }\n",
              "\n",
              "    .dataframe tbody tr th {\n",
              "        vertical-align: top;\n",
              "    }\n",
              "\n",
              "    .dataframe thead th {\n",
              "        text-align: right;\n",
              "    }\n",
              "</style>\n",
              "<table border=\"1\" class=\"dataframe\">\n",
              "  <thead>\n",
              "    <tr style=\"text-align: right;\">\n",
              "      <th></th>\n",
              "      <th>Apples</th>\n",
              "      <th>Bananas</th>\n",
              "    </tr>\n",
              "  </thead>\n",
              "  <tbody>\n",
              "    <tr>\n",
              "      <th>2017 Sales</th>\n",
              "      <td>35</td>\n",
              "      <td>21</td>\n",
              "    </tr>\n",
              "    <tr>\n",
              "      <th>2018 Sales</th>\n",
              "      <td>41</td>\n",
              "      <td>34</td>\n",
              "    </tr>\n",
              "  </tbody>\n",
              "</table>\n",
              "</div>"
            ]
          },
          "metadata": {
            "tags": []
          },
          "execution_count": 53
        }
      ]
    },
    {
      "cell_type": "markdown",
      "metadata": {
        "id": "P5W8b0AoWUsY"
      },
      "source": [
        "zmienna \"ingredients\" z ramką\n",
        "\n",
        "```\n",
        "Flour     4 cups\n",
        "Milk       1 cup\n",
        "Eggs     2 large\n",
        "Spam       1 can\n",
        "Name: Dinner, dtype: object\n",
        "```"
      ]
    },
    {
      "cell_type": "code",
      "metadata": {
        "trusted": true,
        "id": "99ZZpvoZWUsZ",
        "outputId": "70e5a891-7025-4838-bb6b-8bf6e077980f"
      },
      "source": [
        "quantities = ['4 cups', '1 cup', '2 large', '1 can']\n",
        "items = ['Flour', 'Milk', 'Eggs', 'Spam']\n",
        "recipe = pd.Series(quantities, index=items, name='Dinner')\n",
        "\n",
        "ingredients"
      ],
      "execution_count": null,
      "outputs": [
        {
          "output_type": "execute_result",
          "data": {
            "text/plain": [
              "Flour     4 cups\n",
              "Milk       1 cup\n",
              "Eggs     2 large\n",
              "Spam       1 can\n",
              "Name: Dinner, dtype: object"
            ]
          },
          "metadata": {
            "tags": []
          },
          "execution_count": 54
        }
      ]
    },
    {
      "cell_type": "markdown",
      "metadata": {
        "id": "g8RYBbcrWUsa"
      },
      "source": [
        "wczytaj plik csv do zmiennej \"reviews\"\n",
        "\n",
        "![](https://i.imgur.com/74RCZtU.png)\n",
        "\n",
        "ścieżka pliku csv to `../input/wine-reviews/winemag-data_first150k.csv`. Przykładowe wiersze:\n",
        "\n",
        "```\n",
        ",country,description,designation,points,price,province,region_1,region_2,variety,winery\n",
        "0,US,\"This tremendous 100% varietal wine[...]\",Martha's Vineyard,96,235.0,California,Napa Valley,Napa,Cabernet Sauvignon,Heitz\n",
        "1,Spain,\"Ripe aromas of fig, blackberry and[...]\",Carodorum Selección Especial Reserva,96,110.0,Northern Spain,Toro,,Tinta de Toro,Bodega Carmen Rodríguez\n",
        "```"
      ]
    },
    {
      "cell_type": "code",
      "metadata": {
        "trusted": true,
        "id": "0LzrltT2WUsb",
        "outputId": "7fdc699b-d1fd-462b-af8b-cfc2480c981e"
      },
      "source": [
        "reviews = pd.read_csv('../input/wine-reviews/winemag-data_first150k.csv', index_col=0)\n",
        "\n",
        "reviews"
      ],
      "execution_count": null,
      "outputs": [
        {
          "output_type": "execute_result",
          "data": {
            "text/plain": [
              "       country                                        description  \\\n",
              "0           US  This tremendous 100% varietal wine hails from ...   \n",
              "1        Spain  Ripe aromas of fig, blackberry and cassis are ...   \n",
              "...        ...                                                ...   \n",
              "150928  France  A perfect salmon shade, with scents of peaches...   \n",
              "150929   Italy  More Pinot Grigios should taste like this. A r...   \n",
              "\n",
              "                                 designation  points  price  \\\n",
              "0                          Martha's Vineyard      96  235.0   \n",
              "1       Carodorum Selección Especial Reserva      96  110.0   \n",
              "...                                      ...     ...    ...   \n",
              "150928                       Grand Brut Rosé      90   52.0   \n",
              "150929                                   NaN      90   15.0   \n",
              "\n",
              "                  province     region_1 region_2             variety  \\\n",
              "0               California  Napa Valley     Napa  Cabernet Sauvignon   \n",
              "1           Northern Spain         Toro      NaN       Tinta de Toro   \n",
              "...                    ...          ...      ...                 ...   \n",
              "150928           Champagne    Champagne      NaN     Champagne Blend   \n",
              "150929  Northeastern Italy   Alto Adige      NaN        Pinot Grigio   \n",
              "\n",
              "                         winery  \n",
              "0                         Heitz  \n",
              "1       Bodega Carmen Rodríguez  \n",
              "...                         ...  \n",
              "150928                   Gosset  \n",
              "150929            Alois Lageder  \n",
              "\n",
              "[150930 rows x 10 columns]"
            ],
            "text/html": [
              "<div>\n",
              "<style scoped>\n",
              "    .dataframe tbody tr th:only-of-type {\n",
              "        vertical-align: middle;\n",
              "    }\n",
              "\n",
              "    .dataframe tbody tr th {\n",
              "        vertical-align: top;\n",
              "    }\n",
              "\n",
              "    .dataframe thead th {\n",
              "        text-align: right;\n",
              "    }\n",
              "</style>\n",
              "<table border=\"1\" class=\"dataframe\">\n",
              "  <thead>\n",
              "    <tr style=\"text-align: right;\">\n",
              "      <th></th>\n",
              "      <th>country</th>\n",
              "      <th>description</th>\n",
              "      <th>designation</th>\n",
              "      <th>points</th>\n",
              "      <th>price</th>\n",
              "      <th>province</th>\n",
              "      <th>region_1</th>\n",
              "      <th>region_2</th>\n",
              "      <th>variety</th>\n",
              "      <th>winery</th>\n",
              "    </tr>\n",
              "  </thead>\n",
              "  <tbody>\n",
              "    <tr>\n",
              "      <th>0</th>\n",
              "      <td>US</td>\n",
              "      <td>This tremendous 100% varietal wine hails from ...</td>\n",
              "      <td>Martha's Vineyard</td>\n",
              "      <td>96</td>\n",
              "      <td>235.0</td>\n",
              "      <td>California</td>\n",
              "      <td>Napa Valley</td>\n",
              "      <td>Napa</td>\n",
              "      <td>Cabernet Sauvignon</td>\n",
              "      <td>Heitz</td>\n",
              "    </tr>\n",
              "    <tr>\n",
              "      <th>1</th>\n",
              "      <td>Spain</td>\n",
              "      <td>Ripe aromas of fig, blackberry and cassis are ...</td>\n",
              "      <td>Carodorum Selección Especial Reserva</td>\n",
              "      <td>96</td>\n",
              "      <td>110.0</td>\n",
              "      <td>Northern Spain</td>\n",
              "      <td>Toro</td>\n",
              "      <td>NaN</td>\n",
              "      <td>Tinta de Toro</td>\n",
              "      <td>Bodega Carmen Rodríguez</td>\n",
              "    </tr>\n",
              "    <tr>\n",
              "      <th>...</th>\n",
              "      <td>...</td>\n",
              "      <td>...</td>\n",
              "      <td>...</td>\n",
              "      <td>...</td>\n",
              "      <td>...</td>\n",
              "      <td>...</td>\n",
              "      <td>...</td>\n",
              "      <td>...</td>\n",
              "      <td>...</td>\n",
              "      <td>...</td>\n",
              "    </tr>\n",
              "    <tr>\n",
              "      <th>150928</th>\n",
              "      <td>France</td>\n",
              "      <td>A perfect salmon shade, with scents of peaches...</td>\n",
              "      <td>Grand Brut Rosé</td>\n",
              "      <td>90</td>\n",
              "      <td>52.0</td>\n",
              "      <td>Champagne</td>\n",
              "      <td>Champagne</td>\n",
              "      <td>NaN</td>\n",
              "      <td>Champagne Blend</td>\n",
              "      <td>Gosset</td>\n",
              "    </tr>\n",
              "    <tr>\n",
              "      <th>150929</th>\n",
              "      <td>Italy</td>\n",
              "      <td>More Pinot Grigios should taste like this. A r...</td>\n",
              "      <td>NaN</td>\n",
              "      <td>90</td>\n",
              "      <td>15.0</td>\n",
              "      <td>Northeastern Italy</td>\n",
              "      <td>Alto Adige</td>\n",
              "      <td>NaN</td>\n",
              "      <td>Pinot Grigio</td>\n",
              "      <td>Alois Lageder</td>\n",
              "    </tr>\n",
              "  </tbody>\n",
              "</table>\n",
              "<p>150930 rows × 10 columns</p>\n",
              "</div>"
            ]
          },
          "metadata": {
            "tags": []
          },
          "execution_count": 55
        }
      ]
    },
    {
      "cell_type": "markdown",
      "metadata": {
        "id": "XXCcZO-MWUsc"
      },
      "source": [
        "Ramka \"animals\""
      ]
    },
    {
      "cell_type": "code",
      "metadata": {
        "trusted": true,
        "id": "krRlPrqTWUsc",
        "outputId": "947e1ed2-86c3-4734-853d-f5539225cf49"
      },
      "source": [
        "animals = pd.DataFrame({'Cows': [12, 20], 'Goats': [22, 19]}, index=['Year 1', 'Year 2'])\n",
        "animals"
      ],
      "execution_count": null,
      "outputs": [
        {
          "output_type": "execute_result",
          "data": {
            "text/plain": [
              "        Cows  Goats\n",
              "Year 1    12     22\n",
              "Year 2    20     19"
            ],
            "text/html": [
              "<div>\n",
              "<style scoped>\n",
              "    .dataframe tbody tr th:only-of-type {\n",
              "        vertical-align: middle;\n",
              "    }\n",
              "\n",
              "    .dataframe tbody tr th {\n",
              "        vertical-align: top;\n",
              "    }\n",
              "\n",
              "    .dataframe thead th {\n",
              "        text-align: right;\n",
              "    }\n",
              "</style>\n",
              "<table border=\"1\" class=\"dataframe\">\n",
              "  <thead>\n",
              "    <tr style=\"text-align: right;\">\n",
              "      <th></th>\n",
              "      <th>Cows</th>\n",
              "      <th>Goats</th>\n",
              "    </tr>\n",
              "  </thead>\n",
              "  <tbody>\n",
              "    <tr>\n",
              "      <th>Year 1</th>\n",
              "      <td>12</td>\n",
              "      <td>22</td>\n",
              "    </tr>\n",
              "    <tr>\n",
              "      <th>Year 2</th>\n",
              "      <td>20</td>\n",
              "      <td>19</td>\n",
              "    </tr>\n",
              "  </tbody>\n",
              "</table>\n",
              "</div>"
            ]
          },
          "metadata": {
            "tags": []
          },
          "execution_count": 56
        }
      ]
    },
    {
      "cell_type": "markdown",
      "metadata": {
        "id": "bp1uijx3WUsd"
      },
      "source": [
        "Zapis ramki do pliku csv"
      ]
    },
    {
      "cell_type": "code",
      "metadata": {
        "trusted": true,
        "id": "CBB3owpIWUsd"
      },
      "source": [
        "animals.to_csv(\"cows_and_goats.csv\")\n"
      ],
      "execution_count": null,
      "outputs": []
    },
    {
      "cell_type": "markdown",
      "metadata": {
        "id": "275jhZ90WUse"
      },
      "source": [
        "# Lekcja 2\n",
        "\n",
        "Podczas tej lekcji pracowaliśmy z zestawem danych Wine Reviews, poznaliśmy sposoby indeksowania, wybierania i przypisywania.\n"
      ]
    },
    {
      "cell_type": "code",
      "metadata": {
        "trusted": true,
        "id": "OVM0ZHEAWUse",
        "outputId": "731d9dec-fce1-445c-e7a1-a7b0dc6ef13f"
      },
      "source": [
        "import pandas as pd\n",
        "\n",
        "reviews = pd.read_csv(\"../input/wine-reviews/winemag-data-130k-v2.csv\", index_col=0)\n",
        "pd.set_option(\"display.max_rows\", 5)\n",
        "\n",
        "from learntools.core import binder; binder.bind(globals())\n",
        "from learntools.pandas.indexing_selecting_and_assigning import *\n",
        "print(\"Setup complete.\")"
      ],
      "execution_count": null,
      "outputs": [
        {
          "output_type": "stream",
          "text": [
            "Setup complete.\n"
          ],
          "name": "stdout"
        }
      ]
    },
    {
      "cell_type": "code",
      "metadata": {
        "trusted": true,
        "id": "bb1uHJ4AWUsf",
        "outputId": "0065fb4e-08f5-4037-da83-ca851795e83d"
      },
      "source": [
        "# podglad 5 pierwszych wierszy\n",
        "reviews.head()"
      ],
      "execution_count": null,
      "outputs": [
        {
          "output_type": "execute_result",
          "data": {
            "text/plain": [
              "    country                                        description  \\\n",
              "0     Italy  Aromas include tropical fruit, broom, brimston...   \n",
              "1  Portugal  This is ripe and fruity, a wine that is smooth...   \n",
              "2        US  Tart and snappy, the flavors of lime flesh and...   \n",
              "3        US  Pineapple rind, lemon pith and orange blossom ...   \n",
              "4        US  Much like the regular bottling from 2012, this...   \n",
              "\n",
              "                          designation  points  price           province  \\\n",
              "0                        Vulkà Bianco      87    NaN  Sicily & Sardinia   \n",
              "1                            Avidagos      87   15.0              Douro   \n",
              "2                                 NaN      87   14.0             Oregon   \n",
              "3                Reserve Late Harvest      87   13.0           Michigan   \n",
              "4  Vintner's Reserve Wild Child Block      87   65.0             Oregon   \n",
              "\n",
              "              region_1           region_2         taster_name  \\\n",
              "0                 Etna                NaN       Kerin O’Keefe   \n",
              "1                  NaN                NaN          Roger Voss   \n",
              "2    Willamette Valley  Willamette Valley        Paul Gregutt   \n",
              "3  Lake Michigan Shore                NaN  Alexander Peartree   \n",
              "4    Willamette Valley  Willamette Valley        Paul Gregutt   \n",
              "\n",
              "  taster_twitter_handle                                              title  \\\n",
              "0          @kerinokeefe                  Nicosia 2013 Vulkà Bianco  (Etna)   \n",
              "1            @vossroger      Quinta dos Avidagos 2011 Avidagos Red (Douro)   \n",
              "2           @paulgwine       Rainstorm 2013 Pinot Gris (Willamette Valley)   \n",
              "3                   NaN  St. Julian 2013 Reserve Late Harvest Riesling ...   \n",
              "4           @paulgwine   Sweet Cheeks 2012 Vintner's Reserve Wild Child...   \n",
              "\n",
              "          variety               winery  \n",
              "0     White Blend              Nicosia  \n",
              "1  Portuguese Red  Quinta dos Avidagos  \n",
              "2      Pinot Gris            Rainstorm  \n",
              "3        Riesling           St. Julian  \n",
              "4      Pinot Noir         Sweet Cheeks  "
            ],
            "text/html": [
              "<div>\n",
              "<style scoped>\n",
              "    .dataframe tbody tr th:only-of-type {\n",
              "        vertical-align: middle;\n",
              "    }\n",
              "\n",
              "    .dataframe tbody tr th {\n",
              "        vertical-align: top;\n",
              "    }\n",
              "\n",
              "    .dataframe thead th {\n",
              "        text-align: right;\n",
              "    }\n",
              "</style>\n",
              "<table border=\"1\" class=\"dataframe\">\n",
              "  <thead>\n",
              "    <tr style=\"text-align: right;\">\n",
              "      <th></th>\n",
              "      <th>country</th>\n",
              "      <th>description</th>\n",
              "      <th>designation</th>\n",
              "      <th>points</th>\n",
              "      <th>price</th>\n",
              "      <th>province</th>\n",
              "      <th>region_1</th>\n",
              "      <th>region_2</th>\n",
              "      <th>taster_name</th>\n",
              "      <th>taster_twitter_handle</th>\n",
              "      <th>title</th>\n",
              "      <th>variety</th>\n",
              "      <th>winery</th>\n",
              "    </tr>\n",
              "  </thead>\n",
              "  <tbody>\n",
              "    <tr>\n",
              "      <th>0</th>\n",
              "      <td>Italy</td>\n",
              "      <td>Aromas include tropical fruit, broom, brimston...</td>\n",
              "      <td>Vulkà Bianco</td>\n",
              "      <td>87</td>\n",
              "      <td>NaN</td>\n",
              "      <td>Sicily &amp; Sardinia</td>\n",
              "      <td>Etna</td>\n",
              "      <td>NaN</td>\n",
              "      <td>Kerin O’Keefe</td>\n",
              "      <td>@kerinokeefe</td>\n",
              "      <td>Nicosia 2013 Vulkà Bianco  (Etna)</td>\n",
              "      <td>White Blend</td>\n",
              "      <td>Nicosia</td>\n",
              "    </tr>\n",
              "    <tr>\n",
              "      <th>1</th>\n",
              "      <td>Portugal</td>\n",
              "      <td>This is ripe and fruity, a wine that is smooth...</td>\n",
              "      <td>Avidagos</td>\n",
              "      <td>87</td>\n",
              "      <td>15.0</td>\n",
              "      <td>Douro</td>\n",
              "      <td>NaN</td>\n",
              "      <td>NaN</td>\n",
              "      <td>Roger Voss</td>\n",
              "      <td>@vossroger</td>\n",
              "      <td>Quinta dos Avidagos 2011 Avidagos Red (Douro)</td>\n",
              "      <td>Portuguese Red</td>\n",
              "      <td>Quinta dos Avidagos</td>\n",
              "    </tr>\n",
              "    <tr>\n",
              "      <th>2</th>\n",
              "      <td>US</td>\n",
              "      <td>Tart and snappy, the flavors of lime flesh and...</td>\n",
              "      <td>NaN</td>\n",
              "      <td>87</td>\n",
              "      <td>14.0</td>\n",
              "      <td>Oregon</td>\n",
              "      <td>Willamette Valley</td>\n",
              "      <td>Willamette Valley</td>\n",
              "      <td>Paul Gregutt</td>\n",
              "      <td>@paulgwine</td>\n",
              "      <td>Rainstorm 2013 Pinot Gris (Willamette Valley)</td>\n",
              "      <td>Pinot Gris</td>\n",
              "      <td>Rainstorm</td>\n",
              "    </tr>\n",
              "    <tr>\n",
              "      <th>3</th>\n",
              "      <td>US</td>\n",
              "      <td>Pineapple rind, lemon pith and orange blossom ...</td>\n",
              "      <td>Reserve Late Harvest</td>\n",
              "      <td>87</td>\n",
              "      <td>13.0</td>\n",
              "      <td>Michigan</td>\n",
              "      <td>Lake Michigan Shore</td>\n",
              "      <td>NaN</td>\n",
              "      <td>Alexander Peartree</td>\n",
              "      <td>NaN</td>\n",
              "      <td>St. Julian 2013 Reserve Late Harvest Riesling ...</td>\n",
              "      <td>Riesling</td>\n",
              "      <td>St. Julian</td>\n",
              "    </tr>\n",
              "    <tr>\n",
              "      <th>4</th>\n",
              "      <td>US</td>\n",
              "      <td>Much like the regular bottling from 2012, this...</td>\n",
              "      <td>Vintner's Reserve Wild Child Block</td>\n",
              "      <td>87</td>\n",
              "      <td>65.0</td>\n",
              "      <td>Oregon</td>\n",
              "      <td>Willamette Valley</td>\n",
              "      <td>Willamette Valley</td>\n",
              "      <td>Paul Gregutt</td>\n",
              "      <td>@paulgwine</td>\n",
              "      <td>Sweet Cheeks 2012 Vintner's Reserve Wild Child...</td>\n",
              "      <td>Pinot Noir</td>\n",
              "      <td>Sweet Cheeks</td>\n",
              "    </tr>\n",
              "  </tbody>\n",
              "</table>\n",
              "</div>"
            ]
          },
          "metadata": {
            "tags": []
          },
          "execution_count": 61
        }
      ]
    },
    {
      "cell_type": "code",
      "metadata": {
        "trusted": true,
        "id": "_nLVR9XeWUsf",
        "outputId": "5963e574-ea59-4b14-b893-f23606a8c4dd"
      },
      "source": [
        "# kolumna \"description\"\n",
        "desc = reviews[\"description\"]\n",
        "type(desc)\n",
        "desc"
      ],
      "execution_count": null,
      "outputs": [
        {
          "output_type": "execute_result",
          "data": {
            "text/plain": [
              "0         Aromas include tropical fruit, broom, brimston...\n",
              "1         This is ripe and fruity, a wine that is smooth...\n",
              "                                ...                        \n",
              "129969    A dry style of Pinot Gris, this is crisp with ...\n",
              "129970    Big, rich and off-dry, this is powered by inte...\n",
              "Name: description, Length: 129971, dtype: object"
            ]
          },
          "metadata": {
            "tags": []
          },
          "execution_count": 64
        }
      ]
    },
    {
      "cell_type": "code",
      "metadata": {
        "trusted": true,
        "id": "1KyqxpvMWUsg",
        "outputId": "2022c71c-7a94-4cf6-a3a5-e63383e32222"
      },
      "source": [
        "# pierwsza wartość kolumny \"description\"\n",
        "first_description = reviews.description.iloc[0]\n",
        "\n",
        "first_description"
      ],
      "execution_count": null,
      "outputs": [
        {
          "output_type": "execute_result",
          "data": {
            "text/plain": [
              "\"Aromas include tropical fruit, broom, brimstone and dried herb. The palate isn't overly expressive, offering unripened apple, citrus and dried sage alongside brisk acidity.\""
            ]
          },
          "metadata": {
            "tags": []
          },
          "execution_count": 65
        }
      ]
    },
    {
      "cell_type": "code",
      "metadata": {
        "trusted": true,
        "id": "oiBLa4OyWUsg",
        "outputId": "c1f826dd-0d49-4ef0-9fb0-80d244918c12"
      },
      "source": [
        "# pierwszy wiersz pliku\n",
        "first_row = reviews.iloc[0]\n",
        "\n",
        "first_row"
      ],
      "execution_count": null,
      "outputs": [
        {
          "output_type": "execute_result",
          "data": {
            "text/plain": [
              "country                                                    Italy\n",
              "description    Aromas include tropical fruit, broom, brimston...\n",
              "                                     ...                        \n",
              "variety                                              White Blend\n",
              "winery                                                   Nicosia\n",
              "Name: 0, Length: 13, dtype: object"
            ]
          },
          "metadata": {
            "tags": []
          },
          "execution_count": 66
        }
      ]
    },
    {
      "cell_type": "code",
      "metadata": {
        "trusted": true,
        "id": "6VCsb418WUsh",
        "outputId": "44c8cc13-9ea1-4e32-bd5e-9d35d05aa85e"
      },
      "source": [
        "# pierwsze 10 wartości kolumny \"description\"\n",
        "first_descriptions = reviews.description.iloc[:10]\n",
        "\n",
        "first_descriptions"
      ],
      "execution_count": null,
      "outputs": [
        {
          "output_type": "execute_result",
          "data": {
            "text/plain": [
              "0    Aromas include tropical fruit, broom, brimston...\n",
              "1    This is ripe and fruity, a wine that is smooth...\n",
              "                           ...                        \n",
              "8    Savory dried thyme notes accent sunnier flavor...\n",
              "9    This has great depth of flavor with its fresh ...\n",
              "Name: description, Length: 10, dtype: object"
            ]
          },
          "metadata": {
            "tags": []
          },
          "execution_count": 67
        }
      ]
    },
    {
      "cell_type": "markdown",
      "metadata": {
        "id": "EUEdnrErWUsi"
      },
      "source": [
        "wyświetl następującą tabele\n",
        "![](https://i.imgur.com/sHZvI1O.png)"
      ]
    },
    {
      "cell_type": "code",
      "metadata": {
        "trusted": true,
        "id": "Yn-9zfbMWUsj",
        "outputId": "376eb877-ac40-4b94-af4c-60f2c3f0b7ce"
      },
      "source": [
        "# rekordy 1, 2, 3, 5, i 8\n",
        "indices = [1, 2, 3, 5, 8]\n",
        "sample_reviews = reviews.loc[indices]\n",
        "\n",
        "sample_reviews"
      ],
      "execution_count": null,
      "outputs": [
        {
          "output_type": "execute_result",
          "data": {
            "text/plain": [
              "    country                                        description  \\\n",
              "1  Portugal  This is ripe and fruity, a wine that is smooth...   \n",
              "2        US  Tart and snappy, the flavors of lime flesh and...   \n",
              "3        US  Pineapple rind, lemon pith and orange blossom ...   \n",
              "5     Spain  Blackberry and raspberry aromas show a typical...   \n",
              "8   Germany  Savory dried thyme notes accent sunnier flavor...   \n",
              "\n",
              "            designation  points  price        province             region_1  \\\n",
              "1              Avidagos      87   15.0           Douro                  NaN   \n",
              "2                   NaN      87   14.0          Oregon    Willamette Valley   \n",
              "3  Reserve Late Harvest      87   13.0        Michigan  Lake Michigan Shore   \n",
              "5          Ars In Vitro      87   15.0  Northern Spain              Navarra   \n",
              "8                 Shine      87   12.0     Rheinhessen                  NaN   \n",
              "\n",
              "            region_2         taster_name taster_twitter_handle  \\\n",
              "1                NaN          Roger Voss            @vossroger   \n",
              "2  Willamette Valley        Paul Gregutt           @paulgwine    \n",
              "3                NaN  Alexander Peartree                   NaN   \n",
              "5                NaN   Michael Schachner           @wineschach   \n",
              "8                NaN  Anna Lee C. Iijima                   NaN   \n",
              "\n",
              "                                               title             variety  \\\n",
              "1      Quinta dos Avidagos 2011 Avidagos Red (Douro)      Portuguese Red   \n",
              "2      Rainstorm 2013 Pinot Gris (Willamette Valley)          Pinot Gris   \n",
              "3  St. Julian 2013 Reserve Late Harvest Riesling ...            Riesling   \n",
              "5  Tandem 2011 Ars In Vitro Tempranillo-Merlot (N...  Tempranillo-Merlot   \n",
              "8  Heinz Eifel 2013 Shine Gewürztraminer (Rheinhe...      Gewürztraminer   \n",
              "\n",
              "                winery  \n",
              "1  Quinta dos Avidagos  \n",
              "2            Rainstorm  \n",
              "3           St. Julian  \n",
              "5               Tandem  \n",
              "8          Heinz Eifel  "
            ],
            "text/html": [
              "<div>\n",
              "<style scoped>\n",
              "    .dataframe tbody tr th:only-of-type {\n",
              "        vertical-align: middle;\n",
              "    }\n",
              "\n",
              "    .dataframe tbody tr th {\n",
              "        vertical-align: top;\n",
              "    }\n",
              "\n",
              "    .dataframe thead th {\n",
              "        text-align: right;\n",
              "    }\n",
              "</style>\n",
              "<table border=\"1\" class=\"dataframe\">\n",
              "  <thead>\n",
              "    <tr style=\"text-align: right;\">\n",
              "      <th></th>\n",
              "      <th>country</th>\n",
              "      <th>description</th>\n",
              "      <th>designation</th>\n",
              "      <th>points</th>\n",
              "      <th>price</th>\n",
              "      <th>province</th>\n",
              "      <th>region_1</th>\n",
              "      <th>region_2</th>\n",
              "      <th>taster_name</th>\n",
              "      <th>taster_twitter_handle</th>\n",
              "      <th>title</th>\n",
              "      <th>variety</th>\n",
              "      <th>winery</th>\n",
              "    </tr>\n",
              "  </thead>\n",
              "  <tbody>\n",
              "    <tr>\n",
              "      <th>1</th>\n",
              "      <td>Portugal</td>\n",
              "      <td>This is ripe and fruity, a wine that is smooth...</td>\n",
              "      <td>Avidagos</td>\n",
              "      <td>87</td>\n",
              "      <td>15.0</td>\n",
              "      <td>Douro</td>\n",
              "      <td>NaN</td>\n",
              "      <td>NaN</td>\n",
              "      <td>Roger Voss</td>\n",
              "      <td>@vossroger</td>\n",
              "      <td>Quinta dos Avidagos 2011 Avidagos Red (Douro)</td>\n",
              "      <td>Portuguese Red</td>\n",
              "      <td>Quinta dos Avidagos</td>\n",
              "    </tr>\n",
              "    <tr>\n",
              "      <th>2</th>\n",
              "      <td>US</td>\n",
              "      <td>Tart and snappy, the flavors of lime flesh and...</td>\n",
              "      <td>NaN</td>\n",
              "      <td>87</td>\n",
              "      <td>14.0</td>\n",
              "      <td>Oregon</td>\n",
              "      <td>Willamette Valley</td>\n",
              "      <td>Willamette Valley</td>\n",
              "      <td>Paul Gregutt</td>\n",
              "      <td>@paulgwine</td>\n",
              "      <td>Rainstorm 2013 Pinot Gris (Willamette Valley)</td>\n",
              "      <td>Pinot Gris</td>\n",
              "      <td>Rainstorm</td>\n",
              "    </tr>\n",
              "    <tr>\n",
              "      <th>3</th>\n",
              "      <td>US</td>\n",
              "      <td>Pineapple rind, lemon pith and orange blossom ...</td>\n",
              "      <td>Reserve Late Harvest</td>\n",
              "      <td>87</td>\n",
              "      <td>13.0</td>\n",
              "      <td>Michigan</td>\n",
              "      <td>Lake Michigan Shore</td>\n",
              "      <td>NaN</td>\n",
              "      <td>Alexander Peartree</td>\n",
              "      <td>NaN</td>\n",
              "      <td>St. Julian 2013 Reserve Late Harvest Riesling ...</td>\n",
              "      <td>Riesling</td>\n",
              "      <td>St. Julian</td>\n",
              "    </tr>\n",
              "    <tr>\n",
              "      <th>5</th>\n",
              "      <td>Spain</td>\n",
              "      <td>Blackberry and raspberry aromas show a typical...</td>\n",
              "      <td>Ars In Vitro</td>\n",
              "      <td>87</td>\n",
              "      <td>15.0</td>\n",
              "      <td>Northern Spain</td>\n",
              "      <td>Navarra</td>\n",
              "      <td>NaN</td>\n",
              "      <td>Michael Schachner</td>\n",
              "      <td>@wineschach</td>\n",
              "      <td>Tandem 2011 Ars In Vitro Tempranillo-Merlot (N...</td>\n",
              "      <td>Tempranillo-Merlot</td>\n",
              "      <td>Tandem</td>\n",
              "    </tr>\n",
              "    <tr>\n",
              "      <th>8</th>\n",
              "      <td>Germany</td>\n",
              "      <td>Savory dried thyme notes accent sunnier flavor...</td>\n",
              "      <td>Shine</td>\n",
              "      <td>87</td>\n",
              "      <td>12.0</td>\n",
              "      <td>Rheinhessen</td>\n",
              "      <td>NaN</td>\n",
              "      <td>NaN</td>\n",
              "      <td>Anna Lee C. Iijima</td>\n",
              "      <td>NaN</td>\n",
              "      <td>Heinz Eifel 2013 Shine Gewürztraminer (Rheinhe...</td>\n",
              "      <td>Gewürztraminer</td>\n",
              "      <td>Heinz Eifel</td>\n",
              "    </tr>\n",
              "  </tbody>\n",
              "</table>\n",
              "</div>"
            ]
          },
          "metadata": {
            "tags": []
          },
          "execution_count": 70
        }
      ]
    },
    {
      "cell_type": "markdown",
      "metadata": {
        "id": "JMpTtrVpWUsk"
      },
      "source": [
        "wyświetl następującą tabele\n",
        "\n",
        "\n",
        "![](https://i.imgur.com/FUCGiKP.png)"
      ]
    },
    {
      "cell_type": "code",
      "metadata": {
        "trusted": true,
        "id": "USnio0iRWUsk",
        "outputId": "90cb9871-7aef-4b20-890e-7649bc4e76fa"
      },
      "source": [
        "# kolumny: country, province, region_1, region_2\n",
        "cols = ['country', 'province', 'region_1', 'region_2']\n",
        "# wiersze: 0, 1, 10 i 100\n",
        "indices = [0, 1, 10, 100]\n",
        "df = reviews.loc[indices, cols]\n",
        "\n",
        "df"
      ],
      "execution_count": null,
      "outputs": [
        {
          "output_type": "execute_result",
          "data": {
            "text/plain": [
              "      country           province      region_1      region_2\n",
              "0       Italy  Sicily & Sardinia          Etna           NaN\n",
              "1    Portugal              Douro           NaN           NaN\n",
              "10         US         California   Napa Valley          Napa\n",
              "100        US           New York  Finger Lakes  Finger Lakes"
            ],
            "text/html": [
              "<div>\n",
              "<style scoped>\n",
              "    .dataframe tbody tr th:only-of-type {\n",
              "        vertical-align: middle;\n",
              "    }\n",
              "\n",
              "    .dataframe tbody tr th {\n",
              "        vertical-align: top;\n",
              "    }\n",
              "\n",
              "    .dataframe thead th {\n",
              "        text-align: right;\n",
              "    }\n",
              "</style>\n",
              "<table border=\"1\" class=\"dataframe\">\n",
              "  <thead>\n",
              "    <tr style=\"text-align: right;\">\n",
              "      <th></th>\n",
              "      <th>country</th>\n",
              "      <th>province</th>\n",
              "      <th>region_1</th>\n",
              "      <th>region_2</th>\n",
              "    </tr>\n",
              "  </thead>\n",
              "  <tbody>\n",
              "    <tr>\n",
              "      <th>0</th>\n",
              "      <td>Italy</td>\n",
              "      <td>Sicily &amp; Sardinia</td>\n",
              "      <td>Etna</td>\n",
              "      <td>NaN</td>\n",
              "    </tr>\n",
              "    <tr>\n",
              "      <th>1</th>\n",
              "      <td>Portugal</td>\n",
              "      <td>Douro</td>\n",
              "      <td>NaN</td>\n",
              "      <td>NaN</td>\n",
              "    </tr>\n",
              "    <tr>\n",
              "      <th>10</th>\n",
              "      <td>US</td>\n",
              "      <td>California</td>\n",
              "      <td>Napa Valley</td>\n",
              "      <td>Napa</td>\n",
              "    </tr>\n",
              "    <tr>\n",
              "      <th>100</th>\n",
              "      <td>US</td>\n",
              "      <td>New York</td>\n",
              "      <td>Finger Lakes</td>\n",
              "      <td>Finger Lakes</td>\n",
              "    </tr>\n",
              "  </tbody>\n",
              "</table>\n",
              "</div>"
            ]
          },
          "metadata": {
            "tags": []
          },
          "execution_count": 71
        }
      ]
    },
    {
      "cell_type": "code",
      "metadata": {
        "trusted": true,
        "id": "f9v78hw1WUsl",
        "outputId": "658f4947-9e1e-41c8-b9df-0f20a7e6475c"
      },
      "source": [
        "# 100 wierszy w formacie country, variety\n",
        "cols = ['country', 'variety']\n",
        "df = reviews.loc[:99, cols]\n",
        "\n",
        "df"
      ],
      "execution_count": null,
      "outputs": [
        {
          "output_type": "execute_result",
          "data": {
            "text/plain": [
              "     country                   variety\n",
              "0      Italy               White Blend\n",
              "1   Portugal            Portuguese Red\n",
              "..       ...                       ...\n",
              "98     Italy                Sangiovese\n",
              "99        US  Bordeaux-style Red Blend\n",
              "\n",
              "[100 rows x 2 columns]"
            ],
            "text/html": [
              "<div>\n",
              "<style scoped>\n",
              "    .dataframe tbody tr th:only-of-type {\n",
              "        vertical-align: middle;\n",
              "    }\n",
              "\n",
              "    .dataframe tbody tr th {\n",
              "        vertical-align: top;\n",
              "    }\n",
              "\n",
              "    .dataframe thead th {\n",
              "        text-align: right;\n",
              "    }\n",
              "</style>\n",
              "<table border=\"1\" class=\"dataframe\">\n",
              "  <thead>\n",
              "    <tr style=\"text-align: right;\">\n",
              "      <th></th>\n",
              "      <th>country</th>\n",
              "      <th>variety</th>\n",
              "    </tr>\n",
              "  </thead>\n",
              "  <tbody>\n",
              "    <tr>\n",
              "      <th>0</th>\n",
              "      <td>Italy</td>\n",
              "      <td>White Blend</td>\n",
              "    </tr>\n",
              "    <tr>\n",
              "      <th>1</th>\n",
              "      <td>Portugal</td>\n",
              "      <td>Portuguese Red</td>\n",
              "    </tr>\n",
              "    <tr>\n",
              "      <th>...</th>\n",
              "      <td>...</td>\n",
              "      <td>...</td>\n",
              "    </tr>\n",
              "    <tr>\n",
              "      <th>98</th>\n",
              "      <td>Italy</td>\n",
              "      <td>Sangiovese</td>\n",
              "    </tr>\n",
              "    <tr>\n",
              "      <th>99</th>\n",
              "      <td>US</td>\n",
              "      <td>Bordeaux-style Red Blend</td>\n",
              "    </tr>\n",
              "  </tbody>\n",
              "</table>\n",
              "<p>100 rows × 2 columns</p>\n",
              "</div>"
            ]
          },
          "metadata": {
            "tags": []
          },
          "execution_count": 72
        }
      ]
    },
    {
      "cell_type": "code",
      "metadata": {
        "trusted": true,
        "id": "uWq4pjd6WUsl",
        "outputId": "5d3c9ea0-e362-4f23-b38a-e0890ba64663"
      },
      "source": [
        "# wina wyprodukowane we Włoszech\n",
        "italian_wines = reviews[reviews.country == 'Italy']\n",
        "\n",
        "italian_wines"
      ],
      "execution_count": null,
      "outputs": [
        {
          "output_type": "execute_result",
          "data": {
            "text/plain": [
              "       country                                        description  \\\n",
              "0        Italy  Aromas include tropical fruit, broom, brimston...   \n",
              "6        Italy  Here's a bright, informal red that opens with ...   \n",
              "...        ...                                                ...   \n",
              "129961   Italy  Intense aromas of wild cherry, baking spice, t...   \n",
              "129962   Italy  Blackberry, cassis, grilled herb and toasted a...   \n",
              "\n",
              "                      designation  points  price           province  region_1  \\\n",
              "0                    Vulkà Bianco      87    NaN  Sicily & Sardinia      Etna   \n",
              "6                         Belsito      87   16.0  Sicily & Sardinia  Vittoria   \n",
              "...                           ...     ...    ...                ...       ...   \n",
              "129961                        NaN      90   30.0  Sicily & Sardinia   Sicilia   \n",
              "129962  Sàgana Tenuta San Giacomo      90   40.0  Sicily & Sardinia   Sicilia   \n",
              "\n",
              "       region_2    taster_name taster_twitter_handle  \\\n",
              "0           NaN  Kerin O’Keefe          @kerinokeefe   \n",
              "6           NaN  Kerin O’Keefe          @kerinokeefe   \n",
              "...         ...            ...                   ...   \n",
              "129961      NaN  Kerin O’Keefe          @kerinokeefe   \n",
              "129962      NaN  Kerin O’Keefe          @kerinokeefe   \n",
              "\n",
              "                                                    title       variety  \\\n",
              "0                       Nicosia 2013 Vulkà Bianco  (Etna)   White Blend   \n",
              "6        Terre di Giurfo 2013 Belsito Frappato (Vittoria)      Frappato   \n",
              "...                                                   ...           ...   \n",
              "129961                        COS 2013 Frappato (Sicilia)      Frappato   \n",
              "129962  Cusumano 2012 Sàgana Tenuta San Giacomo Nero d...  Nero d'Avola   \n",
              "\n",
              "                 winery  \n",
              "0               Nicosia  \n",
              "6       Terre di Giurfo  \n",
              "...                 ...  \n",
              "129961              COS  \n",
              "129962         Cusumano  \n",
              "\n",
              "[19540 rows x 13 columns]"
            ],
            "text/html": [
              "<div>\n",
              "<style scoped>\n",
              "    .dataframe tbody tr th:only-of-type {\n",
              "        vertical-align: middle;\n",
              "    }\n",
              "\n",
              "    .dataframe tbody tr th {\n",
              "        vertical-align: top;\n",
              "    }\n",
              "\n",
              "    .dataframe thead th {\n",
              "        text-align: right;\n",
              "    }\n",
              "</style>\n",
              "<table border=\"1\" class=\"dataframe\">\n",
              "  <thead>\n",
              "    <tr style=\"text-align: right;\">\n",
              "      <th></th>\n",
              "      <th>country</th>\n",
              "      <th>description</th>\n",
              "      <th>designation</th>\n",
              "      <th>points</th>\n",
              "      <th>price</th>\n",
              "      <th>province</th>\n",
              "      <th>region_1</th>\n",
              "      <th>region_2</th>\n",
              "      <th>taster_name</th>\n",
              "      <th>taster_twitter_handle</th>\n",
              "      <th>title</th>\n",
              "      <th>variety</th>\n",
              "      <th>winery</th>\n",
              "    </tr>\n",
              "  </thead>\n",
              "  <tbody>\n",
              "    <tr>\n",
              "      <th>0</th>\n",
              "      <td>Italy</td>\n",
              "      <td>Aromas include tropical fruit, broom, brimston...</td>\n",
              "      <td>Vulkà Bianco</td>\n",
              "      <td>87</td>\n",
              "      <td>NaN</td>\n",
              "      <td>Sicily &amp; Sardinia</td>\n",
              "      <td>Etna</td>\n",
              "      <td>NaN</td>\n",
              "      <td>Kerin O’Keefe</td>\n",
              "      <td>@kerinokeefe</td>\n",
              "      <td>Nicosia 2013 Vulkà Bianco  (Etna)</td>\n",
              "      <td>White Blend</td>\n",
              "      <td>Nicosia</td>\n",
              "    </tr>\n",
              "    <tr>\n",
              "      <th>6</th>\n",
              "      <td>Italy</td>\n",
              "      <td>Here's a bright, informal red that opens with ...</td>\n",
              "      <td>Belsito</td>\n",
              "      <td>87</td>\n",
              "      <td>16.0</td>\n",
              "      <td>Sicily &amp; Sardinia</td>\n",
              "      <td>Vittoria</td>\n",
              "      <td>NaN</td>\n",
              "      <td>Kerin O’Keefe</td>\n",
              "      <td>@kerinokeefe</td>\n",
              "      <td>Terre di Giurfo 2013 Belsito Frappato (Vittoria)</td>\n",
              "      <td>Frappato</td>\n",
              "      <td>Terre di Giurfo</td>\n",
              "    </tr>\n",
              "    <tr>\n",
              "      <th>...</th>\n",
              "      <td>...</td>\n",
              "      <td>...</td>\n",
              "      <td>...</td>\n",
              "      <td>...</td>\n",
              "      <td>...</td>\n",
              "      <td>...</td>\n",
              "      <td>...</td>\n",
              "      <td>...</td>\n",
              "      <td>...</td>\n",
              "      <td>...</td>\n",
              "      <td>...</td>\n",
              "      <td>...</td>\n",
              "      <td>...</td>\n",
              "    </tr>\n",
              "    <tr>\n",
              "      <th>129961</th>\n",
              "      <td>Italy</td>\n",
              "      <td>Intense aromas of wild cherry, baking spice, t...</td>\n",
              "      <td>NaN</td>\n",
              "      <td>90</td>\n",
              "      <td>30.0</td>\n",
              "      <td>Sicily &amp; Sardinia</td>\n",
              "      <td>Sicilia</td>\n",
              "      <td>NaN</td>\n",
              "      <td>Kerin O’Keefe</td>\n",
              "      <td>@kerinokeefe</td>\n",
              "      <td>COS 2013 Frappato (Sicilia)</td>\n",
              "      <td>Frappato</td>\n",
              "      <td>COS</td>\n",
              "    </tr>\n",
              "    <tr>\n",
              "      <th>129962</th>\n",
              "      <td>Italy</td>\n",
              "      <td>Blackberry, cassis, grilled herb and toasted a...</td>\n",
              "      <td>Sàgana Tenuta San Giacomo</td>\n",
              "      <td>90</td>\n",
              "      <td>40.0</td>\n",
              "      <td>Sicily &amp; Sardinia</td>\n",
              "      <td>Sicilia</td>\n",
              "      <td>NaN</td>\n",
              "      <td>Kerin O’Keefe</td>\n",
              "      <td>@kerinokeefe</td>\n",
              "      <td>Cusumano 2012 Sàgana Tenuta San Giacomo Nero d...</td>\n",
              "      <td>Nero d'Avola</td>\n",
              "      <td>Cusumano</td>\n",
              "    </tr>\n",
              "  </tbody>\n",
              "</table>\n",
              "<p>19540 rows × 13 columns</p>\n",
              "</div>"
            ]
          },
          "metadata": {
            "tags": []
          },
          "execution_count": 73
        }
      ]
    },
    {
      "cell_type": "code",
      "metadata": {
        "trusted": true,
        "id": "Jer3W010WUsm",
        "outputId": "44b38c21-d4a6-4e29-d309-45ff3d5881cd"
      },
      "source": [
        "# wina z Australi i Nowej Zelandii >= 95 punktów\n",
        "top_oceania_wines = reviews.loc[(reviews.country.isin(['Australia', 'New Zealand']))&(reviews.points >= 95)]\n",
        "\n",
        "top_oceania_wines"
      ],
      "execution_count": null,
      "outputs": [
        {
          "output_type": "execute_result",
          "data": {
            "text/plain": [
              "            country                                        description  \\\n",
              "345       Australia  This wine contains some material over 100 year...   \n",
              "346       Australia  This deep brown wine smells like a damp, mossy...   \n",
              "...             ...                                                ...   \n",
              "122507  New Zealand  This blend of Cabernet Sauvignon (62.5%), Merl...   \n",
              "122939    Australia  Full-bodied and plush yet vibrant and imbued w...   \n",
              "\n",
              "                                  designation  points  price         province  \\\n",
              "345                                      Rare     100  350.0         Victoria   \n",
              "346                                      Rare      98  350.0         Victoria   \n",
              "...                                       ...     ...    ...              ...   \n",
              "122507  SQM Gimblett Gravels Cabernets/Merlot      95   79.0      Hawke's Bay   \n",
              "122939                             The Factor      98  125.0  South Australia   \n",
              "\n",
              "              region_1 region_2     taster_name taster_twitter_handle  \\\n",
              "345         Rutherglen      NaN  Joe Czerwinski                @JoeCz   \n",
              "346         Rutherglen      NaN  Joe Czerwinski                @JoeCz   \n",
              "...                ...      ...             ...                   ...   \n",
              "122507             NaN      NaN  Joe Czerwinski                @JoeCz   \n",
              "122939  Barossa Valley      NaN  Joe Czerwinski                @JoeCz   \n",
              "\n",
              "                                                    title  \\\n",
              "345     Chambers Rosewood Vineyards NV Rare Muscat (Ru...   \n",
              "346     Chambers Rosewood Vineyards NV Rare Muscadelle...   \n",
              "...                                                   ...   \n",
              "122507  Squawking Magpie 2014 SQM Gimblett Gravels Cab...   \n",
              "122939   Torbreck 2013 The Factor Shiraz (Barossa Valley)   \n",
              "\n",
              "                         variety                       winery  \n",
              "345                       Muscat  Chambers Rosewood Vineyards  \n",
              "346                   Muscadelle  Chambers Rosewood Vineyards  \n",
              "...                          ...                          ...  \n",
              "122507  Bordeaux-style Red Blend             Squawking Magpie  \n",
              "122939                    Shiraz                     Torbreck  \n",
              "\n",
              "[49 rows x 13 columns]"
            ],
            "text/html": [
              "<div>\n",
              "<style scoped>\n",
              "    .dataframe tbody tr th:only-of-type {\n",
              "        vertical-align: middle;\n",
              "    }\n",
              "\n",
              "    .dataframe tbody tr th {\n",
              "        vertical-align: top;\n",
              "    }\n",
              "\n",
              "    .dataframe thead th {\n",
              "        text-align: right;\n",
              "    }\n",
              "</style>\n",
              "<table border=\"1\" class=\"dataframe\">\n",
              "  <thead>\n",
              "    <tr style=\"text-align: right;\">\n",
              "      <th></th>\n",
              "      <th>country</th>\n",
              "      <th>description</th>\n",
              "      <th>designation</th>\n",
              "      <th>points</th>\n",
              "      <th>price</th>\n",
              "      <th>province</th>\n",
              "      <th>region_1</th>\n",
              "      <th>region_2</th>\n",
              "      <th>taster_name</th>\n",
              "      <th>taster_twitter_handle</th>\n",
              "      <th>title</th>\n",
              "      <th>variety</th>\n",
              "      <th>winery</th>\n",
              "    </tr>\n",
              "  </thead>\n",
              "  <tbody>\n",
              "    <tr>\n",
              "      <th>345</th>\n",
              "      <td>Australia</td>\n",
              "      <td>This wine contains some material over 100 year...</td>\n",
              "      <td>Rare</td>\n",
              "      <td>100</td>\n",
              "      <td>350.0</td>\n",
              "      <td>Victoria</td>\n",
              "      <td>Rutherglen</td>\n",
              "      <td>NaN</td>\n",
              "      <td>Joe Czerwinski</td>\n",
              "      <td>@JoeCz</td>\n",
              "      <td>Chambers Rosewood Vineyards NV Rare Muscat (Ru...</td>\n",
              "      <td>Muscat</td>\n",
              "      <td>Chambers Rosewood Vineyards</td>\n",
              "    </tr>\n",
              "    <tr>\n",
              "      <th>346</th>\n",
              "      <td>Australia</td>\n",
              "      <td>This deep brown wine smells like a damp, mossy...</td>\n",
              "      <td>Rare</td>\n",
              "      <td>98</td>\n",
              "      <td>350.0</td>\n",
              "      <td>Victoria</td>\n",
              "      <td>Rutherglen</td>\n",
              "      <td>NaN</td>\n",
              "      <td>Joe Czerwinski</td>\n",
              "      <td>@JoeCz</td>\n",
              "      <td>Chambers Rosewood Vineyards NV Rare Muscadelle...</td>\n",
              "      <td>Muscadelle</td>\n",
              "      <td>Chambers Rosewood Vineyards</td>\n",
              "    </tr>\n",
              "    <tr>\n",
              "      <th>...</th>\n",
              "      <td>...</td>\n",
              "      <td>...</td>\n",
              "      <td>...</td>\n",
              "      <td>...</td>\n",
              "      <td>...</td>\n",
              "      <td>...</td>\n",
              "      <td>...</td>\n",
              "      <td>...</td>\n",
              "      <td>...</td>\n",
              "      <td>...</td>\n",
              "      <td>...</td>\n",
              "      <td>...</td>\n",
              "      <td>...</td>\n",
              "    </tr>\n",
              "    <tr>\n",
              "      <th>122507</th>\n",
              "      <td>New Zealand</td>\n",
              "      <td>This blend of Cabernet Sauvignon (62.5%), Merl...</td>\n",
              "      <td>SQM Gimblett Gravels Cabernets/Merlot</td>\n",
              "      <td>95</td>\n",
              "      <td>79.0</td>\n",
              "      <td>Hawke's Bay</td>\n",
              "      <td>NaN</td>\n",
              "      <td>NaN</td>\n",
              "      <td>Joe Czerwinski</td>\n",
              "      <td>@JoeCz</td>\n",
              "      <td>Squawking Magpie 2014 SQM Gimblett Gravels Cab...</td>\n",
              "      <td>Bordeaux-style Red Blend</td>\n",
              "      <td>Squawking Magpie</td>\n",
              "    </tr>\n",
              "    <tr>\n",
              "      <th>122939</th>\n",
              "      <td>Australia</td>\n",
              "      <td>Full-bodied and plush yet vibrant and imbued w...</td>\n",
              "      <td>The Factor</td>\n",
              "      <td>98</td>\n",
              "      <td>125.0</td>\n",
              "      <td>South Australia</td>\n",
              "      <td>Barossa Valley</td>\n",
              "      <td>NaN</td>\n",
              "      <td>Joe Czerwinski</td>\n",
              "      <td>@JoeCz</td>\n",
              "      <td>Torbreck 2013 The Factor Shiraz (Barossa Valley)</td>\n",
              "      <td>Shiraz</td>\n",
              "      <td>Torbreck</td>\n",
              "    </tr>\n",
              "  </tbody>\n",
              "</table>\n",
              "<p>49 rows × 13 columns</p>\n",
              "</div>"
            ]
          },
          "metadata": {
            "tags": []
          },
          "execution_count": 74
        }
      ]
    },
    {
      "cell_type": "markdown",
      "metadata": {
        "id": "1U1Rwiu-WUsm"
      },
      "source": [
        "# Lekcja 3\n",
        "Podczas tej lekcji pracowaliśmy z zestawem danych Wine Reviews, poznaliśmy funkcje podsumowujące i mapujące."
      ]
    },
    {
      "cell_type": "code",
      "metadata": {
        "trusted": true,
        "id": "p2mnwphUWUsn",
        "outputId": "22e0bf22-3fce-4a10-d881-e7b0a3336109"
      },
      "source": [
        "import pandas as pd\n",
        "pd.set_option(\"display.max_rows\", 5)\n",
        "reviews = pd.read_csv(\"../input/wine-reviews/winemag-data-130k-v2.csv\", index_col=0)\n",
        "\n",
        "from learntools.core import binder; binder.bind(globals())\n",
        "from learntools.pandas.summary_functions_and_maps import *\n",
        "print(\"Setup complete.\")\n",
        "\n",
        "reviews.head()"
      ],
      "execution_count": null,
      "outputs": [
        {
          "output_type": "stream",
          "text": [
            "Setup complete.\n"
          ],
          "name": "stdout"
        },
        {
          "output_type": "execute_result",
          "data": {
            "text/plain": [
              "    country                                        description  \\\n",
              "0     Italy  Aromas include tropical fruit, broom, brimston...   \n",
              "1  Portugal  This is ripe and fruity, a wine that is smooth...   \n",
              "2        US  Tart and snappy, the flavors of lime flesh and...   \n",
              "3        US  Pineapple rind, lemon pith and orange blossom ...   \n",
              "4        US  Much like the regular bottling from 2012, this...   \n",
              "\n",
              "                          designation  points  price           province  \\\n",
              "0                        Vulkà Bianco      87    NaN  Sicily & Sardinia   \n",
              "1                            Avidagos      87   15.0              Douro   \n",
              "2                                 NaN      87   14.0             Oregon   \n",
              "3                Reserve Late Harvest      87   13.0           Michigan   \n",
              "4  Vintner's Reserve Wild Child Block      87   65.0             Oregon   \n",
              "\n",
              "              region_1           region_2         taster_name  \\\n",
              "0                 Etna                NaN       Kerin O’Keefe   \n",
              "1                  NaN                NaN          Roger Voss   \n",
              "2    Willamette Valley  Willamette Valley        Paul Gregutt   \n",
              "3  Lake Michigan Shore                NaN  Alexander Peartree   \n",
              "4    Willamette Valley  Willamette Valley        Paul Gregutt   \n",
              "\n",
              "  taster_twitter_handle                                              title  \\\n",
              "0          @kerinokeefe                  Nicosia 2013 Vulkà Bianco  (Etna)   \n",
              "1            @vossroger      Quinta dos Avidagos 2011 Avidagos Red (Douro)   \n",
              "2           @paulgwine       Rainstorm 2013 Pinot Gris (Willamette Valley)   \n",
              "3                   NaN  St. Julian 2013 Reserve Late Harvest Riesling ...   \n",
              "4           @paulgwine   Sweet Cheeks 2012 Vintner's Reserve Wild Child...   \n",
              "\n",
              "          variety               winery  \n",
              "0     White Blend              Nicosia  \n",
              "1  Portuguese Red  Quinta dos Avidagos  \n",
              "2      Pinot Gris            Rainstorm  \n",
              "3        Riesling           St. Julian  \n",
              "4      Pinot Noir         Sweet Cheeks  "
            ],
            "text/html": [
              "<div>\n",
              "<style scoped>\n",
              "    .dataframe tbody tr th:only-of-type {\n",
              "        vertical-align: middle;\n",
              "    }\n",
              "\n",
              "    .dataframe tbody tr th {\n",
              "        vertical-align: top;\n",
              "    }\n",
              "\n",
              "    .dataframe thead th {\n",
              "        text-align: right;\n",
              "    }\n",
              "</style>\n",
              "<table border=\"1\" class=\"dataframe\">\n",
              "  <thead>\n",
              "    <tr style=\"text-align: right;\">\n",
              "      <th></th>\n",
              "      <th>country</th>\n",
              "      <th>description</th>\n",
              "      <th>designation</th>\n",
              "      <th>points</th>\n",
              "      <th>price</th>\n",
              "      <th>province</th>\n",
              "      <th>region_1</th>\n",
              "      <th>region_2</th>\n",
              "      <th>taster_name</th>\n",
              "      <th>taster_twitter_handle</th>\n",
              "      <th>title</th>\n",
              "      <th>variety</th>\n",
              "      <th>winery</th>\n",
              "    </tr>\n",
              "  </thead>\n",
              "  <tbody>\n",
              "    <tr>\n",
              "      <th>0</th>\n",
              "      <td>Italy</td>\n",
              "      <td>Aromas include tropical fruit, broom, brimston...</td>\n",
              "      <td>Vulkà Bianco</td>\n",
              "      <td>87</td>\n",
              "      <td>NaN</td>\n",
              "      <td>Sicily &amp; Sardinia</td>\n",
              "      <td>Etna</td>\n",
              "      <td>NaN</td>\n",
              "      <td>Kerin O’Keefe</td>\n",
              "      <td>@kerinokeefe</td>\n",
              "      <td>Nicosia 2013 Vulkà Bianco  (Etna)</td>\n",
              "      <td>White Blend</td>\n",
              "      <td>Nicosia</td>\n",
              "    </tr>\n",
              "    <tr>\n",
              "      <th>1</th>\n",
              "      <td>Portugal</td>\n",
              "      <td>This is ripe and fruity, a wine that is smooth...</td>\n",
              "      <td>Avidagos</td>\n",
              "      <td>87</td>\n",
              "      <td>15.0</td>\n",
              "      <td>Douro</td>\n",
              "      <td>NaN</td>\n",
              "      <td>NaN</td>\n",
              "      <td>Roger Voss</td>\n",
              "      <td>@vossroger</td>\n",
              "      <td>Quinta dos Avidagos 2011 Avidagos Red (Douro)</td>\n",
              "      <td>Portuguese Red</td>\n",
              "      <td>Quinta dos Avidagos</td>\n",
              "    </tr>\n",
              "    <tr>\n",
              "      <th>2</th>\n",
              "      <td>US</td>\n",
              "      <td>Tart and snappy, the flavors of lime flesh and...</td>\n",
              "      <td>NaN</td>\n",
              "      <td>87</td>\n",
              "      <td>14.0</td>\n",
              "      <td>Oregon</td>\n",
              "      <td>Willamette Valley</td>\n",
              "      <td>Willamette Valley</td>\n",
              "      <td>Paul Gregutt</td>\n",
              "      <td>@paulgwine</td>\n",
              "      <td>Rainstorm 2013 Pinot Gris (Willamette Valley)</td>\n",
              "      <td>Pinot Gris</td>\n",
              "      <td>Rainstorm</td>\n",
              "    </tr>\n",
              "    <tr>\n",
              "      <th>3</th>\n",
              "      <td>US</td>\n",
              "      <td>Pineapple rind, lemon pith and orange blossom ...</td>\n",
              "      <td>Reserve Late Harvest</td>\n",
              "      <td>87</td>\n",
              "      <td>13.0</td>\n",
              "      <td>Michigan</td>\n",
              "      <td>Lake Michigan Shore</td>\n",
              "      <td>NaN</td>\n",
              "      <td>Alexander Peartree</td>\n",
              "      <td>NaN</td>\n",
              "      <td>St. Julian 2013 Reserve Late Harvest Riesling ...</td>\n",
              "      <td>Riesling</td>\n",
              "      <td>St. Julian</td>\n",
              "    </tr>\n",
              "    <tr>\n",
              "      <th>4</th>\n",
              "      <td>US</td>\n",
              "      <td>Much like the regular bottling from 2012, this...</td>\n",
              "      <td>Vintner's Reserve Wild Child Block</td>\n",
              "      <td>87</td>\n",
              "      <td>65.0</td>\n",
              "      <td>Oregon</td>\n",
              "      <td>Willamette Valley</td>\n",
              "      <td>Willamette Valley</td>\n",
              "      <td>Paul Gregutt</td>\n",
              "      <td>@paulgwine</td>\n",
              "      <td>Sweet Cheeks 2012 Vintner's Reserve Wild Child...</td>\n",
              "      <td>Pinot Noir</td>\n",
              "      <td>Sweet Cheeks</td>\n",
              "    </tr>\n",
              "  </tbody>\n",
              "</table>\n",
              "</div>"
            ]
          },
          "metadata": {
            "tags": []
          },
          "execution_count": 75
        }
      ]
    },
    {
      "cell_type": "code",
      "metadata": {
        "trusted": true,
        "id": "uWUXemyLWUsn",
        "outputId": "592830f3-5cb1-4124-a620-b0465d643e50"
      },
      "source": [
        "#mediana punktów\n",
        "median_points = reviews.points.median()\n",
        "\n",
        "median_points"
      ],
      "execution_count": null,
      "outputs": [
        {
          "output_type": "execute_result",
          "data": {
            "text/plain": [
              "88.0"
            ]
          },
          "metadata": {
            "tags": []
          },
          "execution_count": 77
        }
      ]
    },
    {
      "cell_type": "code",
      "metadata": {
        "trusted": true,
        "id": "odu8nxOQWUso",
        "outputId": "0a820371-607b-414d-a35c-e3dd2f9f3952"
      },
      "source": [
        "# unikalne kraje w pliku csv (bez powtórzeń)\n",
        "countries = reviews.country.unique()\n",
        "\n",
        "countries"
      ],
      "execution_count": null,
      "outputs": [
        {
          "output_type": "execute_result",
          "data": {
            "text/plain": [
              "array(['Italy', 'Portugal', 'US', 'Spain', 'France', 'Germany',\n",
              "       'Argentina', 'Chile', 'Australia', 'Austria', 'South Africa',\n",
              "       'New Zealand', 'Israel', 'Hungary', 'Greece', 'Romania', 'Mexico',\n",
              "       'Canada', nan, 'Turkey', 'Czech Republic', 'Slovenia',\n",
              "       'Luxembourg', 'Croatia', 'Georgia', 'Uruguay', 'England',\n",
              "       'Lebanon', 'Serbia', 'Brazil', 'Moldova', 'Morocco', 'Peru',\n",
              "       'India', 'Bulgaria', 'Cyprus', 'Armenia', 'Switzerland',\n",
              "       'Bosnia and Herzegovina', 'Ukraine', 'Slovakia', 'Macedonia',\n",
              "       'China', 'Egypt'], dtype=object)"
            ]
          },
          "metadata": {
            "tags": []
          },
          "execution_count": 78
        }
      ]
    },
    {
      "cell_type": "code",
      "metadata": {
        "trusted": true,
        "id": "VQdJynw2WUso",
        "outputId": "ffae14a6-a97d-42d5-8e13-13fbcf4d23ed"
      },
      "source": [
        "# ilość recencji na dany kraj\n",
        "reviews_per_country = reviews.country.value_counts()\n",
        "\n",
        "reviews_per_country"
      ],
      "execution_count": null,
      "outputs": [
        {
          "output_type": "execute_result",
          "data": {
            "text/plain": [
              "US        54504\n",
              "France    22093\n",
              "          ...  \n",
              "Egypt         1\n",
              "China         1\n",
              "Name: country, Length: 43, dtype: int64"
            ]
          },
          "metadata": {
            "tags": []
          },
          "execution_count": 79
        }
      ]
    },
    {
      "cell_type": "code",
      "metadata": {
        "trusted": true,
        "id": "JSOPjpZKWUso",
        "outputId": "40db1446-6d4d-40d8-8d3f-2b1077a738a2"
      },
      "source": [
        "# cena minus średnia cena\n",
        "centered_price = reviews.price - reviews.price.mean()\n",
        "\n",
        "centered_price"
      ],
      "execution_count": null,
      "outputs": [
        {
          "output_type": "execute_result",
          "data": {
            "text/plain": [
              "0               NaN\n",
              "1        -20.363389\n",
              "            ...    \n",
              "129969    -3.363389\n",
              "129970   -14.363389\n",
              "Name: price, Length: 129971, dtype: float64"
            ]
          },
          "metadata": {
            "tags": []
          },
          "execution_count": 80
        }
      ]
    },
    {
      "cell_type": "code",
      "metadata": {
        "trusted": true,
        "id": "_tABPx_GWUsp",
        "outputId": "01bcdcfa-a837-4d89-eaec-8268b6088062"
      },
      "source": [
        "# wino o najlepszym stosunku punkty/cena\n",
        "bargain_idx = (reviews.points / reviews.price).idxmax()\n",
        "bargain_wine = reviews.loc[bargain_idx, 'title']\n",
        "\n",
        "bargain_wine"
      ],
      "execution_count": null,
      "outputs": [
        {
          "output_type": "execute_result",
          "data": {
            "text/plain": [
              "'Bandit NV Merlot (California)'"
            ]
          },
          "metadata": {
            "tags": []
          },
          "execution_count": 81
        }
      ]
    },
    {
      "cell_type": "code",
      "metadata": {
        "trusted": true,
        "id": "n1EIp9lwWUsq",
        "outputId": "a7d90d70-eb84-440e-af21-710d9222eb8e"
      },
      "source": [
        "# ilość win tropikalnych i owocowych\n",
        "n_trop = reviews.description.map(lambda desc: \"tropical\" in desc).sum()\n",
        "n_fruity = reviews.description.map(lambda desc: \"fruity\" in desc).sum()\n",
        "descriptor_counts = pd.Series([n_trop, n_fruity], index=['tropical', 'fruity'])\n",
        "\n",
        "descriptor_counts"
      ],
      "execution_count": null,
      "outputs": [
        {
          "output_type": "execute_result",
          "data": {
            "text/plain": [
              "tropical    3607\n",
              "fruity      9090\n",
              "dtype: int64"
            ]
          },
          "metadata": {
            "tags": []
          },
          "execution_count": 82
        }
      ]
    },
    {
      "cell_type": "code",
      "metadata": {
        "trusted": true,
        "id": "_r2hDQvzWUsr",
        "outputId": "070587ca-8b35-48a8-91fb-e61ea375f61b"
      },
      "source": [
        "# system oceny 3 gwiazdkowej \n",
        "# 3* => wino >= 95 lub z Kanady\n",
        "# 2* => wino >=85 i <95\n",
        "# 1* => pozostałe\n",
        "\n",
        "def stars(row):\n",
        "    if row.country == 'Canada':\n",
        "        return 3\n",
        "    elif row.points >= 95:\n",
        "        return 3\n",
        "    elif row.points >= 85 and row.points <95:\n",
        "        return 2\n",
        "    else:\n",
        "        return 1\n",
        "\n",
        "star_ratings = reviews.apply(stars, axis='columns')\n",
        "\n",
        "star_ratings"
      ],
      "execution_count": null,
      "outputs": [
        {
          "output_type": "execute_result",
          "data": {
            "text/plain": [
              "0         2\n",
              "1         2\n",
              "         ..\n",
              "129969    2\n",
              "129970    2\n",
              "Length: 129971, dtype: int64"
            ]
          },
          "metadata": {
            "tags": []
          },
          "execution_count": 87
        }
      ]
    },
    {
      "cell_type": "markdown",
      "metadata": {
        "id": "hqTfwF8nUBgb"
      },
      "source": [
        "# Lekcja 4\r\n",
        "Podczas tej lekcji pracowaliśmy z zestawem danych Wine Reviews, poznaliśmy funkcje grupujące i sortujące."
      ]
    },
    {
      "cell_type": "code",
      "metadata": {
        "id": "sjfVxAbCUFDV"
      },
      "source": [
        "import pandas as pd\r\n",
        "\r\n",
        "reviews = pd.read_csv(\"../input/wine-reviews/winemag-data-130k-v2.csv\", index_col=0)\r\n",
        "#pd.set_option(\"display.max_rows\", 5)\r\n",
        "\r\n",
        "from learntools.core import binder; binder.bind(globals())\r\n",
        "from learntools.pandas.grouping_and_sorting import *\r\n",
        "print(\"Setup complete.\")"
      ],
      "execution_count": null,
      "outputs": []
    },
    {
      "cell_type": "markdown",
      "metadata": {
        "id": "kodLrzQvUHSA"
      },
      "source": [
        "Setup complete."
      ]
    },
    {
      "cell_type": "markdown",
      "metadata": {
        "id": "Lf-CBVocUeak"
      },
      "source": [
        "liczba recenzji napisanych przez daną osobę"
      ]
    },
    {
      "cell_type": "code",
      "metadata": {
        "id": "qnmYKY0TUkXH"
      },
      "source": [
        "reviews_written = reviews.groupby('taster_twitter_handle').size()\r\n",
        "\r\n",
        "reviews_written"
      ],
      "execution_count": null,
      "outputs": []
    },
    {
      "cell_type": "markdown",
      "metadata": {
        "id": "z2fwxUAhYVxn"
      },
      "source": [
        "![bbb.jpg](data:image/jpeg;base64,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)"
      ]
    },
    {
      "cell_type": "markdown",
      "metadata": {
        "id": "h1okaf1CVTBt"
      },
      "source": [
        "najlepsze wino w danej cenie"
      ]
    },
    {
      "cell_type": "code",
      "metadata": {
        "id": "DQgA2EfrUJH7"
      },
      "source": [
        "best_rating_per_price = reviews.groupby('price')['points'].max().sort_index()\r\n",
        "\r\n",
        "best_rating_per_price"
      ],
      "execution_count": null,
      "outputs": []
    },
    {
      "cell_type": "markdown",
      "metadata": {
        "id": "brfEzzt_Yilw"
      },
      "source": [
        "![ddd.jpg](data:image/jpeg;base64,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)"
      ]
    },
    {
      "cell_type": "markdown",
      "metadata": {
        "id": "xU7Q9GSCVq77"
      },
      "source": [
        "najniższa i najwyższa cena za daną odmiane wina"
      ]
    },
    {
      "cell_type": "code",
      "metadata": {
        "id": "_RubKYBHVw9Y"
      },
      "source": [
        "price_extremes = reviews.groupby('variety').price.agg([min, max])\r\n",
        "\r\n",
        "price_extremes"
      ],
      "execution_count": null,
      "outputs": []
    },
    {
      "cell_type": "markdown",
      "metadata": {
        "id": "5OplsXfaVzHP"
      },
      "source": [
        "![zzz.jpg](data:image/jpeg;base64,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)"
      ]
    },
    {
      "cell_type": "markdown",
      "metadata": {
        "id": "n7oKeSIMWC1M"
      },
      "source": [
        "najdroższe odmiany wina"
      ]
    },
    {
      "cell_type": "code",
      "metadata": {
        "id": "Lije3KieWUoV"
      },
      "source": [
        "sorted_varieties = price_extremes.sort_values(by=['min', 'max'], ascending=False)\r\n",
        "\r\n",
        "sorted_varieties"
      ],
      "execution_count": null,
      "outputs": []
    },
    {
      "cell_type": "markdown",
      "metadata": {
        "id": "T_FD--WDWWnx"
      },
      "source": [
        "![aaa.jpg](data:image/jpeg;base64,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)"
      ]
    },
    {
      "cell_type": "markdown",
      "metadata": {
        "id": "en2tsJfyWgkK"
      },
      "source": [
        "Srednia liczba punktów przyznawana przez recenzenta"
      ]
    },
    {
      "cell_type": "code",
      "metadata": {
        "id": "w8F5zP9RWvF9"
      },
      "source": [
        "reviewer_mean_ratings = reviews.groupby('taster_name').points.mean()\r\n",
        "\r\n",
        "reviewer_mean_ratings"
      ],
      "execution_count": null,
      "outputs": []
    },
    {
      "cell_type": "markdown",
      "metadata": {
        "id": "_GGaUeoQY86o"
      },
      "source": [
        "![eee.jpg](data:image/jpeg;base64,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)"
      ]
    },
    {
      "cell_type": "markdown",
      "metadata": {
        "id": "86itPO9WW6QC"
      },
      "source": [
        "pozostałe dane na temat punktów recenzentów"
      ]
    },
    {
      "cell_type": "code",
      "metadata": {
        "id": "EKQE0yBzXW3_"
      },
      "source": [
        "reviewer_mean_ratings.describe()"
      ],
      "execution_count": null,
      "outputs": []
    },
    {
      "cell_type": "markdown",
      "metadata": {
        "id": "HSEv9KjuZIbf"
      },
      "source": [
        "![fff.jpg](data:image/jpeg;base64,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)"
      ]
    },
    {
      "cell_type": "markdown",
      "metadata": {
        "id": "dSBzt_cIXdYn"
      },
      "source": [
        "ilość danego połączenia: państwo+odmiana"
      ]
    },
    {
      "cell_type": "code",
      "metadata": {
        "id": "qjVteBHgX8hN"
      },
      "source": [
        "country_variety_counts = reviews.groupby(['country', 'variety']).size().sort_values(ascending=False)\r\n",
        "\r\n",
        "country_variety_counts"
      ],
      "execution_count": null,
      "outputs": []
    },
    {
      "cell_type": "markdown",
      "metadata": {
        "id": "hgbbVBROZXrS"
      },
      "source": [
        "![ggg.jpg](data:image/jpeg;base64,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)"
      ]
    },
    {
      "cell_type": "markdown",
      "metadata": {
        "id": "RJe26Na0Zhs1"
      },
      "source": [
        ""
      ]
    }
  ]
}