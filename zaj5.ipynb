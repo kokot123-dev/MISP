{
  "nbformat": 4,
  "nbformat_minor": 0,
  "metadata": {
    "colab": {
      "name": "zaj5.ipynb",
      "provenance": [],
      "collapsed_sections": [],
      "include_colab_link": true
    },
    "kernelspec": {
      "name": "python3",
      "display_name": "Python 3"
    }
  },
  "cells": [
    {
      "cell_type": "markdown",
      "metadata": {
        "id": "view-in-github",
        "colab_type": "text"
      },
      "source": [
        "<a href=\"https://colab.research.google.com/github/kokot123-dev/MISP/blob/main/zaj5.ipynb\" target=\"_parent\"><img src=\"https://colab.research.google.com/assets/colab-badge.svg\" alt=\"Open In Colab\"/></a>"
      ]
    },
    {
      "cell_type": "code",
      "metadata": {
        "id": "2WE-5yPza0GZ",
        "colab": {
          "base_uri": "https://localhost:8080/"
        },
        "outputId": "b51dfeb5-ddf6-4b7a-d969-ab47ad16a20e"
      },
      "source": [
        "!pip install pulp\n",
        "\n",
        "!sudo apt-get install coinor-cbc glpk-utils coinor-clp"
      ],
      "execution_count": 2,
      "outputs": [
        {
          "output_type": "stream",
          "text": [
            "Collecting pulp\n",
            "\u001b[?25l  Downloading https://files.pythonhosted.org/packages/89/0c/6d80f5f81a92d1733cc5ca180491b8a3cd5839e335627a0046c81b7d3d3d/PuLP-2.3.1-py3-none-any.whl (40.6MB)\n",
            "\u001b[K     |████████████████████████████████| 40.6MB 98kB/s \n",
            "\u001b[?25hCollecting amply>=0.1.2\n",
            "  Downloading https://files.pythonhosted.org/packages/f3/c5/dfa09dd2595a2ab2ab4e6fa7bebef9565812722e1980d04b0edce5032066/amply-0.1.4-py3-none-any.whl\n",
            "Requirement already satisfied: docutils>=0.3 in /usr/local/lib/python3.6/dist-packages (from amply>=0.1.2->pulp) (0.16)\n",
            "Requirement already satisfied: pyparsing in /usr/local/lib/python3.6/dist-packages (from amply>=0.1.2->pulp) (2.4.7)\n",
            "Installing collected packages: amply, pulp\n",
            "Successfully installed amply-0.1.4 pulp-2.3.1\n",
            "Reading package lists... Done\n",
            "Building dependency tree       \n",
            "Reading state information... Done\n",
            "The following additional packages will be installed:\n",
            "  coinor-libcbc3 coinor-libcgl1 coinor-libclp1 coinor-libcoinutils3v5\n",
            "  coinor-libosi1v5 libamd2 libcolamd2 libglpk40 libsuitesparseconfig5\n",
            "Suggested packages:\n",
            "  libiodbc2-dev default-libmysqlclient-dev\n",
            "The following NEW packages will be installed:\n",
            "  coinor-cbc coinor-clp coinor-libcbc3 coinor-libcgl1 coinor-libclp1\n",
            "  coinor-libcoinutils3v5 coinor-libosi1v5 glpk-utils libamd2 libcolamd2\n",
            "  libglpk40 libsuitesparseconfig5\n",
            "0 upgraded, 12 newly installed, 0 to remove and 14 not upgraded.\n",
            "Need to get 3,439 kB of archives.\n",
            "After this operation, 9,832 kB of additional disk space will be used.\n",
            "Get:1 http://archive.ubuntu.com/ubuntu bionic/main amd64 libsuitesparseconfig5 amd64 1:5.1.2-2 [9,044 B]\n",
            "Get:2 http://archive.ubuntu.com/ubuntu bionic/main amd64 libamd2 amd64 1:5.1.2-2 [19.5 kB]\n",
            "Get:3 http://archive.ubuntu.com/ubuntu bionic/main amd64 libcolamd2 amd64 1:5.1.2-2 [16.2 kB]\n",
            "Get:4 http://archive.ubuntu.com/ubuntu bionic/universe amd64 libglpk40 amd64 4.65-1 [378 kB]\n",
            "Get:5 http://archive.ubuntu.com/ubuntu bionic/universe amd64 glpk-utils amd64 4.65-1 [269 kB]\n",
            "Get:6 http://archive.ubuntu.com/ubuntu bionic/universe amd64 coinor-libcoinutils3v5 amd64 2.10.14+repack1-1 [472 kB]\n",
            "Get:7 http://archive.ubuntu.com/ubuntu bionic/universe amd64 coinor-libosi1v5 amd64 0.107.9+repack1-1 [270 kB]\n",
            "Get:8 http://archive.ubuntu.com/ubuntu bionic/universe amd64 coinor-libclp1 amd64 1.16.11+repack1-1 [863 kB]\n",
            "Get:9 http://archive.ubuntu.com/ubuntu bionic/universe amd64 coinor-libcgl1 amd64 0.59.10+repack1-1 [433 kB]\n",
            "Get:10 http://archive.ubuntu.com/ubuntu bionic/universe amd64 coinor-libcbc3 amd64 2.9.9+repack1-1 [687 kB]\n",
            "Get:11 http://archive.ubuntu.com/ubuntu bionic/universe amd64 coinor-cbc amd64 2.9.9+repack1-1 [11.2 kB]\n",
            "Get:12 http://archive.ubuntu.com/ubuntu bionic/universe amd64 coinor-clp amd64 1.16.11+repack1-1 [9,646 B]\n",
            "Fetched 3,439 kB in 1s (2,320 kB/s)\n",
            "debconf: unable to initialize frontend: Dialog\n",
            "debconf: (No usable dialog-like program is installed, so the dialog based frontend cannot be used. at /usr/share/perl5/Debconf/FrontEnd/Dialog.pm line 76, <> line 12.)\n",
            "debconf: falling back to frontend: Readline\n",
            "debconf: unable to initialize frontend: Readline\n",
            "debconf: (This frontend requires a controlling tty.)\n",
            "debconf: falling back to frontend: Teletype\n",
            "dpkg-preconfigure: unable to re-open stdin: \n",
            "Selecting previously unselected package libsuitesparseconfig5:amd64.\n",
            "(Reading database ... 144793 files and directories currently installed.)\n",
            "Preparing to unpack .../00-libsuitesparseconfig5_1%3a5.1.2-2_amd64.deb ...\n",
            "Unpacking libsuitesparseconfig5:amd64 (1:5.1.2-2) ...\n",
            "Selecting previously unselected package libamd2:amd64.\n",
            "Preparing to unpack .../01-libamd2_1%3a5.1.2-2_amd64.deb ...\n",
            "Unpacking libamd2:amd64 (1:5.1.2-2) ...\n",
            "Selecting previously unselected package libcolamd2:amd64.\n",
            "Preparing to unpack .../02-libcolamd2_1%3a5.1.2-2_amd64.deb ...\n",
            "Unpacking libcolamd2:amd64 (1:5.1.2-2) ...\n",
            "Selecting previously unselected package libglpk40:amd64.\n",
            "Preparing to unpack .../03-libglpk40_4.65-1_amd64.deb ...\n",
            "Unpacking libglpk40:amd64 (4.65-1) ...\n",
            "Selecting previously unselected package glpk-utils.\n",
            "Preparing to unpack .../04-glpk-utils_4.65-1_amd64.deb ...\n",
            "Unpacking glpk-utils (4.65-1) ...\n",
            "Selecting previously unselected package coinor-libcoinutils3v5.\n",
            "Preparing to unpack .../05-coinor-libcoinutils3v5_2.10.14+repack1-1_amd64.deb ...\n",
            "Unpacking coinor-libcoinutils3v5 (2.10.14+repack1-1) ...\n",
            "Selecting previously unselected package coinor-libosi1v5.\n",
            "Preparing to unpack .../06-coinor-libosi1v5_0.107.9+repack1-1_amd64.deb ...\n",
            "Unpacking coinor-libosi1v5 (0.107.9+repack1-1) ...\n",
            "Selecting previously unselected package coinor-libclp1.\n",
            "Preparing to unpack .../07-coinor-libclp1_1.16.11+repack1-1_amd64.deb ...\n",
            "Unpacking coinor-libclp1 (1.16.11+repack1-1) ...\n",
            "Selecting previously unselected package coinor-libcgl1.\n",
            "Preparing to unpack .../08-coinor-libcgl1_0.59.10+repack1-1_amd64.deb ...\n",
            "Unpacking coinor-libcgl1 (0.59.10+repack1-1) ...\n",
            "Selecting previously unselected package coinor-libcbc3.\n",
            "Preparing to unpack .../09-coinor-libcbc3_2.9.9+repack1-1_amd64.deb ...\n",
            "Unpacking coinor-libcbc3 (2.9.9+repack1-1) ...\n",
            "Selecting previously unselected package coinor-cbc.\n",
            "Preparing to unpack .../10-coinor-cbc_2.9.9+repack1-1_amd64.deb ...\n",
            "Unpacking coinor-cbc (2.9.9+repack1-1) ...\n",
            "Selecting previously unselected package coinor-clp.\n",
            "Preparing to unpack .../11-coinor-clp_1.16.11+repack1-1_amd64.deb ...\n",
            "Unpacking coinor-clp (1.16.11+repack1-1) ...\n",
            "Setting up libsuitesparseconfig5:amd64 (1:5.1.2-2) ...\n",
            "Setting up libcolamd2:amd64 (1:5.1.2-2) ...\n",
            "Setting up coinor-libcoinutils3v5 (2.10.14+repack1-1) ...\n",
            "Setting up coinor-libosi1v5 (0.107.9+repack1-1) ...\n",
            "Setting up coinor-libclp1 (1.16.11+repack1-1) ...\n",
            "Setting up libamd2:amd64 (1:5.1.2-2) ...\n",
            "Setting up coinor-libcgl1 (0.59.10+repack1-1) ...\n",
            "Setting up libglpk40:amd64 (4.65-1) ...\n",
            "Setting up coinor-clp (1.16.11+repack1-1) ...\n",
            "Setting up coinor-libcbc3 (2.9.9+repack1-1) ...\n",
            "Setting up glpk-utils (4.65-1) ...\n",
            "Setting up coinor-cbc (2.9.9+repack1-1) ...\n",
            "Processing triggers for man-db (2.8.3-2ubuntu0.1) ...\n",
            "Processing triggers for libc-bin (2.27-3ubuntu1.2) ...\n",
            "/sbin/ldconfig.real: /usr/local/lib/python3.6/dist-packages/ideep4py/lib/libmkldnn.so.0 is not a symbolic link\n",
            "\n"
          ],
          "name": "stdout"
        }
      ]
    },
    {
      "cell_type": "markdown",
      "metadata": {
        "id": "pAkxttO03o_g"
      },
      "source": [
        "# **PROBLEM**\n",
        "\n",
        "Dobrać wartości rezystorów aby zminimalizować wartość mocy."
      ]
    },
    {
      "cell_type": "markdown",
      "metadata": {
        "id": "B1cPbVHM4c0Q"
      },
      "source": [
        "![Adnotacja 2020-11-30 165932.jpg](data:image/jpeg;base64,/9j/4AAQSkZJRgABAQEAYABgAAD/2wBDAAMCAgMCAgMDAwMEAwMEBQgFBQQEBQoHBwYIDAoMDAsKCwsNDhIQDQ4RDgsLEBYQERMUFRUVDA8XGBYUGBIUFRT/2wBDAQMEBAUEBQkFBQkUDQsNFBQUFBQUFBQUFBQUFBQUFBQUFBQUFBQUFBQUFBQUFBQUFBQUFBQUFBQUFBQUFBQUFBT/wAARCADpAjADASIAAhEBAxEB/8QAHwAAAQUBAQEBAQEAAAAAAAAAAAECAwQFBgcICQoL/8QAtRAAAgEDAwIEAwUFBAQAAAF9AQIDAAQRBRIhMUEGE1FhByJxFDKBkaEII0KxwRVS0fAkM2JyggkKFhcYGRolJicoKSo0NTY3ODk6Q0RFRkdISUpTVFVWV1hZWmNkZWZnaGlqc3R1dnd4eXqDhIWGh4iJipKTlJWWl5iZmqKjpKWmp6ipqrKztLW2t7i5usLDxMXGx8jJytLT1NXW19jZ2uHi4+Tl5ufo6erx8vP09fb3+Pn6/8QAHwEAAwEBAQEBAQEBAQAAAAAAAAECAwQFBgcICQoL/8QAtREAAgECBAQDBAcFBAQAAQJ3AAECAxEEBSExBhJBUQdhcRMiMoEIFEKRobHBCSMzUvAVYnLRChYkNOEl8RcYGRomJygpKjU2Nzg5OkNERUZHSElKU1RVVldYWVpjZGVmZ2hpanN0dXZ3eHl6goOEhYaHiImKkpOUlZaXmJmaoqOkpaanqKmqsrO0tba3uLm6wsPExcbHyMnK0tPU1dbX2Nna4uPk5ebn6Onq8vP09fb3+Pn6/9oADAMBAAIRAxEAPwD9U6KRelLQAUUUUAFFFFABRRRQAUUUUAFFFFABRRRQAUUUUAFFFFABRRRQAUUUUAFFFFABRRRQAUUUUAFFFFABRRRQAUUUUAFFFFABRRRQAUUUUAFFFFABRRRQAUUUUAFFFFABRRRQAUUUUAFFFFABRRRQAUUUUAFFFFABRRRQAUUUUAFFFFABRRSbqAFooooARelLSL0paACiiigAooooAKKKKACiiigAooooAKKKKACiiigAooooAKKKKACiiigAooooAKKKKAErE8ReMtM8LeQt9K/nTnEUEKF5HxjOAPrW3XCeGbePUPHnijVZgJLi1ljsYCwyY0EYZsemSxrKcmrKO7O7C0oT56lW7jFXsuuqSV/mWLj4taJYSQrfxahpiTHakt5ZvGpP1IrodG8S6Z4htxPpt9BeRE43RODg+hHUVyfxC1rXrfba6Jon2t41+0NfXKqYYsA8rk8t/KptN8I+HvGmi6frUumxwXd1DHOZ7cmKUMVz95SPU1gp1Ofl3/A76mHw3sI1mnG/ZqX3rRq/r8juM0tcV8P57my1TxBoE93PfxaXNH5FxcNufZIu4Izdyv8AIiu1rphLnjzHlYii6FTkbvs/k1dfgzL8QeJNO8L2Ju9SuVtoc7V3cl2PRVA5J+lV/Cvi618X2slzZ215DApG2S6hMYkBzyh7jipfEWl219atcTWsdxc2qPJbM6Bij7TyPesz4Xxwx+AdEWCUzJ9nDM5bcd7ElufZiRU80vacvSx0ezo/VHUs+e6Xl1e3y/qx1VFFVtS+1nT7gWHki82HyftGfL3dt2OcfStTgSu7FjNNWVXztIYA4ODXlmtaL8UtWk8ldS0myhYctZsy/hlkLD8Kn+GXgfxX4Jumgu76wutNnkea4A3vKXKgBgxA7gZz71zKtJzUVB27nsSwFKFB1XiIuXSKv+dt/I9N3e1c3D8QdKl8XXHh1mkhv4sbWkUCOQ7QxVTnqAw4rpM4rzPTdAtfHlv4teVygk1WRbW6h4eJ440QSKfYg/kadWcotKG5hg6NGpGpKveyS1XRtr7+uh6VJMsKM7sFRRlmY4AHrTLK+ttStY7m0uI7m3kGUlhcMrc44I965Dwb4kvLq4uPDniGJY9ZtYwSw5jvIunmLx9Mj3/AbPhXUoL61vYrWzSygsryazWOMAKdjckAAYyc8VpGpGSRlVws6PMmtra9LPZr1N2o7idLWCSaRgkcal3ZjgAAZJp/UV5L46t/GEl1NHqCmbwl5jGZdIX/AEkw5PD5OTx1x6Uqk/Zq9isHhViqnI5qPr18l3fZHpPh3XrfxNottqdqkiW9wCUWZQrcEjkAn0rSrL8M32nahoNjPpDRtprRAQeUMKFHGAO2MYx7VqVcXdJnLWio1JRStZvR7ryZkXHiazt/ElrojeYb25hedML8oVTg5Oeta9cP8RpH0O90PxIuDDp85iuVPH7qYqhbP+ydprt1bcoNTGV5SizatSjGlTqR6p39U/8AKwtFJmlrQ5ArI8SeKLHwtZpc3rMFkkWJEjXczsxwAB3ql461K8s9IMGlX9lZazcHba/bXChyCNwUHqcH+VcR4LtbWTxXHH4na7k8UwjfbjUJ1kjZeu6AKAvY9BniuapV5ZKEep62FwcalJ4io9I9F8T8/Tu9bHrVZviDXI/D9il1JG0qtNHDtTGcu4UHn3IrSrlPibIIfDUcrnbHHe2rMx6ACZOa1qScYNo48LTVavCnLZtI6yim56VWt9Ttru5ubeG4jlntyFmjRwWjJGRuHbIrQ5rN6oTVNWtdFs2u7yZYLdWVWkboMkAfqRVpWDcjpXn3xm8P3mseE9Smg1S5tYobV91rCqkSsOQSSDjFT2dsfD1vFr0/iq8utGS080w3Wwq2QCCGAHGOAMdSOa5/aSU3G2i6nqxwdOeHjVU/ebatZ76WW27ubXibxxp/he+0u0uizT6hMIo1THygkDe2egBIrekmSGNpJHWONRlmY4AHqTXldj4Rn+IWk69rWqRNb3mqweXp8MvW2hX5oz7Ethj/APXrpND8T2GtfDtb/WVXyI4fJv45FL7XX5XBCgnrz070qdVybctE9jSvg6cIRVO7lF2lbXV7W/Feq8zsY5VmVXRgyMMhgcgj1p9VtPWBbG3FqFW2EaiJVGAFxxj8Ks107njNWdirqd+NMsZrpoZrhYl3GO3jMkjeyqOSanjkEkaOAwDDOGGD+Iqvqt8ul6dc3jRSTLBE0pjiALNgZwMnrXNap8UNE0zQdO1Ge5a3XUog9qrRksc45IHYZGaiU4x+JnVRw9WukqUG23bT+vmdhUbTxrIIy6iRuQmRk/hXnfgHx9qfiDWJLO6ks9RtwhIvNNt5RCGHYyPgHvwBWVJeS6h8ZIrxmbZaXP8AZscZHABgd2b8T/KsnWjZSWutjvjldRVKlOq7csXL/JdD12uP8YazqtprWkabp97Y6eL3zD513E0hyg3EAAgdPU1u3HiXS7Oxa8mv7eO0WTymmMg2h84259c1yfxJ0vSPEmiadq19fMulWcgnZ7dDIJo2+XaMdjkciqqN8r5TnwVNe3j7Ze67ra+ttNOrvbQkgs/FutQr5fijSltCcG406zLSHB5AZnZc/hXbwgrGqsxZgMFj3964P4Q6ekOl6pfW8Bs9OvrxpLS227VSJQFBA7Zxmu+FFLWKkPH+5WdHS0eyS9b27bCr0paRelLWx5gUUUUAFFFFABRRRQAUUUUAFFFFABRRRQAUUUUAFFFFABRRRQAUUUUAFFFFABRRRQAVwevaXq3h3xLNr+jW39pW9yiJe6chCyNtziRCeC2OMHrXeU3bUSjzI6aFd0JN2umrNPZo4W8+JGn3mm3FtNZ6vptxKjxbZNPdnjY5GeAVJH1NcV4F0x/B9wY9BtfE2uNklftxFtZqD/Dtb0OTwO9e4YoxXPKhKUlJy1XkelTzCnRpypU6btLdOWj+5J/icx4A8P3Oh6XPNqG06rfzvdXRXoGY8ID6KMCuopAMUtdEYqEeVHlVq0q9R1J7s5jxV4nv9G1CysrDRJtXkuUd28qQRhFUgdSMZOeASOlYfgabVPDOlwaU3h/UpIVmYpK5hURozZAOHOcZ6969Co3VDpty5uZ/h/kdUcVCNH2Xs0+7u9XrZ79LlHXNQfSdFv75IvOe2t5JhFnG4qpOM++Kk0u+Gpafa3agbZ4llG05HIB61NcQR3UMkMqh45FKsp6EHqDWL4N8Nv4T0o6d9ukvrdJGNv5iBTFGeicdcevvWmt/I54+zdF3fvXXzRvZ5oopao5zn/HPhu48W6BJplvqEmmmVl3zRrklQeV6jr/Suc0P4O22i2ccaa1qyzqzN50F0YxyScbOVxz+deh0VjKlCUuZrU7qeOxFGl7GnK0b36bnIaX4BfT/ABJb6tLrN7f+RC8McV3tYgMcn5gAT0HUViW/h3xTHcXelxLHYaZPqst8+pQ3OJWieQv5YUDIPOCc9jXpNJR7KOyNI4+sr81pbbra17du73MnWrG+u2tfIvRbRJdRSSItqJWdBnchJPy5JU7gMjb78ZvizwleatImoaZqlxp+rQJtj+cm3kAOdrx5wc9M9frXU0VpKKkrM46NadGanDc8n8Bs1n4wkgeV9Av5d0l9orIDBcvjHnQN2GcEjmvWBWJ4o8Iaf4rtFivUZZI23Q3MLbJYW9VbtWxbxGGFELtIVUDe/VsDqfeop0/Zqx143EQxUo1Fo7Wa9Oz3fz1W12UfEmjp4g0G/wBOk+5cwtHn0yOD+dU/BLar/wAI5axa1brBfwKIXKyBxJtAG/jpn0rdNCjFXyq/McqrP2TotaXv6f8AD/ocl42u7nStZ8MXyTyrafbvstxAr7VcSoVVmHfawHHvXWjpTZIUmxvVXwcjcM4PrTulCWrYTqKUIRtqr/PW5Q1rQNO8RWv2bUrOG9h7LKoOPceh+led6/8ACu9sX09tGvLm7sLW4Eo0+aYLJByOYZSMqOvynIxXqlFRKlCTu1qdGGx1fC/A9Oz2/wCB6qzGoOKpa9ott4i0e6027Utb3CFG29R7j3FX6K0aTVmccZShJTi7NFWwszY2MFu00tyYkCGaYgu+BjLEdzXPeH9N1HT/ABj4jmltUj067aKWKfzAWdhGqkbR0HXr6V1VFFtjSFaUFNWvzKz+9P8AQZJCk8bJIodHGGVhkEHqCKwtc8B6L4is7S0vbPda2oIhhido0UHAxhSBjgY9K6GihxUlZomnWqUZKVOTTXY49fhT4dj2iO3uYgvTy72ZcfTDcVJa/Dyw0nw9rWl6e0sUWpK+/wA2QvtZk2kgnn35rrKKhU4LZHS8diZK0qja03d9tjL8M6fd6XoVlaX1wt3dQx7HmRdobB449hgZ74zWpRRVrRWOScnOTm92Z3iLTpdX0HULKCRYZri3kiSRhkKWUjJH41zvhnwH9j0aC1182muSwMPI8y2XZbqAAFQEcdAc+tdnSGpcIt8zN4YmrTpulF2Td/P79yOKNIYljjRY41GAqjAH4VBcaXbXU9vNLEHlt38yJv7rbSufyJH41Zp26qsmYKUk7plH+xLA2ctqbK3NrK5keHyxsZickkdCSeatxwosQjVFVAMBAMDH0p26gGiyQOTas2IFCgBRhR0ApaXdSZpkCr0paRelLQAUUUUAFFFFABRRRQAUUUUAFFFFABRXA+JviXdaP4iOgWuk+fqc3lm0aSXEUisCWZjjjaQRjnNW/CPi3VNU8Saho+pQ2PmWcCSvLYSM6qzH7jZHBxzXOq8HPkT1PSll+IjS9tJWVr7rbTX8fv0OzopKWug80KKKKACikZgqkk4A5rhfCXxj0Dxd4h1DR7edbe6tWCos8qK0455Rc54wPzFRKpGDSk7XOmlhq1aE6lODahq7dDu6Kxf+ElT/AIS4aCbaTe1n9sW4yNhAfaV9c8j862c1SaexlOnKnbmW6uLRSUHpTMxaK8I1zxHdeIPFviCxtL7VdQMEqx2FtpsrRxByCHMjKOApHc9Qa9o0G3uLTRdPt7uTzruK3jSaTdu3OFAY575Oa56dZVJOKWx6uLwEsHThOctZa29Un+ttty/RSUtdB5QUUUUAFRXU32e3lk/uKW/IZqWq2oRmaxuEHBaNgPyNJ7FRtzK55iviHX9P+Dd1r0l/jU5n+1RO6hgiNIoCAH2z9M16hYyPJZW7yEF2jUsR0JxzXj6q3izwX4K8MoWiF8pkuCvOI4Ov5tt/Ouv+FfiRdU0GPSbhmOq6Sv2W5BjYD5GKKcnrkLmuKnN86XSy+8+lzDDL2U6kUrqcm0ltFvlXyvF/f5nY215b3nmGCaOYRuY38tg21h1Bx0NTVzfg3WdM1j+1hp9qLOWC9kjuY8rueQHBcgE9cdTjOK6WuyMlJXR8/WpujUcGmrdxK5vxfb+J5/s3/COXFhBjd5323dz024wD71peINDXxBpzWbXd1ZAur+baSbHGDnGcdK5XWfB+sabpl1PY+J9ZuGiUyLbHy3eTA+4GK8ZrOpe1rX9DqwcafOpOaTvtJNr9SrpPxG1Ox8VW3hjXdOifUZkVxcadL5ibTxllIyoyDn6ZrS8a65rnhOQ6sj2dzoiOiy2pUpOqnAJVy2CcnOMf41X+GHw9fwnaS3+oyNda5fAPczSHcV77Qf5//WrQ8beCZfF8+mSLfi0Fi7SiOSATRyMcYLKSM45/Oso+19k29+h6FSeCWNUYpciVpOzs31aWrV9lb18i14s8YQeD7e2ubqCSW2klEUkseMQ5Bwze2Ris/wAJ/Ei38SvLFNYXGlzrbC9jjnwfNtz/AMtFx78H6is+6+FEeraZqkOqalNf3uoSwvLd+UqbRGcoirzgYyOvc1dk07TZPiFYiO7kivrPT3Q2Kx/u3gYgAlsY4Pb6VMpVuZPoQoYH2Lgrynr7yvbRJrTzd1r5PQxH+K2qCxs9Wax0610u6njjhjlui1zIjOF3BQMdDux2rrvEfjSy8LalYW+oK0NvdrKfth/1aFF3bT7kZxVS6+Fvhe5tZ4Ro1rCZUZPMijAdc9wexqtH8LNNm8PrpOoXN3qca3X2vzrmTMhfPrjpjjH1o5a8VZO5cqmW1HF8rik3dJa2ez3esfPc25vF2n/8IrNr9rOl1YrA0ySKcBsZ455ByMdM5rD+FHjHUvGmi3d7qcMMLLctFF5H3SoA9znknmrmk/D2y0ltYgSeR9J1AHGmtjyodw+fb9Tz7Vl2fwpl0uxbTbDxJqNppJYn7MoTeAeoEmMjNX+95oyfzRmvqHsqlKMtW01Jp6LqtOvfozube8hvI/MglSZASu6NgwyDgjI9DU9YVnDo/gXSbGwSSKxtDILeASNjfI2SB7sTmt2uo8apFJ3j8PQKKKKDMKKK5i11y8vvH17p0LRHTrG0jadf4/OkJK/htXp71MpctvM2p0pVFJr7Ku/y/U6eiiiqMQoorCuvGFpZ+KbbQporiO4uIzJFO0f7l8DJUNn72O2KmUlHVmkKc6jagr21+SN2ikBB6UZqjMWikzS0AFFFFABSN0paRulADaKKKACiiigApV60lAoAcvSlpF6UtABRRRQAUUUUAFFFFABRRRQAUUUUAeR/Hjws+qDRNShdrZ4bhbeW5QEmNXICtx6Nj86ueDb+b4fwTaRqGgXCOrlkvNMtnmS6H948swb2Nej6hp9vqlq9tdRLNC+NyN0ODkfqBUzKNoBANcn1aKquqnqz3P7UlLBwwVSN4q/W3W6/Xe6OZ8XeIL3w/eaFcRKG0ya6+zXmV+Zd4AjYemG4P1rqKq6lpttq1r9nuo/MhLK+3cRyrBgePcCq+veIbDwzpst7qNyttAnVm5JPYAdyfSuj4W23oeZpVUKdOPva/Pt8zSzWV4i8Taf4X083eoXCwx52qvVnbsFHc1xVxr3jHxhGlz4fsxoljH+8WXUwA910wu3kquMnJ9qrfC+yfxddX+v+IYVn1q1upLVYdwkhtwp48vHByCDu681j7bmlyxXz6HpRy9UoSrV5K0bXimm9dl2Xnvbtc0GXxP8AEC3JLN4b0WXoq4N3Kh9cjCZ/GuRtfgz4f0P4habpmn6XajSTp7STRy7mkPz4JD/e3bmXv0Br2/1rkbn/AJKdZr3/ALKkI/7/ACVjVoxaTlq7o6sJmNePtIUXyQ5XovTd935v5HBa18LfF+j+JLfV9C1i3+wadJugs7yRndoiQWj3n7uQCMdOldJcfHLRtKvLax1aw1HT9SuGCR23keZvJGflKn5h711fjTwuvjLw3e6O9y1ot0FUzIu4qAwPTI9MfjXmvgbwfZfBnXzp9+v2y1vpB9j1q5UF0Y5zE5/hz2IqJxqUZ2paRe7Z20q2HzLD3xnvVIK0YxXK2u7ls9btqzluaV58R/GFvrFvfXHhX+z/AAjvxLO7ma7K4+8YlxsGfXNek6TrFlrljHd2FzHdW8gyHjYH/wDUatFVdcEZHpXF6n8NoLa4fUfDc7aFqX3ttvxBKfR4+mD7V1JVIbvmPDlUwuKSjy+za2au0/W93fzX3HPRyr8L/H+sXclhNH4d1RUke6RS4im5JPrgkt+Yplh8U7VfG1/e6lHfabprWSRWMc0bn7SfMbLKgHB6Dnnmus8KeMzq95NpWq2407XrVQZrZjw4P8cZ7qf0rqWjUkEgE1lGnKWsJaXvsdtbExhJxxNG83FK6lulazWjV2ktdVbpcwvBvjFPF8N4RY3Ony2sgjeG6UK3KhgcehBFdJXO6LodzpfibXL1nje0vzDIgGdyuqbCD7YAroc10wbtaW542J9l7T9z8Nl+SuvkxaKSlrQ5QpGXNLRQByXh34c6f4c8SXur27yFp1ZY7dvuQBm3OE9ASBXVJCkbMyoqlupAxmn0VMYqOyN61erXlzVZXe33GNpvh3SvDV1qd/bRravfP51y7P8ALkZ556dSfxrXVlkUMpDKRkEdDXOfELWJtB8MXN5HpsOqwqMTwXEgRPLwck5Bz2GPet21Zfs8IRVRdo2qowAMdBQuVe6iqkak4KtN3vpf0S/4BPRkVyPxG1C40e00vUYpmigtb+JroKTzC2VbIHXG4H8K1fE2vPoOlG6gsptRmLLHHbw4yzHgZJ6D1NTKcYt36FLDTlGDjrzXXzX/AA5c1DXNO0mWCO9vre0knbbEs0gUufQZPNXeteL6tpGn6lputXviXVtMfxNdQSRQWz3KbbLj5UTnhsgZOK7DwT8VvDviLR4mOsWcV7FGguYpJQmxyOQNx5GQemaxjXi5WbO+vls4UvaUU5WdpNLTyt3W6udzXE6bsvPiprky/N9j0+3ti2D8rMzyEZ+m0/lWlffEbwzp+3ztatSW6CF/NP8A47muN8K/Erw83iTxZOb2QiS8iCsLaU5UQRgfw+5onVp3iuZb9/Jl4TBYr2VaapS+Hs+so/oep1hTeOvDlvKYpdd06OQHBVrlAQfTrWPq3xG8NX2n3Nsbm6nE0bRGO2tpRIQwx8p2jB59a4fxp4y07wj4Le307wve6ekzLAbq600lI1YfNI5AJJAHoeaKmIjFXUkXhMqq1pqnUpyTbSWlvz39Ej2yKRZkSSNldGG5WU5BHrUleW+Efit4M0/w/Y6do2oXOsrbRiMLa20jyH3IIGO9dvD400KaGOT+2LGIsobbJcoGXI6EZ61ca1OSVpL7zgxGAxFCbi6ckk+qaf3GB8REj1DVvCOmFS0kmprdbe2yJSSfzZa7kk7Sa8/Os6bqXxW014tQt7uKPS5xF5MwdVk8xN3Q4B2Z/AV083jLQLfIfW9OUjqDdJn+dEJx5pNvr+hriKVX2dGkoPRN7Pq3/kjJh+IZj1GytNR0TUdK+2yeVBLcKpRn7KdrHB+tdeDXkHjzWvh/d351fUvElwJ7NVaNbC4LLGexTAKhj9ap+E/iRaw+KLWOHX7x9EkjcztrkkQ2ED5Nr5BJJ7Vg8RGEuWTTPRnlUq9FVqNOUWlrdSs35N36fie11yXhv/kcvFvr51t+Xk0+4+KXhS3k8s63bSvjOLfMvX3QHn2rlvDfxE0CHxZ4rlkvJFSSS3Kn7LNziL/c4q6lWnzw95b/AKM48PgcU6Nb91L4V0f88TuPE3iQ+GlsZntmntri6jtpZFOPJ3narEdxuIH41f1DWLPSLV7q+uorS2TrJM4UfTnvXJ6n468F+IrSXTb++jeCYYZLmOSNTjkHJAwRj1rmQ/wz8xZJ9RXUGVPLT7bPNcBF9FD5A/CnOul8LX3jpYCUopVKc1Jb2i3ddPTqesWd5BqFrFc20qz28qh45EOQynoRXK+Po92peFfK4uv7UTa3+wEcuP8AvkGuO+G3xQstL0qPQprS+na0Zo7aa3tmcTxhm2kY7gYzVjxV48guPGXhAppWsOqT3DGP7C4YnyiAQD9f1rOdanOndvsdNPLMTh8XKKg7JSs+65X+Z2njzWL3QPDcl9Y7MwyIZS0ZcrEWAdgAeoBz+BrnvD/h3RNeWCb/AISy+1+UoT8uoFQfU7EIx9O1bT+OCylT4d1xgeCDZf8A164jQ9JtND8UnWYtG8QHb5nl2/8AZiKE3nJG5cFgOwPSnUnGUl1LwtGpChKOsJbpq2vl3VvXqd9B8P8ATrW4hnhuNQjkidXH+mysDg5wQWIINdNWToPiD+3hORp2oaf5W3/j+gMW/Ofu884xz9RWtXVBRS908HETryny122131CiiirOUKRulLWdqniDTtFmtYb67jtZLptkPmZAduOM9O4pNpasqMZTfLFXZeoo9CORWX4f8R2viW3uprQSeXb3MlsWkAG5kxkjnpzRcahJpyS0RqUUUUyAoFFKKAFXpS0i9KWgAooooAKKKKACiiigAooooASs7RdftdejuXtd+Le4e2kEi4Ideo+nIrRrzbwzd3TeC/F99prGO4bULye2ZkznGMcc5zis5S5ZJHbQoe2hJ9U4r7z0quO1r4naZp99Pp1nFdatqkTKhtrKEvhj0Bb7o98niuk0eaW40mxlnGJngRpBjHzFQT+tcPrujX3gPVrrxFoge40+4k8zU9MHOeOZYx/e9fWoquXKnHY1wdKlUqunV1fRXsm+zf8Aw3qi3b2vjXxCry3F9b+G4mxstYYBPMq98uW2g/gar3nh/QPB7R6xr+pT6jexnEdxqU+8ljk4SMYXOegAp2qePH8RNZab4TmS4uL1PMkvVwVtIwcFiD/FnjFamkfDrS7G5jvbzztX1FTu+1Xz+YQc5+UdF59BWVlJ2jr5tnoOcqCvXfs0/sxVpW21b1S9W35GKtlrXxKmD3yXOheGxnbaq5juLrI4LFT8q+3eu10PQLDw3Yx2WnWyWttH0RPfqSe5q+OOgxS1vGmovme55NfEyqr2cVywWyW3z7vzYYrz3xVr9noPxS8Ni4ZhJeWktsioMklpExn2GM5rqvE2j3mtWKx2OpzaVcxtvSaEA5I7MD1HtXmPhtdb1v4xadc+JdPW0uNP0eWOLaAUlcyKGkXk+351lXk1yx7tfmelltGEo1K0pKyjK667O1u+vbY9k6NVTWNHs9e02axv4FuLWZdrow/Ueh96t0u6upq+jPDjJxkpRdmjz3SdQvvh3qVtous3DXejXLbLDUpWy0Z6+VIfX0J9q79pFSMuzAIBuLdgPWqusaPZ+INPlsb+FZ7aQYZGrk4/hDpjRR21xqOqXmnREbNPnuiYVA6DaAOB71z+/T0iro9KU8PiUp1Zcs+tldPzW1n36dTG8ea5ovipfL0dLrUNessSW19plv5phbOQC+cbT0I9zXfeG7q9v/D9hcajb/ZL94gZof7rd/8AHHvXD6f4X134Xw3CaEsWt6LvMv2GQeXcpk8hXzhvxArtPDHiix8Waat5YOxUMY5I5BteJx1Vh2IpU78zlLRvodeN5PYRjh/epxekr3evRrTl9NuzZsZpKKK6TwAooooAKKWg8UAVjqFqt8LI3EQvCnmCDeN5XON23rjPerO2uIksY5PjDFdZIeLRjx67pcfyH61nDx/qepfEyDRbRreHSI5JYpJJFzJK8aguq/QuB+BrD2yXxd7Hq/UJVFek9oczv08jq/HWh3HiXwrf6baGH7RMqhPPJCcMDzgHjj0rO0bw/rVx4iXV9cntYxbxtFaWNizGNA2NzMSBuPGOlbdndajJrWoRXFtHFp8axm2mVwWkJB3gjPGDjtWn+tVyRk+YwjiKlGl7FWs9b7v3kr/grPrujgvjhpq6p8NdXiaSWEqEYPDIUYHeAOQenPSrcfwr8MqDJNpi3kjctJdO0rN9Sxq18ULd7r4f65HGhZ/szEAe3P8AStzT75NQ0q0uoSTFPEsqEjB2kAj+dY8sZVndX0X6nXHEV6eCgqc2lzS2dukTkNUh8J+BIYIv7EhkmumKw2lparJLKR1wPatHQdL8PeJNKhv08PW9vHLnEd1Zxq4wccjBrj/Heuz+F/HSX32YPc3Fitrpk0+BAkhkJk3HIxwR+GfWuy+H/iO78RaTdtfC3N3aXclrJJaEmKQqAQy5J4IYd6zpyjKq4P8AI7MRTrRwkMQm3feXN+FvLbe97mxa6Dptj/x7WFrbn/plCq/yFc/4TjC+KfFsZUDbeRsMehgj/wAK6+uV8IfN4k8XE9ft6D/yBHXTKMYyjZdf0PMpTlOjXcnf3V/6VE6gjH0pqsj70yGI+8vXGapeIp9QtdFupNLtVvL/AG4iieQRjJOM5Pp1/CvMtFurr4f3fiptRu2v9QbToNQ3znmWT51bHYLuCjHpTqVFCyaDDYR4mnKUZe8rWXV6pfJa/wBanfXnw98M3101xPodlJO33pPJAJ+uKlj8E+H4I1SPRNPVV4A+zJ/hXn2j6frfhW38P63dXt1Jd3V35Go2k9wXjdZXKoyjJUEZU8etetnlc1nS5Kiu42Zvi/bYdqMazlHXq+js/wDgeTPMNe8EeHr74naBa/2PakiyuppgkIUbSY1QnA9Qa7m08GaDYoqwaNYRhRgEWyZ/PFYiSJJ8XFRWy8WjNuHpmYYrtadOMLyaXX9ETi8RXUKUXN25V1fVtnM+KJtJ8K6LJdS6VbzW7SxxNDHCg3bnCjPGDjNTTWvhq2voLGaDS4rub/VW7Rxh3wMnC4yak8YeHD4p0f7El41jIs0cyTqm4qyMGGBn2rjtR8GWXhvWvDN0jyXV9PqqpLeXLl5GHkS8Z9OOlTO8Xt7uhph1SrU0pVGp+9or66aeXR+Z6FZ6ZZWG42tpBbFvveTGqZ+uBXL6L/o/xI8SWzruW5t7W7Q46YVoyD/3z/Ouwrj9E3XvxI8Q3Q2rFbWtvZ45yW+eQn8N2K0nFXjbv+hzYeTlCs2/s/8At0bfjY6yazt7hNkkEci5ztdAf51iav4t8OeH9kN5e2sUvAW3QBpD2ACDn9Kf4w8I2XjDSxa3plj8tvMjmhbDo3TIrgvD+raF4fWK08M6FceItUjXy5b6K38tXYdS0r8DPtxU1JuMraf15G2Ew8K8HJuTa6KyXq5PRfcem6LrVnr+nx3lhJ5ts5IVtpXoSCMEeorl9cjSP4p+H5bjaUksriK33Z4lypJH/AM1S+DM2tXWg3E+ox2dvbPd3JihgLNIp8987mPBHpirepI2qfFnTbeaTy7fTtPa7iTJHmyOxQkeu1Rz6bhU83tKcZd2vzNVQWGxdaknpFTW9+jW/q9TrtQvP7N0+a5MM1x5S7vKgXc7ewHc1zlt8QoJtWstPn0rUrGa8YrCbqFUViFLH+InoPSuouJlt4GkYFlUZIUZPHtXj/izUPD3iLV/7QtDrt9riwGKys4I5YFjJ/iB2qQM9TnmqrTlBJxZjl+HhiHKE4N+avo+l+lu9z2JJAxxUlYfg6zv9P8ADun2+qT/AGm/SICaXrk+me+Ome+K2t1bxd0mzzKkeScop3sx1FJuHrRTMxay/Efh6x8T6XLY6hAs8DjuOVPZlPYj1rUpOtJpNWZcJypyU4OzR5XZ+OLnQfCN1o8twbzxJa3R0u3VyPMlcn905HptIJPsa7jwb4dHhnw9aWBfzJUXdNJ/fkY5ZvxJpx8H6S3iH+2zZRnVNmwXBJyBjHTOM474rYHy1hThKLvL0XoejisVTqw5aUbXfNL18vJa29QoooroPLClFJQKAHL0paRelLQAUUUUAFFFFABSUtcH8YtL8W6x4aitvB939iv3mHmyhgrCPacgEng5I96zqScIuSVzqwtFYitGlKagm93svU7yivNPAmg/EHTPC9la6nrNj9ri3q7XFu1xIfnbBLiQZ4xW/wD2f4z/AOg1pX/gvf8A+O1MakpRUnFr7v8AM6a2DhSqSgq0Wk7XV7Pz2OsrC8UaHeaxp8dtpupyaLMsgbzoE3ZHOVxketZU9r46hjPk6lo9w4PAltJEB/EOcflXk3xu+IXxR8AwxRQwaXcWl3GEF/bwTDynJIK9Tg4GQT61z18RGnBynB2O/Lcsq4zEwpYatDnvpd6firP0L3j7x74v+GkuxdasNfeP7tmsQWUgDP7wKDt+ua9B8DeE74z/APCS65cNLrN5GD5KOfKt0YA7FHfHuKwvh54O/tD4TpBI8C6lqkPmSXaLvPJDAFupxXq0YKxoD1AFTQptvnburaLsdGZYunTg8NRilNNxlJJLmSt20SvfzOR8M/D+Lwr4m1TUrK4C2d+AzWZiHyPkksHz0Ppj+mOw4FA+tDV2RpxgrRVkfOVq9TET56ru/wDLRCE0LSU2TOxtv3scZrQxHvIsYyxCj3rzTWfGWlWvxS0J4r62uVuLeSyfyZA5jYsrLnGcZIA59ai8D+FbXxb4fMuu3N9e6gtxJFeW7XcixrIjn5dgIGMYI9iK0fiB4a0rRfBsjWFhb2TwzwPG9vGEYMJUwcjmuObnUipLRbn0FClh8NiJUJycpO8dFZa6X3u+62O+ZlXqaFZW6HNeI/GXXnuPGWn6cIr6WDT4DdSJp/8ArGZunP8ACAB156muj+DVlO+m3mrtqJnhusLFY/aXnEG0n7zOc7jkZxgURxMZVXSS2IqZW6WCji5ytzbK3d6fhrsem0tcv4T8YS67falY31iNNvrF1V4vOWUMGyVII9hk+ma6fmumMlNc0Tx6tKdCfJNa6fjqhDj8a4rXvB97Y6rNr3huZYNTkwbizlbEF2B/e9G9DXaUjMsalmIVQMknoKcoqW5dCvOhK8Ou66PyZ5Tb/tF6Bb6wdJ1i3udI1CKdbadZtuyOQ9s5yR9BXTT/ABQ0ueZbfRo59eu2GRHZJ8o4zlnbCqK4aPwPpfxE+KH/AAkdjBbjTtOuFZ5sMftkoHLDtgED8q9ktbG3s1K29vFApOSsaBR+lcFGWIndSatfc9/MI5ZQdP2VOXO4puLlom+m1/Pfyepyv/CTeKTGZf8AhExt6+Wb9PMx9MYz+NJJ48v7T5rzwnq0MPeSERzY/BWzXYhB1wPypdo9BXZyStpN/h/keP8AWKL+Kivk5f5s8r8b/Fy9j8N3T+FdIv7vVdg2vc2brFDnqWJHJA7d62vAnjLVL74dHXNetGW8hEhkihj2s4Q4yFJ4Jwa7vA9KQKF6AAVCp1FNyc/l0N54vDOgqMKCTvfmvd27bbfI821DULrWtWsvFPhSBdYRbeSxuIDN5J5Ksp+YfwnOfrV3SfhqZvD+nR6ldz2+rRTSXctxZuEbzpM78HB45xx6Cuo8Uao+g+HdR1GGNXe1haVUboSBnBxVyxmkntIJZVVJXjVnVSSASOQPapVOLk4y1f4FSxlaNGLpLlSdr9dFs/Jc3ZGHptjeWvjrWZnRjY3FrbmOQnjeu9WH1wQa6Nfeq0V3LJqU9u1rJHDHGrrckjY5OcqO+Rjn6irQ610KPKebUm6jTfZL7kcr4m1LXGvH02w8Pw39nJF+8urm7EUfOQV24JP/ANeuF+H1x49sNLvtIij0i5bSbkweRM8m7YQGTEmeQAfTtivZGjU9q4YSf8I78VSgdUtdcs9+0nH7+EgcfVG/QVzVKf7xTUn2/r5nr4TFJ0KlD2cduZbu7jv1/lb2sVtUbxfNYpb6paeGY4ZWCvJcSO0ZJ6LsYcnPvU2j+Cdf0uySKDxJHZ4JYw2umxLCCewAwfxq/wDEzRb7xF4cS0sIEuZPtMUkkbOFJjVssFJ4B/pmsj/hJPFKeNPD9pqFrb6bZXrTD7NC/nSMETO52xgDleh71LjGM/ev0/E1pTqV6F6PIvibVl0V9nd7X27Gk2h+M0n2x+JLSSBsZaTTx5i/TDYrnPDOgeKl1rxU1t4lha4XUEJWawXY48mM4OGyOMDj0r1auS8JXQPjDxjabWDx3UEpPYh4VA/9BP51UqUeaOr37vszDD4uo6Nb3Y/Cvsx/mj5Ebr47tcMG0TUUzzEFkhYj2bkD8q57XtB1TXNVhudT8NaVNd+S0MatqzDcvOfl8vnG48+9epVz3jLS/D15p4ufEUUDW1tkrNMSpTPUAjnnA474FXOleO5nhsY41U1BJ7Ximnr5Jo880vwhrlpdWTvpDXwsWD21vc62JIoSOhC+WDx2zmu0XWPGCsEbw5YsMdU1P/GOua+H3h+yv/F0mvaTpv8AZegxW7W9sSW33bMwJlIbkKAMDPrXqQiC8jrXPRpO11Jr7v8AI7MwxKjVUZwjJpdebRvdO02r9/x1PJrfV/FFj8Up1bQrETX+mqyhr84IjcggMI+vzZxj+VdQ03jq/nJSHR9LiAwA7SXBJ55yNvtxj8al1yML8SfCrYG4218M/QRf4n863Ne0Ya9Y/ZTeXdiu9XMlnKY5Dg/d3Dsa0p02uZcz38v8jKvioNUpezirxWtm9m1s32RzzaX4xlkzP4h0+2XGALayJyc9TuY1S1jwBq/iW3gi1HxKJo4ZlnjEdigIdc4PJ9z2rJ8ceHfDXgu1tT/YUWsX9/OY1m1K6P3sZLPI5PFM+H+s6X4RWTS1uBq2pX1z5rWujxmSC2yACAc4CjAzz6VlKSU+Sp+bO2MavsfrOG36fu4/N31tbzOobwv4l2/L4xuQ3bdZQEfj8tcp4Vk8aaX4w8U24/sfVz5sMkhYvbOMxAA9GBHy+let49q5SwcxfErWoWGRPp9rMp/3XlUit6lON42bWpw4fGTlSrRlGL93+VL7UeyT/EZFN42kj/ef2DCx/gxM+PbIPNQvN4vjLwxSeHXnVfM+zqsyMRk89eMnPOOtdn5K+n61yXjDw9otxdpf3+pzaPceSYFuILw25ZQS2OvOCc1UouKum38zDD4iNSfLKCXpG/4XuZnhyz8T+GdPa0s9C0/yjI0rB9TdmLMcnrHXP/EDVvEtpe6Nqw8MyQapa3UcMUlrdpKkscjbXibO3GeD0PQV2Pwx1S51HwvuuZ3vWhuJoI7p1IM8asdr/lx+FM+KNw1v4ftJo2AnW/tjEpBO9vMHGPz/ACrDkvT5rtfd/kenTruOYOlUpxlK7Tfva30f2uvmSxeIvFVyheLwskK5IVbq+RX/ABChgPzqOJPHF87ySDRNPUthYysk7hfQtwD+VddGu4E471wqDX/DPiLWTZ6ffa3ZXJje2869UJG2CXHztkDJHQcYrWUXG123936I86jONXmVOEItLrfXVdZSt5mhJpvjKVCg1fS7bPWSK0csPoGYimL4P1q8Zft3iu/kixyltHHAT+KjNJ4G8Sa3qWta3puuwwQXNp5Mkcdvyqo6k4LZ5PH6V2mKuMY1Fzak161bDTdO0b6aqMXur6O35HGQ/CfQ13G5N7fu2cvc3chIz6YIx+FdBoXh6x8OwPDYrKkbHcRLM8vPTjcTitSkwa0VOMdkcVTFV6seWpNtdr6AxqlY6xa6jPeQwSiSS0l8mZcEbGwDjnrwe1Xa8u1zwTq2reONRht7mfTNFvIY7ie4t22l5QGUKP5n2ApTk4q6VzTC0KVdyjUnyWV7/Nfpseo7h61zfjbxYfC2nxGCH7VqV3J5FpbA4LyHuf8AZHUmuDW88XeD00W+8QaqkVmt0tpLaxR+Zvj2N+8cjJLEgcD/AOsItL8C694y8W3mq+JtWu47eyxBZQ2K/Z42BUF3U/fwemcj+lcsq05LlhFpnq0cvoUZ+1xFWLppX0u+Z3tyrT0vrt1O3+GOp3mpeF1/tK6F3qEM80Mz5/iWQjH5YrrK4X4f/C218A6tql1ayLJBduXRXUtKhJy26RiSwJruyK6aXPyL2i1PMzD2MsTOWHd4vXa2/S3kJQKKUVqeeKvSlpF6UtABRRRQAUUUUAFFFFACUtFFACUyWFJkZJEV0YYKsMgj0qSigDzvVPBF54Pm/tTwgXUCQvc6O8n7mdT12bvuN1PH/wBajxD8Wmsby1stD0O58T3jDN1DYyL/AKKOM7m6E9eAe1HxR+GeoeOcT2XiPUdNMUOxbCGTZbzHOf3mOTnp7VY+HuvabaqugyaYug6vAuJLQpgSEdXRv4weuea4HzqfJH3V3PqIujUw8cRV/fTje61TS/vPeS7W26vobXhfxxpnioyxW7Pb3sPE1ncLsljPuvp7iuhPSuX8X+C111or6xm/s3W7fmC9jHP+6/8AeX2NVvDfjxpryPRtft/7J1zO1Ub/AFVzj+KNu+cdOtdMZOOk/vPJnh4VourhtlvHqv8ANefTr3OvopfvLSVseacb4TWOx8c+LbSP5I5HgugnbcyEMfxIqX4pbpvC4toxukuru3gTJwNxlU8n8K5GTxdf+DtW8TeIdX8N6p5MrRQwLbpG42qSq5O7qxYdM1Z1DXNS8Z+JPC2m3GiXmjW5n/tCT7QVZiIlJA+UkAbiuc+orgVWLg4dXf8AM+qlg6nt4YnTliotu63jBN9bs6CHwzdx/E+71l0VrKTT1gDZGd4PIx9B+tWE8C6XD4gTVrRH0+7BYy/ZW2JMD1Dr0/LvXVDqKGCiuqNKEb/eeJLG15NWdrJR06pdzyXwz8MTN4wg1U6Y2j2VlI0qedcGW4uZD3cgkADngdc165/DXN6z8QND0CbyJrvzro9LW1Uyyn22rmspdY8WeJ3Yadp0egWBHy3eoqXmb3WIEY/GsoclH3Y6s7sQsVjuWtX92KVk3orfO7fyudxnaua841rxVc/ECSTQ/DcMps5AUvNWkRkjjXOGVCR8zEenrXI+OR418K6/GTq1xLod0ot7rVLhh5cO/HzLGowuMEZ969j8M2Nlpmg2Vpp7rJaQxKiOpB3YHXI7nr+NTGo60nBK1ty5YeGXU4YnmVRy+G2y9fPayfzRJpulWui2drZWcSw20KbERewAq9zSUu33rsSUVZHgSlKTblrcO9LScinUEibqTdSUUDMbxtp9xq3hHVrO1TfcT27xxrkDJI6ZNZvjqO/i8KwNYQXE1xDNbu0VrzIUV13gY68Zrq6aJUZiodSw6jPIrOUL3d99Dso4iVLk0uou/wCX+RleG9YvdatZp7zS5tKAlKwx3DDzHTszAfdPtWvRSmrWisznnJSm5RVl2/4cK8++JXiXStH17wst6XWWG/Eu5YHf5TDLwCqkZyBx14r0Fetcj4mLXPjjwpar9xZLi6f/AIDHtX9XrKtfk93fT8zuy9wVe802kpbO32X5Mmt/id4VnGRrtnEc42TyCJh/wFsGrK6t4e1S8tNRF9ZTT2wdYZvtC/LvA3Y574Fas2n2cjO81rC7HlmeMH+leeaLd+C/Ffii706Lw3btKBIy3j26eVPsYK209+TUSc42TaNqVKlUUp0ozSitdU7L8P8Ahj0JtasF25vrYbumZl5/WuY0GaOb4meJDA6si2dqJdhz8+ZMZ98Yq8/w58MNGyjQdPAYYI8gVxHgf4WaBJeeJopbGSGaPVJFPl3EiZjKgxjhhkBW/U1EnU5o3S/pG2HjhPY1pc8lol8Ke8l/e8vxPXN1Z+u6RZeINJnsr+FZrSVfnViQPXOe1YC/Cfw3HgpazoRxlbyYf+z0N8J/DLqVezmlVuoe7mIP/j9btz25fx/4BwxWGhJSjVkmv7q/+TMi48GaDHbNbHxNf21sy7JIG1TcjJ/dIcnA+mK34fiF4UtYUhTXtPVI1CKouF4AGB3rkmvPBFn4iGk23hu3u0WaO2mvIrVHiikckKjMe+Rj869Hi0PToY1SOwtURRhVWFQAPTpWML/Yt+J3YlxUY/WOdp6q/Kvn1/E4Cbxxo2ufFLRI7PVLOaOzsLmWVxOuF3lFA6+qmvRba8t7r/UTRzdz5bhv5V5/b+GdJuvilrUGoaTZ3Pm2MEtt5kCsFjUlX6jgliOnXA9K3ZPhf4akk3x6Yto2NpNo7Q5+uwj1p03P3no9f+ALFrCXpwTkkoronv73dd7HRX1nbX0YjuoI7iMHcFlQMM+uDSWen2unoVtbaK3RuSIkCg/lXNS/DPTg6vaX+rWDjgtBqEhz9QxNVNX8NQaHYvc33jPWbG3XjzZbpMAnp1Tk1bb3cTlVOlNKnTqvXpyv8k2dya4zS5jqHxQ1mWNSYbOwgtHfsZCzyYH0DCmWPhvxBPa289r43luYJEDJJJYxOHUjIPGK57wxpviy38U+KPs+t2Vygu4xJ9psyMt5EfI2twMY4rGpOXND3evl2OrD4emoVrVY35f738y/unq4+7WB4v8ABen+NLOKG+VleFt8MsZw0bccjseg4IxVP7P4zH/L/pGP+vWT/wCLqtHYeKLySTzPE9lC4PEVtYq4A/4ExNbyakrSj+X+ZzUqMqMlVp1oprqub/5EhX4fancQi0vPFN1JpyjaLe2t44G2+hZe2PQCl8RaXDZX3gvR7YMlpHe+YFJycRRsQMn3Iq0vh/xNIu0+LNvvHpsQP865TxD4a1678ceG7J/FVySEuZzIlrEhUBAvGB1JNYVPdjpF9Pz9T0sO3XqWqV42Sk9E1ryvXSKPWRwOKNork0+H77i0niXXpGP/AE+bR+QUUk/w+l8vNt4m1yCcHKyPciRQfdSMEV0c0v5fyPH9jQ/5+/gy7pXh+ax8Wa5qryI0V8luqKM7l8tWBz9c10Irj18L+JkBC+L2f/rpp8Z/kRSL4Z8U8bvF+B32abGD+ZY0otx0UX+H+ZrUpwqtSlWjsltLorfy+R2VFUtJtbmysY4bu9bUJ1zuuHRULZORwOBjp+FXa2POklFtJ3Ck4pawvGmuXPhvw3e6jawrPJbhWKPnG3cAx49Bk/hSbsrsqnTlVmoR3ehtsit1UH6io5mWGNnI4HJArzSP422z3WqMLJ20+CIva3AJzdMGCYVSP7xIzntXOat8SvGWpeGdUCWunafcB3s1ErN5jSk7QqqDkEZJzgjg1xyxlNbant0slxk2uZKKut2lv/l17HqPg/xtp3jSG6ksPNAtpBG4lUAnIyGHPQiuirw/T7PxZ8MNctS9rp82mX1tDbytYwTysrx4GSB3IJ5xjivcB6VpRqSqL3lqjnzLC08NUUqEk4S21v63+Y2lFDdaF610nkCr0paRelLQAUUUUAFFFFABRRRQAUUUUAFJS0jcKSaADI71zfjTwmniSxV4G+zarbHzLS7A+aNx/Q9xXkf/AAkWha54m8R/25qN5q0S3DR6dptvJITJgn7oQ47DH516t8NrDUdO8LQxal5iymSR4opn3PFEWJRGJ7gVyQqqvdJaH0FfA1MsUa/N72nS17q+muttnpboQ+H/AIgQyzR6bri/2RrQOxoZlKxyns0bngg/Ws74n+JfA8GkvF4i1O1jCMArQyBp4XPAcBfmGD7V1mveH9O8TafLZX8KzRSDGRwy+6nsai0nwXomh26Q2mm26BR950DOfcseSapxqNcuhhTrYSM1XtKL7Rat8m9V6Wfqef8Awh+IWoeILiTTxv13So5GWHWlTy/kAJXep5ycYz716j/aFt9s+yfaIvtWzzPI3jft6btvXHB5rmvEHw9s76b+0NJc6NrcfzRXdvwpPo69GU9OnevH/iB4jv7nxFpVpe6bd2HiWxljNzqunBpbdYeuW2fMDnkKR3I71zupPDRtPU9KODoZviHLC+4rarqn3fRpv+VL/D39i+I2P7HsSwyo1K0z3/5aqP611Sr82eteeeJPFmleJPDrDT76O7aK8tN6jKsubiPqDg10njK9+x6HO41ldDcFT9rZVbaAckbW65HpzXRGonKUk+iPLqUKip0qM007yWqf93pv+B0BFeffFrwbrviTTzLourTWzrHslsdxEc65JxnIwece/Fef6t4u8T32uaTpvhHWNS1q7udzyXV5aiC1VVAzzjpz6V6TZ+GPEms3FrceIdZFusRWQ2Wkho4yw6bnJyw9sCsfbKunDlf9eZ6P1KeUzp4mdWKe6TTv2+Frr52JfhrN4fk0900nTotLvIj5d3a7AsyOODu7n6muzbOQa43xP4Jlu7pdZ0S4/s7X4lIEwGUnGPuOO/17VhaKnxH8VtFNqbweEYFTY9tCUuJXOeWzjAz254zWkZyppRcPuOOdCli74iFZRXVSeqfZbuS7NfO3XufEWqaPY2bprF1Zw28gKsl06gOPTB61y/wnt939tX1naNp+h3VwGsbY8DAGGkVf4VbAOK09I+Geh6bma4t/7Wvm5e81AedIT7Z4H4V0VvcWqXD2kU0XnxqC0KsNyg9CR2q7NyUpWRzurTp0Z0aN5c1rt7aO+i/V9PUsUq0lFdB5Y7cKWmUuTQAlGKKctAGP4q8RW/hXQ7nULk5EYwka/ekc8KoHck15xb+GpfBdt4f8STu41m9vYl1NmkKoyzZBDDkDYSMfj61ufEDSPEereLNGk02xt7vTrGNrgi6l2RmfOFzjkkAccd6zfEnjeLWvD2o6DrOjX1vq8n7mOzhiMnmNn5XRwNuARnPtXBWl7z5ltsfU4GnKNOCpO/P8dmrqO1mvLdvbbsej6s11/Zdy1h5ZvRGxhEn3S+OAfbNP0m4urrTbeW8gW2umQGWFXDhWxyAR1Ga5PRNP8U3nhC/s9aa1ivJLNoYJIGLPuKEbn4wDnHT3rS+G0qyeBdHC28lqY4BG8MilSrrwwwefvA10wm52uraHjVcOqVOSTUrStda7p9fl2OlHrXH69PHa/ETwuZWCCaC6iQt0Z8RkLn1wD+VdgK8++NyzDwvYS2szW95HqMPkTJ95GbcuR74Y06ukG10Hl8faYmNNu3NeP3po6TxR4Wj8UQpBNfXtpCAyulnKEEoYAENwcjj9TWEfD40jxp4Yt9O054tMsrS5Xzo0+RGbbwx9TtP4mu1toXht4o3kaV1UAyN1YgdTUuKJU4z19PwIp4upSj7NO8bNW6apq/4jWXcuCMgjFYfhfwjb+F7jVZbeaSQahcm5dZDnaxHIB9M1vNTa0snZ9jmjUnCMoRekt/zH1ieJNF1HWFSKz1eTS4CrLMIYlZ3zjox+7xnp61t0hoa5lZip1HTkpR3+/wDM8/1zw7p/hHw1o+nWSrGh1S0A3H55ZPOVmY+pIBP0HoK9AqKa1iuPL82NJPLbem9QdrdMj0PJ/OpamMVF6GtWvKtFKeru3f1sctD4Zv1+IEmvG+ja0e1+yi2MWGVchuG7/MM8+uK6mjFLRGKjexNWtKty83RJfJHPeLbzxDbQwpoGnW97LISHe4m2CLphsfxDrXPXngCa6tp9S8RX7a1fQwOYY8BIIWwTlUGMn3NehVHcQJdQvFINyOpVh7EYqJUlJ3lqdNHGTw6SppLu1u/n/lbzMTwK4HgnQ2J4Wwgz/wB+1rG8D6ha6p4g8UXllMlxbTz27pJGchv3I/wx+FdVouj2/h/S7fT7TzPs0C7IxI5chc8DJ7DoPYVW0vw3p+gzXLadZxWguX82URjAZvXFOUHJx8inXpfv9/f2/wDAk9fuOU1i98R+M76XSrC1udB0xJGjudRmwskqg4xEAcjP970qvb+G9O8I+PPD8WmWq2q3NrdRzFc5k27GBY9zkn869G2ndyc1Vn0y3uLy3u5Ile4t9wik7puGGx9aPZK/M9WXHHWXs4rlhZ6Lq2mrvvr93Qsx4PTmuL+IEknh/VtG8TBGe2sC8N2qDJ8mQctj2IBrto125pl1AlxbyRSRrKjqVKMMhh6GqqR5o2RyYat7GqptXWqa8mrP8BkV9DdWaXULiaB08xHj+YMuMgjHWvPte8WXnjhRo3huK8iik/4+9UMDRpGnGVUsBljkdO2a2vhv4bv/AA3o80F9iMyXMksVqj71t4yeEDd/X8a6/io1qQ10udCnSwdeTglO2z6etuv5epy/w1ujeeBtGdmd3WARuZCS25SVOSevINdNVLRdFtvD+nR2NoGW3jLFQzZPLFjz9SavZHpWkVaKTOXETjUrTnDZttfeJS7qSiqOcXdVbUtPi1bTrmznyYriNon2nBwwwce9WKKT1VioycWpLdHL2fw20KxOmOLMSSacmy3eRidvJOSOhOSTnHWmWfw30W01i51NrX7TeTXH2kSTnd5bZJ+X05J966uioVOC6HV9cxOv7x6+fzEG76j60/p9KQGkrQ5BTQvWkpV60CFXpS0i9KWgAooooAKKKKACiiigAooooAKRulLSUAeP+GfhrHqreI572CTT746xPLY3iIUljQN8pXPVTj6EH3rcs/EGtW9jcaP4h0C91Uh2ge9tIl8maI9HOWBHB5wK9CaMN1pfLH4VzxoRhpDQ9irmdTEN+2jzLS2+luz6emx4douraNa+OoNSh0e40TTLNHCN9kmeS4dgVyQAQoA/nXqWi+PvD/iK5jt9P1OG5uJFLLEMhsDrkEcVvhcUeWM5704RlDS+noTjMZSxbUnBppWXvX++6u/vF21laT4astFuNQntkYS385uJ2ZixZj9ew7DtWtRW1k9zzFOUU4p6M43Xfhvp+oNqd5Zottq14igXD5KK6sGV9vqCAfwp2i/C7Q9OmS8u7f8AtbVOr3l8xlYt6jd056eldhRWfsoX5rHX9exPJ7Pndv6Vr9vIwG8Ov/wmUOrho1torF7YR87t7OrZ9MYBH41u7d3Q06irjFR2OWpUlUtzdFYbt96NtOoqzKwmPevAri6uviR8Rteg0WFrO/0u6jgXVXk8swqgwy7By4Jz144r36vNY/hTDfa54hvNQAge6uvPs7qzkKTxfLgncMdwOOR+dceIhOpy8vfU+gynEUML7WdX4nG0euvMr6aX089u+x6E80drHEJ5kQkqgZyBuY8AfUntXP2/xC0Z7u8tbmdtNubXcWivl8oso/iUnhgfauTutF8Rax4JktNTEaatpd4s9teXD/JMsb5Dtjplcgiqnh7Wx448WWNlew6N4itkhd557e0YrbMPurvfrnB4xniiVWSaSVrl08vpclSc5c3Le9ntbVPqmmu9tfPQ9R0nVbbXNOgvrRzJbTDcjFSuRkjOD9Kt0LGsaBUUKo4CqMAUV1LbU+fly8z5VoFKDSUUyR3Wm7RnpzWL401hND8J6reu23yrdtuDgliMKPzIrg/AWp3/AIP03VNL1aea5lgsf7UgkmYlmTyxvQZPVWGPxrGdVU5KLPSoYKdehKtB6p2t37/ddHqiyJIzKkisVOGCnOD6Gn8AYFeZ/AmSefQdXnuXMk82otI7N13GOMnP4n9K9MFVTl7SKkY4vD/VK86F78olNkjSXAdFcAgjcM4I70/3oArQ4xaWkpN1ACtVPVNUttGszdXcywQblQu3QFmCj9SKtlvWuB+Nzq3w9vIR80txNDHFGOrt5gOB74B/KoqS5YOXY68HRWIxNOg/tNL7zvaKztH1iHUNG028Z1i+2RI6K5AJLLuwPfrWiKpNSV0c84OEnGXQKKXA9aSmQFFFR3FxFawvNPIkMSjLSSMFUfUmge5JRTVkVlDBgVPIPanZoEFFH6UvFABRRSUAPopKNwoAWimbxnGRmhZA3cUAO9abT6a1ACUUUUAFFFFABRRRQAUUUUAFKvWkpV60AKvSlpF6UtABRRRQAUUUUAFFFFABRRRQAUUUUAFFFFABRRRQAUUUUAFFFFABRRRQAUUUUAFJtFLRQAxo1YdKZHapE2VUKfYVNRQAlG2looATbRtpaKAOG+IUY1bWPDWhmPzYrm7NzOuePLiG7BHcElal8e/D0eMzaSx3bWU8WYpJFXJkhb76dR14rS/4RP8A4rR/ED3kkp+zfZo7VgNsYJUsQffaK6AEVz+z5+bn6nqPFugqX1eWsU/vb138rL5HEfDuEP4a1e2tZ/Jdb+7iWRQC0Z3nBwe4yDg1c8H6lquu+B97XcJ1dTNB9oMXyeYkjIGKg/7IOPeultrOCz8wQwpF5jl32KBuY9SfU1Hp2k2ekRypZW0dssshlcRqBuc9WPuacIyikia+KhWlOfLq5Jr8br5/oeZ2XxA1jXrLR9J02eFfEk8kovC8W5LdI9wLMvYsQuPrWtN4y1CT4WrrjFbfUI2VZWXBXKzhGP0IB/OuztdHsbO+uLyC0hiu7jHnTIgDPjpk96gh8L6Zb6TJpi2kbWMjF2gb5lJJ3Hr780KNTrI6p4vCSknGlZKSfTz5l6bJLyJtSs01nSZIlnmiSZAyy20hR/UFWHSvDdD1DxtpFro+sXD3L3l5N/Zosb3cMfuxtkYHnJYMxzXv6osaBAuEUYCgcAUySGKYoZI1co25dwzg+o96mpSdRpp2McHjlhIyg4KSff0enz0+48vn8ea7o63OnXl3p76gt6sH26WPy4o4/IWVmZd3OM4HI61S8MaxrHxQ1K2W9jU6Tp7yXCXscJijupCpWIqGJIwGZvrivQb7wF4e1PVH1G70q3uL1/vSyLuzwF6dOgA/CtyGGO3jSONAkaDaqqMAAelZRo1L+89DslmGFhT/AHNK1RrfRWdtWv02t2PNY9D1rVPh3Dp8tlLYa5oTo1o24FZniHyleeQykrz3JrJvtU+JOiwt5j285Nq2oSytCAkATJaDIwDkFefY4Jr2Tj0pJI1mjaN1V0YFWVhkEHqCK09jppJoyhmnK3z0oyTbdmr2vvbyvrY8q8R694s8ZXmljwmBb6PcwLOdQ3DG/JDRt1xtxggDOc13PhDVNR1TSwdV0+XT76E+XIrj5XI/iT1U1sWtnDYwLDbxRwQr92ONQqjJycAe9TYrSEJRd3K/5HJXxcKlJUYUkktn1+b6/wBWG1T1jTYdY0u5srhQ8M6FGB/nVyitt9Dz4ycWpLdHiek+HNd8c6HFpmpefp1to0EkClmIa5uMFUbII4QY+pNMXxF4kvrnRNduLS7tdP0QxW95BtcySu6hZX2jqFz/AFr24Kq5wOtG0bgccjoa4lhrWak/8+x9D/bF3LmpJp7Ltf4reb79OnQ+ftU1SfxRfahdNZ61DrLX6NovmxOIPLVgQ3oO5OfavRfHviC8XxFomgQ3iaRb3h8+e+eTYWVTjykP94nHfoa72qWq6Jp+uQCHULOG8iByFmQMBVxpSpp2erM55jSrVIOdO0Y3sr3tdJK1+1r273FsdYsNRmmhtL23upoMCWOGUOY85xuAPHQ/lV0VQ0rQ9O0OAw6fZQWcZOSsKBc/X1q9XSr21PEqcnM/Z3t5hIA6kHkEYNeLwSa9YatrehWt9dR6XozNqDSq7NcTRsu5IFJ6DIIz35r2imLDGrswRQzfebHJx0zWdSHP1O3CYz6qpJxUr9+j7/ddfM8J+Hul3fibxhY6o093KVElzqNxuZYS7jEcCZ5O0Hk9M/SrOpWPi3w14L1g6kscWmw3CT2oa5aaeL96pVA3dfXdz7V7csYXooA9qwPH+i3HiDwfqWn2kay3E8exFZgozkdzXH9X5YNp66nsxzh1sTHmglBuK11sk76PS276baHCWHxm1XVLiwW1sdPka8lVY7NZnacITy74G1OPX9a9I0nxFa63fana2+8yafKIJty4G7APB79an0vTLaxtohHbRQyCNUZkQA8AcE4qzFaw27StFEkbStvcqANzYAyfU4A/Kt6Makfjlc8rF1sLUbVGly/Pz/yJKKKK6jygooooAKKKKACiiigApV60lKtACr0paRelLQAUUUUAFFFFABRRRQAUUUUAFFFFABRRRQAUUUUAFFFFABRRRQAUUUUAFFFFABRRRQAUUUUAFFFFABRRRQAjdKbTm6U2gAooooAKp6vrdjoFi95qN1HaW68b5WAyfQep9hzV0daqarpNnrEKRXltDdxo/mKkyBwGAIzg98E/nSd7aGlPk5lz7eRU0nxZpWuaT/adpeRyWS5LStldmOu4HBH41Z0vWrHXLY3On3cN5bhihkhcMu4dRkfWvP8AWvh7Pf8AjorCslvoF9GtxfrEQqSTISAuPcYJqx4dtdc8P+IL3SrPRVj0ufUXuWvGZREsBRRtRQc7sgDpiueM5qVpR0PZqYPCum50amtr2dtF2b6v08u500fjzw/Nqh05dWtTehzGYd/O4ds9M+1b3XkdK8vs/gPpVvYXkU91Le3MsTRwzSAL5JPOQB3zg5NdJ4L07xRbsZfEN5bkLCsUdraYZMgDMhYqG3cEY6YNVCdRu042MsVh8Go82Fq3tunpf/D/AME6ymT3EdrC8s0ixRKMs7sAB9SafVfULCDVLGe0uYlmgmQo8bjIINbHkxtzLm2M7WPGmiaA0S6hqdvatKu9A7/eX1+nvWPpPxS0nXNeh0yzjuZfP3iK6MYEUm0ZbBzn9O9cf4Z+FOo3PhXW7LXG2Xc1v/Z1pJw/lwoflI9ice+Ks+GfC+teF7pp7bwbpP2xRs+1R6gwU8clFZTtz3xjvXD7WteL5dPxPp/qeX04TgqnPUWi1Sjtur29N3tsejzeJdKt75rKbULaC7VQ5hklCttPQ4Parhv7YSQoZow0xxECw+fjPHrxXl3xE0nX9c0nTGutFtpSxkW+SzhS5mjTGU8svjvnOD34p2l+H9c1Cy0Ke2C6QmiySrax6qC7TRlAqyOB90jLYGeBVutJTa5dDjWX0XRjUdVJu6eqaVr227vy21PVJGCKSeAOa4fUfiRp1r4v0PT4dVsntr4Tq48xSxkUgKAc+pIrkr268S+Kvhnf38t/J5ou3MS2MGTNCPkCgLzgtznngVmfDH4Z6r4dv/Dt7NoVtAkbTmaZT++w6jDybjkknHA6YPrxjPETlJRhHs7nfQy3DUKVSpiqqco80eVd+V9X526Hu008cMZeR1jRRlmYgAD1NVpNWsoYI55LuBIJCAkjSqFYnoAc8muK8TeFtUfxJeXlnp8GpafqNotvd20t0YtzA8N07AAcVxMvwV166la4HkWb4meK3S4LRQsz5QDI/hDN0HYVrOtUTtCFzjw2AwlSKlWrqN/T7t77+Vj26HUrS6mkhhuYZZY/vxo4LL9R2qHUNcsNKa3F1dRQtcP5cSseXY9hXl+ifBG70fyNRi1CKHWY5kdRGD5CoM5XHVifUmobfwJ4jvtXuWntPKvLid2fWLiVZBDFnAWBB907cckZ96FWq2s4al/2fgnN8mITivk/x3Xpd+RqQ+L5fFnxgttNspZBpekxSvLJE3yTSFQOccYBOPrmvTYLqK43eVIkmw7W2MDtPocd68tj+H+t+GdXntPDEdvbabdWkVu2oTvmWDaW3ELnljnOfUj0q/J4Nj8Fa54cutFjumeWcW1+2WcSowOZJOwOcHNKnUnG/Ouo8VRwlblVGdrR0XdpXfN2bei3+49IbpTacelNruPnAooooGFFFFBIUUUUAFFFFABRRRQAUq0lKtACr0paRelLQAUUUUAFFFFABRRRQAUUUUAFFFFABRRRQAUUUUAFFFFABRRRQAUUUUAFFFFABRRRQAUUUUAFFFFABRRRQAjdKbTm6U2gAooooAKKKKACiiuLu/FutTeLptO0iwt7+xsmiW9dpNsiFxn5c8fKOSOvIqZSUdzoo0J121Horu+n9djtKKQMCKWqOcKKPxooAXNLxTaDxQAVR1rSU1zS7mxeaa3SdNjSQMFcDPOD29Pxq6rBhkEEUuaTSejLjJwakt0VNL0q20fToLC0i8q2gQIi5zgCrmDxUV1dQWMD3FzPHbwRjLyyuFVR6kngVUstWsvEGmtPp18k9vIGRbi3YMARkEg+oP8AKkuWOg5c87zevd+Zoc0vauE8C+NLSPwxp8Or61byaq0slv8Av5VEsrLKyr8o55AHauh8J+ID4h8P22ozRrbvLuBRWyAVYrwfwqY1IySN62Eq0XLmWkXa/nrt9zNinCopLqGFo1kkRHkO1FZgCxxnA9eKqReINPm1mXSo7lW1CKMTPAAcqhxgn8xV3RzxhKSbSvb8jQo61n65pEeuafJaSy3ECN/y0tpmikU+oZTkVzXhe/1PQ/EkvhrVJpNQjaE3NlqEnLvGCAyP/tAnr3qXKzszenQ9pTlKMtVrby7r/I7U9KbTm6U2rOYKKKKACiiigQUUUUAFFFFABRRRQAUq9aSlXrQAq9KWkXpS0AFFFFABRRRQAUUUUAFFFFABRRRQAUUUUAFFFFABRRRQAUUUUAFFFFABRRRQAUUUUAFFFFABRRRQAUUUUAI3Sm05ulNoAKKKKACiiigAridEmOl/ELxBpk+Ivt/lX1qxP+s+QJIB7goOPc121c5418IjxRZxSW7ra6rauJbS7xzGwOcE/wB09xWVSLkk10O7CSgpOnVdoyVr9tU0/vWvkZfxZ01f+EQur9Ec3tivm28kbsCh3KSeDzwK5u8tdb8aaRqPiV7i+0lYY2l0uxiYqwCch3A+8Wx06YNei+HZNaktZP7citI7jf8AJ9jZiu3HfPfNa+0NkEZFZypObvc66eMeEiqSipNPffTS6XTW2/qeO+MPiMmoaP4ce01KWGO8gaa5TTyRP5gRSkfGSuWLf98+1a/wm12402zvNG8R3rx6zHcB0S+n3O6SKpUKWPPORgdK7vSfDmmaD5/9nWNvZec26TyIwm4/h9Tx70X3h3TNTvILu7sLe4urcgxTSRhmQg5BBPTmoVKpzqbkb1MdhZUHhoU2o99L3vddPlv22L/615f4ii8RL4ivtDtzfHTNWuIpEvg5cW0WCZkBx8ueABnjPFeoAbeKMD0rplFS3PMwmJ+qycnFS069Hun8meOWd9qXhPVdS8E6EGaeWRJrGSY5W1hdcyMc9QrZx6lq2NE1iXQ18R6M2tNqGtxNiyiupd0sreQrcKT0LZ6V6T9ni8zzNi+YRt3Y5x6ZqumkWMN692lnbrdycPcLEokbp1bGT0H5Vz+xaejPQnmFOrFxlT3Sv3clbV+Wm3mz5+u/AHivVPDKo+napBcgx+fI2pCRpiGBZvJYYOfTI6V3fg/w9rWsWMunax9v0mztWPkS2pS1e4Vs5DqhPT2POa9O8tfT9KPLX+6PyqY4SKlzN3N6+d1q1L2bglrdPW69Lt/5Hkuj/C/VfB9zdWGgw2H9n3MvmpqdwA91bgnLDkfMc5wfeqOn/C3xna+VBe6jZ6npdtMJYdPaZ4VPLNkso67jnpXtHlr/AHR+VLtHpT+qUtLX08zL+28X7zlZuW7a1vte+6focPrnh3xJrM2iajDJY6dqNi02+J900fzgKGB+U5AHT3qhH8MdT0u+g1TTdZ/4nchkF9eXCZEyMVOAvQbdowK9IwPSitnRg3dnJDMa1OKhCyWvRbO7s77q7vYRSdvNcPpGpN4q+Ilxe2ozpWj272Yn6ied2UuFPooUfia7S6to7y2mt5RmKVCjgEjIIweR7VX0fRbHQLFLPT7dba2TOEX1PJJ9T7mrlG7VtjmpVYU4T095qy7JPf520LzdKSlzSVZyBRRRQAUUUUAFFFFABRRRQAUUUUAFKvWkpV60AKvSlpF6UtABRRRQAUUUUAFFFFABRRRQAUUUUAFFFFABRRRQAUUUUAFFFFABRRRQAUUUUAFFFFABRRRQAUUUUAFFFFACN0ptObpTaACiiigAooooAKKKKACncU2igB2RRkU2igBTSUUUAL6UNSUrUAJRRRQV0CiiigkKKKKACiiigAooooAKKKKACiiigAooooAKKKKACiiigApV60lKvWgD/9k=)\n",
        "\n"
      ]
    },
    {
      "cell_type": "markdown",
      "metadata": {
        "id": "OyuUsicN4mLf"
      },
      "source": [
        "\n",
        "# Kroki analizowania problemu\n",
        "\n",
        "Identyfikacja zmiennych decyzyjnych\n",
        "\n",
        "Określenie funkcji celu\n",
        "\n",
        "Określenie ograniczeń\n",
        "\n",
        "Rozwiązanie problemu"
      ]
    },
    {
      "cell_type": "markdown",
      "metadata": {
        "id": "EpJmnxGb4w6I"
      },
      "source": [
        "\n",
        "**Zmienne decyzyjne**\n",
        "\n",
        "prądy w gałęziach układu (patrz rysunek)\n",
        "\n",
        "i1, i2, i3, i4, i5"
      ]
    },
    {
      "cell_type": "markdown",
      "metadata": {
        "id": "3vYeEr1_5By2"
      },
      "source": [
        "\n",
        "**Funkcja celu**\n",
        "\n",
        "minimalizacja mocy \n",
        "\n",
        "6.0* i1 + 10.0* i2 + 4.0 * i3 + 7.0 * i4 + 3.0 *i5  "
      ]
    },
    {
      "cell_type": "markdown",
      "metadata": {
        "id": "jKvf3fFW5Rf1"
      },
      "source": [
        "**Ograniczenia**\n",
        "\n",
        "* dopuszczalne wartośći min/max prądów \n",
        "\n",
        "3<=i1<=5\n",
        "\n",
        "1<=i2<=3\n",
        "\n",
        "1<=i3<=3\n",
        "\n",
        "1<=i4<=3\n",
        "\n",
        "3<=i5<=5\n",
        "\n",
        "* prawo kirchoffa\n",
        "\n",
        "i5==i3+i2\n",
        "\n",
        "i1==i3+i4  \n",
        "\n",
        "i2+i1 == i4+i5"
      ]
    },
    {
      "cell_type": "markdown",
      "metadata": {
        "id": "11r7VOYf9PW7"
      },
      "source": [
        "# Rozwiązanie problemu za pomocą biblioteki pulp\n",
        "\n"
      ]
    },
    {
      "cell_type": "code",
      "metadata": {
        "id": "ZHOUblQ3a7e0",
        "colab": {
          "base_uri": "https://localhost:8080/"
        },
        "outputId": "43d84177-75b2-4ba9-cc33-c558b8f9b6da"
      },
      "source": [
        "from pulp import *\n",
        "prob = LpProblem(\"Problem10\",LpMinimize)\n",
        "\n",
        "i1=LpVariable(\"I_1\",3,5)  \n",
        "i2=LpVariable(\"I_2\",1,3)\n",
        "i3=LpVariable(\"I_3\",1,3)\n",
        "i4=LpVariable(\"I_4\",1,3)\n",
        "i5=LpVariable(\"I_5\",3,5)\n",
        "\n",
        "prob += 6.0* i1 + 10.0* i2 + 4.0 * i3 + 7.0 * i4 + 3.0 *i5   #min mocy\n",
        "\n",
        "prob += i5==i3+i2\n",
        "prob += i1==i3+i4   \n",
        "prob += i2+i1 == i4+i5   #prawa oczkowe\n",
        "\n",
        "prob.solve()\n",
        "print(\"Status:\", LpStatus[prob.status])\n",
        "\n",
        "for v in prob.variables():\n",
        "    print(v.name, \"=\", v.varValue, \"mA\")\n",
        "print(\"Moc {} mW  \".format( value(prob.objective)))\n",
        "\n",
        "r1=6/value(i1)\n",
        "r2=10/value(i2)\n",
        "r3=4/value(i3)\n",
        "r4=7/value(i4)\n",
        "r5=3/value(i5)\n",
        "print(\"R1=\",r1,\"kOhm\",\"R2=\",r2,\"kOhm\",\"R3=\",r3,\"kOhm\",\"R4=\",r4,\"kOhm\",\"R5=\",r5,\"kOhm\",)"
      ],
      "execution_count": 3,
      "outputs": [
        {
          "output_type": "stream",
          "text": [
            "Status: Optimal\n",
            "I_1 = 3.0 mA\n",
            "I_2 = 1.0 mA\n",
            "I_3 = 2.0 mA\n",
            "I_4 = 1.0 mA\n",
            "I_5 = 3.0 mA\n",
            "Moc 52.0 mW  \n",
            "R1= 2.0 kOhm R2= 10.0 kOhm R3= 2.0 kOhm R4= 7.0 kOhm R5= 1.0 kOhm\n"
          ],
          "name": "stdout"
        }
      ]
    },
    {
      "cell_type": "markdown",
      "metadata": {
        "id": "ITAeFJyM7sPh"
      },
      "source": [
        "# **PROBLEM 2**\n"
      ]
    },
    {
      "cell_type": "markdown",
      "metadata": {
        "id": "NLy6pO0w9ZX8"
      },
      "source": [
        "Wyzmacz maksymalny prąd w układzie. "
      ]
    },
    {
      "cell_type": "markdown",
      "metadata": {
        "id": "u46ST34q9gdq"
      },
      "source": [
        "![prad.jpg](data:image/jpeg;base64,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)"
      ]
    },
    {
      "cell_type": "markdown",
      "metadata": {
        "id": "P1Y9tPqm95EB"
      },
      "source": [
        "# Kroki analizowania problemu\n",
        "\n",
        "Identyfikacja zmiennych decyzyjnych\n",
        "\n",
        "Określenie funkcji celu\n",
        "\n",
        "Określenie ograniczeń\n",
        "\n",
        "Rozwiązanie problemu"
      ]
    },
    {
      "cell_type": "markdown",
      "metadata": {
        "id": "RADGN4H-9-tw"
      },
      "source": [
        "**Zmienne decyzyjne**\n",
        "\n",
        "prądy w gałęziach układu (patrz rysunek)\n",
        "\n",
        "i1, i2, i3, i4, i5"
      ]
    },
    {
      "cell_type": "markdown",
      "metadata": {
        "id": "J_8hJvGI-MOH"
      },
      "source": [
        "**Funkcja celu**\n",
        "\n",
        "maksymalizacja prądu \n",
        "\n",
        "i3 "
      ]
    },
    {
      "cell_type": "markdown",
      "metadata": {
        "id": "IRSbwu4V-X9n"
      },
      "source": [
        "**Ograniczenia**\n",
        "\n",
        "* dopuszczalne wartośći min/max prądów (większe od 0)\n",
        "\n",
        "0<=i1<=2\n",
        "\n",
        "0<=i2<=3\n",
        "\n",
        "0<=i3<=4\n",
        "\n",
        "0<=i4<=2\n",
        "\n",
        "0<=i5<=2\n",
        "\n",
        "* prawo kirchoffa\n",
        "\n",
        "i3==i1+i2\n",
        "\n",
        "i3==i5+i4  \n",
        "\n",
        "* połaczenie równoległe\n",
        "\n",
        "8.0 * i1  == 6.0 * i2\n",
        "\n",
        "10.0 * i4 == 8.0 * i5\n",
        "\n",
        "* maksymalne napiecie dopuszczalne na rezystorach\n",
        "\n",
        "2.0 * 8.0  >= 8.0 * i1\n",
        "\n",
        "3.0 * 6.0  >= 6.0 * i2\n",
        "\n",
        "4.0 * 4.0  >= 4.0 * i3\n",
        "\n",
        "2.0 * 10.0 >= 10.0 * i4\n",
        "\n",
        "2.0 * 8.0  >= 8.0 * i5 "
      ]
    },
    {
      "cell_type": "code",
      "metadata": {
        "id": "IE1fXFisa_LO",
        "colab": {
          "base_uri": "https://localhost:8080/"
        },
        "outputId": "2ee58b13-1d84-419b-cce2-9d915f5f530f"
      },
      "source": [
        "from pulp import *\n",
        "prob = LpProblem(\"Problem20\",LpMaximize)\n",
        "\n",
        "\n",
        "\n",
        "\n",
        "i1=LpVariable(\"I_1\",0,2)  \n",
        "i2=LpVariable(\"I_2\",0,3)\n",
        "i3=LpVariable(\"I_3\",0,4)\n",
        "i4=LpVariable(\"I_4\",0,2)\n",
        "i5=LpVariable(\"I_5\",0,2)\n",
        "\n",
        "prob += i3  #max prad\n",
        "\n",
        "prob += i3==i1+i2 \n",
        "prob += i3==i4+i5   #węzły\n",
        "\n",
        "prob += 8.0*i1  == 6.0*i2\n",
        "prob += 10.0*i4 == 8.0*i5\n",
        "\n",
        "prob += 2.0*8.0  >= 8.0*i1\n",
        "prob += 3.0*6.0  >= 6.0*i2\n",
        "prob += 4.0*4.0  >= 4.0*i3\n",
        "prob += 2.0*10.0 >= 10.0*i4\n",
        "prob += 2.0*8.0  >= 8.0*i5    # ograniczenie max U\n",
        "\n",
        "\n",
        "prob.solve()\n",
        "print(\"Status:\", LpStatus[prob.status])\n",
        "\n",
        "for v in prob.variables():\n",
        "    print(v.name, \"=\", v.varValue, \"A\")\n",
        "print(\"Prąd {} A  \".format( value(prob.objective)))"
      ],
      "execution_count": 4,
      "outputs": [
        {
          "output_type": "stream",
          "text": [
            "Status: Optimal\n",
            "I_1 = 1.5428571 A\n",
            "I_2 = 2.0571429 A\n",
            "I_3 = 3.6 A\n",
            "I_4 = 1.6 A\n",
            "I_5 = 2.0 A\n",
            "Prąd 3.6 A  \n"
          ],
          "name": "stdout"
        }
      ]
    }
  ]
}