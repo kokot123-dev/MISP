{
  "nbformat": 4,
  "nbformat_minor": 0,
  "metadata": {
    "kernelspec": {
      "display_name": "Python 3",
      "language": "python",
      "name": "python3"
    },
    "language_info": {
      "codemirror_mode": {
        "name": "ipython",
        "version": 3
      },
      "file_extension": ".py",
      "mimetype": "text/x-python",
      "name": "python",
      "nbconvert_exporter": "python",
      "pygments_lexer": "ipython3",
      "version": "3.8.3"
    },
    "colab": {
      "name": "zaj2.ipynb",
      "provenance": [],
      "collapsed_sections": [],
      "include_colab_link": true
    }
  },
  "cells": [
    {
      "cell_type": "markdown",
      "metadata": {
        "id": "view-in-github",
        "colab_type": "text"
      },
      "source": [
        "<a href=\"https://colab.research.google.com/github/kokot123-dev/MISP/blob/main/zaj2.ipynb\" target=\"_parent\"><img src=\"https://colab.research.google.com/assets/colab-badge.svg\" alt=\"Open In Colab\"/></a>"
      ]
    },
    {
      "cell_type": "code",
      "metadata": {
        "id": "RNUN7ugYry7E"
      },
      "source": [
        "import numpy as np"
      ],
      "execution_count": 2,
      "outputs": []
    },
    {
      "cell_type": "code",
      "metadata": {
        "id": "x0Dn_aqary7O"
      },
      "source": [
        "a_list= [1,2,3,4,5, [1,2,3], \"temat\"] # nie idealna lista\n",
        "k_krotka = (1,2,3,4,5, [1,2,3], \"temat\")\n",
        "b_list = [1,2,3,4,5]\n",
        "n_array = np.array(b_list) # wektor numpy\n"
      ],
      "execution_count": 3,
      "outputs": []
    },
    {
      "cell_type": "code",
      "metadata": {
        "id": "z0WkhRZpry7U",
        "colab": {
          "base_uri": "https://localhost:8080/"
        },
        "outputId": "c8870e22-868c-45c9-d806-1740a2e290b3"
      },
      "source": [
        "a_list+b_list\n",
        "n_array+n_array"
      ],
      "execution_count": 4,
      "outputs": [
        {
          "output_type": "execute_result",
          "data": {
            "text/plain": [
              "array([ 2,  4,  6,  8, 10])"
            ]
          },
          "metadata": {
            "tags": []
          },
          "execution_count": 4
        }
      ]
    },
    {
      "cell_type": "code",
      "metadata": {
        "id": "wDKAyVg0ry7e",
        "colab": {
          "base_uri": "https://localhost:8080/"
        },
        "outputId": "6726c9dc-0dad-4f81-89cc-9956615ffc42"
      },
      "source": [
        "a_list[3]"
      ],
      "execution_count": 5,
      "outputs": [
        {
          "output_type": "execute_result",
          "data": {
            "text/plain": [
              "4"
            ]
          },
          "metadata": {
            "tags": []
          },
          "execution_count": 5
        }
      ]
    },
    {
      "cell_type": "code",
      "metadata": {
        "id": "8uTYkmukry7k",
        "colab": {
          "base_uri": "https://localhost:8080/"
        },
        "outputId": "6c9396ec-dbe7-458f-a5ea-2d5e11ae6ba6"
      },
      "source": [
        "a_list.append(100)\n",
        "print(a_list)"
      ],
      "execution_count": 6,
      "outputs": [
        {
          "output_type": "stream",
          "text": [
            "[1, 2, 3, 4, 5, [1, 2, 3], 'temat', 100]\n"
          ],
          "name": "stdout"
        }
      ]
    },
    {
      "cell_type": "code",
      "metadata": {
        "id": "bQQbd3Kyry7p",
        "colab": {
          "base_uri": "https://localhost:8080/"
        },
        "outputId": "bebde934-4ba3-469c-d0e3-6424aca9c235"
      },
      "source": [
        "k_krotka[4]"
      ],
      "execution_count": 7,
      "outputs": [
        {
          "output_type": "execute_result",
          "data": {
            "text/plain": [
              "5"
            ]
          },
          "metadata": {
            "tags": []
          },
          "execution_count": 7
        }
      ]
    },
    {
      "cell_type": "code",
      "metadata": {
        "id": "6sSSZeyLry7u",
        "colab": {
          "base_uri": "https://localhost:8080/",
          "height": 163
        },
        "outputId": "4a70476d-5b4d-4bb9-f250-bcef7d735a7e"
      },
      "source": [
        "k_krotka.append(100)"
      ],
      "execution_count": 8,
      "outputs": [
        {
          "output_type": "error",
          "ename": "AttributeError",
          "evalue": "ignored",
          "traceback": [
            "\u001b[0;31m---------------------------------------------------------------------------\u001b[0m",
            "\u001b[0;31mAttributeError\u001b[0m                            Traceback (most recent call last)",
            "\u001b[0;32m<ipython-input-8-4da2f0146474>\u001b[0m in \u001b[0;36m<module>\u001b[0;34m()\u001b[0m\n\u001b[0;32m----> 1\u001b[0;31m \u001b[0mk_krotka\u001b[0m\u001b[0;34m.\u001b[0m\u001b[0mappend\u001b[0m\u001b[0;34m(\u001b[0m\u001b[0;36m100\u001b[0m\u001b[0;34m)\u001b[0m\u001b[0;34m\u001b[0m\u001b[0;34m\u001b[0m\u001b[0m\n\u001b[0m",
            "\u001b[0;31mAttributeError\u001b[0m: 'tuple' object has no attribute 'append'"
          ]
        }
      ]
    },
    {
      "cell_type": "code",
      "metadata": {
        "id": "6-v1ghVory70",
        "colab": {
          "base_uri": "https://localhost:8080/"
        },
        "outputId": "6b82425a-e243-4f87-e161-cf00bb549547"
      },
      "source": [
        "np.array(b_list)+np.array(b_list)"
      ],
      "execution_count": 9,
      "outputs": [
        {
          "output_type": "execute_result",
          "data": {
            "text/plain": [
              "array([ 2,  4,  6,  8, 10])"
            ]
          },
          "metadata": {
            "tags": []
          },
          "execution_count": 9
        }
      ]
    },
    {
      "cell_type": "code",
      "metadata": {
        "id": "8pYA9klMry74"
      },
      "source": [
        "n_array = np.array(a_list) # wektor numpy"
      ],
      "execution_count": 10,
      "outputs": []
    },
    {
      "cell_type": "code",
      "metadata": {
        "id": "NwX5NiM8ry79"
      },
      "source": [
        "n_array"
      ],
      "execution_count": null,
      "outputs": []
    },
    {
      "cell_type": "code",
      "metadata": {
        "id": "Y4fQfL6Dry8B"
      },
      "source": [
        "#### Nowosci\n",
        "\n",
        "studenci_slownik = {123: 123,\"Igor\":3, \"Frankek\":5, \"Zosia\":22,\"Julia\":[2,21], (1,2):\"Krotka\"}"
      ],
      "execution_count": 12,
      "outputs": []
    },
    {
      "cell_type": "code",
      "metadata": {
        "id": "DN3x5uhary8F",
        "colab": {
          "base_uri": "https://localhost:8080/"
        },
        "outputId": "47a7e544-1b6f-4319-801b-7fe6502d747f"
      },
      "source": [
        "print(studenci_slownik)"
      ],
      "execution_count": 13,
      "outputs": [
        {
          "output_type": "stream",
          "text": [
            "{123: 123, 'Igor': 3, 'Frankek': 5, 'Zosia': 22, 'Julia': [2, 21], (1, 2): 'Krotka'}\n"
          ],
          "name": "stdout"
        }
      ]
    },
    {
      "cell_type": "code",
      "metadata": {
        "id": "KDbsMossry8K",
        "colab": {
          "base_uri": "https://localhost:8080/"
        },
        "outputId": "6c26c389-d21f-4e5c-bbff-b11d30d0f607"
      },
      "source": [
        "studenci_slownik[\"Zosia\"]"
      ],
      "execution_count": 14,
      "outputs": [
        {
          "output_type": "execute_result",
          "data": {
            "text/plain": [
              "22"
            ]
          },
          "metadata": {
            "tags": []
          },
          "execution_count": 14
        }
      ]
    },
    {
      "cell_type": "code",
      "metadata": {
        "id": "kvhknOrUry8P",
        "colab": {
          "base_uri": "https://localhost:8080/"
        },
        "outputId": "35d89948-170a-4bc9-abf0-aa4510da00d1"
      },
      "source": [
        "for elementy in studenci_slownik:\n",
        "    print(elementy)\n",
        "\n",
        "print(\"*\"*20)\n",
        "for elementy in studenci_slownik.keys():\n",
        "    print(elementy)"
      ],
      "execution_count": 15,
      "outputs": [
        {
          "output_type": "stream",
          "text": [
            "123\n",
            "Igor\n",
            "Frankek\n",
            "Zosia\n",
            "Julia\n",
            "(1, 2)\n",
            "********************\n",
            "123\n",
            "Igor\n",
            "Frankek\n",
            "Zosia\n",
            "Julia\n",
            "(1, 2)\n"
          ],
          "name": "stdout"
        }
      ]
    },
    {
      "cell_type": "code",
      "metadata": {
        "id": "3-bW3-Myry8U",
        "colab": {
          "base_uri": "https://localhost:8080/"
        },
        "outputId": "75dffbf9-4bfc-4c14-d786-761f761a1baf"
      },
      "source": [
        "for elementy in studenci_slownik.items():\n",
        "    print(elementy)"
      ],
      "execution_count": 16,
      "outputs": [
        {
          "output_type": "stream",
          "text": [
            "(123, 123)\n",
            "('Igor', 3)\n",
            "('Frankek', 5)\n",
            "('Zosia', 22)\n",
            "('Julia', [2, 21])\n",
            "((1, 2), 'Krotka')\n"
          ],
          "name": "stdout"
        }
      ]
    },
    {
      "cell_type": "code",
      "metadata": {
        "id": "08btSKOory8Z",
        "colab": {
          "base_uri": "https://localhost:8080/"
        },
        "outputId": "419f9f9c-54ae-4ef9-c8d1-75def9d2a0f6"
      },
      "source": [
        "for elementy in studenci_slownik.values():\n",
        "    print(elementy)"
      ],
      "execution_count": 17,
      "outputs": [
        {
          "output_type": "stream",
          "text": [
            "123\n",
            "3\n",
            "5\n",
            "22\n",
            "[2, 21]\n",
            "Krotka\n"
          ],
          "name": "stdout"
        }
      ]
    },
    {
      "cell_type": "code",
      "metadata": {
        "id": "rK6Gy0ECry8c"
      },
      "source": [
        "studenci_slownik[\"Cuthulu\"]= -1000000"
      ],
      "execution_count": 18,
      "outputs": []
    },
    {
      "cell_type": "code",
      "metadata": {
        "id": "XTS76Ef1ry8h",
        "colab": {
          "base_uri": "https://localhost:8080/"
        },
        "outputId": "ad4f8ac8-ebc0-42b5-8391-078248a5da34"
      },
      "source": [
        "studenci_slownik"
      ],
      "execution_count": 19,
      "outputs": [
        {
          "output_type": "execute_result",
          "data": {
            "text/plain": [
              "{(1, 2): 'Krotka',\n",
              " 123: 123,\n",
              " 'Cuthulu': -1000000,\n",
              " 'Frankek': 5,\n",
              " 'Igor': 3,\n",
              " 'Julia': [2, 21],\n",
              " 'Zosia': 22}"
            ]
          },
          "metadata": {
            "tags": []
          },
          "execution_count": 19
        }
      ]
    },
    {
      "cell_type": "code",
      "metadata": {
        "id": "k6fqtickry8n",
        "colab": {
          "base_uri": "https://localhost:8080/"
        },
        "outputId": "c77735bc-fb73-4c22-e038-78e07e01b5f4"
      },
      "source": [
        "automatyczna_lista=[liczba**2 for liczba in range(100) if liczba%4==0]\n",
        "print(automatyczna_lista)"
      ],
      "execution_count": 20,
      "outputs": [
        {
          "output_type": "stream",
          "text": [
            "[0, 16, 64, 144, 256, 400, 576, 784, 1024, 1296, 1600, 1936, 2304, 2704, 3136, 3600, 4096, 4624, 5184, 5776, 6400, 7056, 7744, 8464, 9216]\n"
          ],
          "name": "stdout"
        }
      ]
    },
    {
      "cell_type": "code",
      "metadata": {
        "id": "d_XbgTlpry8r",
        "colab": {
          "base_uri": "https://localhost:8080/"
        },
        "outputId": "90f5972a-f113-4942-87ce-bdae1f1ed173"
      },
      "source": [
        "studenci = studenci_slownik.keys()\n",
        "automatyczny_slownik=dict(para for para in enumerate(studenci))\n",
        "print(automatyczny_slownik)"
      ],
      "execution_count": 21,
      "outputs": [
        {
          "output_type": "stream",
          "text": [
            "{0: 123, 1: 'Igor', 2: 'Frankek', 3: 'Zosia', 4: 'Julia', 5: (1, 2), 6: 'Cuthulu'}\n"
          ],
          "name": "stdout"
        }
      ]
    },
    {
      "cell_type": "code",
      "metadata": {
        "id": "oZtW-lwzry8v"
      },
      "source": [
        "##### zbiory\n",
        "\n",
        "a={1,2,3,\"Franek\"}\n",
        "b={2,3,4,\"Franek\"}\n"
      ],
      "execution_count": 22,
      "outputs": []
    },
    {
      "cell_type": "code",
      "metadata": {
        "id": "0y7zngQgry82",
        "colab": {
          "base_uri": "https://localhost:8080/"
        },
        "outputId": "b227cfa5-f73f-4060-87b0-a1dd852a695e"
      },
      "source": [
        "a|b #suma zbiorów, sum of sets"
      ],
      "execution_count": 23,
      "outputs": [
        {
          "output_type": "execute_result",
          "data": {
            "text/plain": [
              "{1, 2, 3, 4, 'Franek'}"
            ]
          },
          "metadata": {
            "tags": []
          },
          "execution_count": 23
        }
      ]
    },
    {
      "cell_type": "code",
      "metadata": {
        "id": "TxgwtqHKry87",
        "colab": {
          "base_uri": "https://localhost:8080/"
        },
        "outputId": "538795ca-72ad-43fd-fe0e-b85071e2c383"
      },
      "source": [
        "a.add(\"Franek\")\n",
        "print(a)"
      ],
      "execution_count": 24,
      "outputs": [
        {
          "output_type": "stream",
          "text": [
            "{'Franek', 1, 2, 3}\n"
          ],
          "name": "stdout"
        }
      ]
    },
    {
      "cell_type": "code",
      "metadata": {
        "id": "lJp4ZmFXry8_",
        "colab": {
          "base_uri": "https://localhost:8080/"
        },
        "outputId": "57eb7614-51fc-42b5-b553-a41284e8456f"
      },
      "source": [
        "1 in a\n",
        "\"Igor\" in studenci_slownik"
      ],
      "execution_count": 25,
      "outputs": [
        {
          "output_type": "execute_result",
          "data": {
            "text/plain": [
              "True"
            ]
          },
          "metadata": {
            "tags": []
          },
          "execution_count": 25
        }
      ]
    },
    {
      "cell_type": "markdown",
      "metadata": {
        "id": "9PMa_wrgry9E"
      },
      "source": [
        "### Własne typy"
      ]
    },
    {
      "cell_type": "code",
      "metadata": {
        "id": "A-aRXxL7ry9F"
      },
      "source": [
        "zajecia = [[\"wf\"],\n",
        "           [\"informatyka\", \"nauka czytania\"],\n",
        "           [\"relax\", \"jedzenie\"],\n",
        "           [\"mispy\",\"mispy w domu\"],\n",
        "           [\"piateczek\", \"praca domowa z mispow\", \"Ilovemispy\", \"mispy w czasie snu\"]\n",
        "          ]\n",
        "\n",
        "dnityg= [\"Pon\",\"Wto\",\"Sro\",\"Czwar\",\"Pio\"]\n",
        "\n",
        "def dodaj_dwie_liczby(liczba1,liczba2):\n",
        "    return liczba1+liczba2"
      ],
      "execution_count": 26,
      "outputs": []
    },
    {
      "cell_type": "code",
      "metadata": {
        "id": "iF5jddQary9K"
      },
      "source": [
        "class DzienZajec():\n",
        "    \"\"\"obiekt trzymający dany dzień zajęć i przypisane mu metody\"\"\"\n",
        "    \n",
        "    \n",
        "    def __init__(self, lista_na_dany_dzien, nazwa_dnia): #definicja\n",
        "        self.lista_zajec= lista_na_dany_dzien\n",
        "        self.dzien = nazwa_dnia\n",
        "        \n",
        "\n",
        "    \n",
        "    def ile_mispow(self):\n",
        "        ile_m = sum([1 for zajecie in self.lista_zajec if \"misp\" in zajecie.lower()])\n",
        "        return ile_m\n",
        "\n",
        "    @property #zamienia na wlasciwosc   \n",
        "    def ile_zajec(self):\n",
        "        return len(self.lista_zajec)\n",
        "    \n",
        "    def __repr__(self):\n",
        "        zajecia_do_stringa = \", \".join(self.lista_zajec)\n",
        "        return \"W dzien {} mam zajecia: {}\".format(self.dzien, zajecia_do_stringa)\n",
        "    "
      ],
      "execution_count": 27,
      "outputs": []
    },
    {
      "cell_type": "code",
      "metadata": {
        "id": "xNkrZ_NLry9P"
      },
      "source": [
        "pio_zajecia = DzienZajec([\"piateczek\", \"praca domowa z mispow\", \"Ilovemispy\", \"mispy w czasie snu\"],\n",
        "                        \"piatek\")"
      ],
      "execution_count": 28,
      "outputs": []
    },
    {
      "cell_type": "code",
      "metadata": {
        "id": "-BKSj97iry9V",
        "colab": {
          "base_uri": "https://localhost:8080/"
        },
        "outputId": "9a009a38-e3de-4e0e-fde1-a2a11402b6de"
      },
      "source": [
        "pio_zajecia.ile_zajec"
      ],
      "execution_count": 29,
      "outputs": [
        {
          "output_type": "execute_result",
          "data": {
            "text/plain": [
              "4"
            ]
          },
          "metadata": {
            "tags": []
          },
          "execution_count": 29
        }
      ]
    },
    {
      "cell_type": "code",
      "metadata": {
        "id": "PYcLU5Fwry9Z",
        "colab": {
          "base_uri": "https://localhost:8080/"
        },
        "outputId": "551ec047-8ba2-4942-a55a-f0a9e5a1990d"
      },
      "source": [
        "print(pio_zajecia)"
      ],
      "execution_count": 30,
      "outputs": [
        {
          "output_type": "stream",
          "text": [
            "W dzien piatek mam zajecia: piateczek, praca domowa z mispow, Ilovemispy, mispy w czasie snu\n"
          ],
          "name": "stdout"
        }
      ]
    },
    {
      "cell_type": "code",
      "metadata": {
        "id": "bujWAnBSry9d",
        "colab": {
          "base_uri": "https://localhost:8080/"
        },
        "outputId": "56a9ca18-154c-4839-bd64-eb79988175b7"
      },
      "source": [
        "pio_zajecia.lista_zajec"
      ],
      "execution_count": 31,
      "outputs": [
        {
          "output_type": "execute_result",
          "data": {
            "text/plain": [
              "['piateczek', 'praca domowa z mispow', 'Ilovemispy', 'mispy w czasie snu']"
            ]
          },
          "metadata": {
            "tags": []
          },
          "execution_count": 31
        }
      ]
    },
    {
      "cell_type": "code",
      "metadata": {
        "id": "xHkhLPuCry9h",
        "colab": {
          "base_uri": "https://localhost:8080/"
        },
        "outputId": "121325cd-5616-410a-abb8-ae70ffbff71f"
      },
      "source": [
        "pio_zajecia.lista_zajec.append(\"MISP\")\n",
        "print(pio_zajecia.lista_zajec)"
      ],
      "execution_count": 32,
      "outputs": [
        {
          "output_type": "stream",
          "text": [
            "['piateczek', 'praca domowa z mispow', 'Ilovemispy', 'mispy w czasie snu', 'MISP']\n"
          ],
          "name": "stdout"
        }
      ]
    },
    {
      "cell_type": "code",
      "metadata": {
        "id": "g4XiuifTry9l",
        "colab": {
          "base_uri": "https://localhost:8080/"
        },
        "outputId": "6906979f-9643-4b1c-ddd0-ff29ff30de2e"
      },
      "source": [
        "pio_zajecia.ile_mispow()"
      ],
      "execution_count": 33,
      "outputs": [
        {
          "output_type": "execute_result",
          "data": {
            "text/plain": [
              "4"
            ]
          },
          "metadata": {
            "tags": []
          },
          "execution_count": 33
        }
      ]
    },
    {
      "cell_type": "code",
      "metadata": {
        "id": "YXTzhKWfry9o",
        "colab": {
          "base_uri": "https://localhost:8080/"
        },
        "outputId": "f99b3bc3-5acb-4a8e-e24c-2ed095d6c531"
      },
      "source": [
        "print(pio_zajecia.lista_zajec)\n"
      ],
      "execution_count": 34,
      "outputs": [
        {
          "output_type": "stream",
          "text": [
            "['piateczek', 'praca domowa z mispow', 'Ilovemispy', 'mispy w czasie snu', 'MISP']\n"
          ],
          "name": "stdout"
        }
      ]
    },
    {
      "cell_type": "code",
      "metadata": {
        "id": "xJQaUidTry9s",
        "colab": {
          "base_uri": "https://localhost:8080/"
        },
        "outputId": "336f00b7-7218-44a9-f8b0-e3b482489249"
      },
      "source": [
        "pio_zajecia"
      ],
      "execution_count": 35,
      "outputs": [
        {
          "output_type": "execute_result",
          "data": {
            "text/plain": [
              "W dzien piatek mam zajecia: piateczek, praca domowa z mispow, Ilovemispy, mispy w czasie snu, MISP"
            ]
          },
          "metadata": {
            "tags": []
          },
          "execution_count": 35
        }
      ]
    },
    {
      "cell_type": "code",
      "metadata": {
        "id": "DcyK1CfRry9v",
        "colab": {
          "base_uri": "https://localhost:8080/"
        },
        "outputId": "08e1baff-7ca0-4b5b-81d2-a04292464073"
      },
      "source": [
        "print(pio_zajecia.ile_zajec)"
      ],
      "execution_count": 36,
      "outputs": [
        {
          "output_type": "stream",
          "text": [
            "5\n"
          ],
          "name": "stdout"
        }
      ]
    },
    {
      "cell_type": "code",
      "metadata": {
        "id": "0qwd028Yry9z"
      },
      "source": [
        "lista_zajec= [DzienZajec(lista_dzien, dzien) for lista_dzien, dzien in \n",
        "             zip(zajecia,dnityg)]"
      ],
      "execution_count": 37,
      "outputs": []
    },
    {
      "cell_type": "code",
      "metadata": {
        "id": "RDFQflYIry92",
        "colab": {
          "base_uri": "https://localhost:8080/"
        },
        "outputId": "fb1b8257-4cc8-480b-9ef8-bd61e7865bc0"
      },
      "source": [
        "print(lista_zajec)"
      ],
      "execution_count": 38,
      "outputs": [
        {
          "output_type": "stream",
          "text": [
            "[W dzien Pon mam zajecia: wf, W dzien Wto mam zajecia: informatyka, nauka czytania, W dzien Sro mam zajecia: relax, jedzenie, W dzien Czwar mam zajecia: mispy, mispy w domu, W dzien Pio mam zajecia: piateczek, praca domowa z mispow, Ilovemispy, mispy w czasie snu]\n"
          ],
          "name": "stdout"
        }
      ]
    },
    {
      "cell_type": "code",
      "metadata": {
        "id": "5PzYBkFcry95"
      },
      "source": [
        "posortowane_po_zajeciach=sorted(lista_zajec, key= lambda zajecie: zajecie.ile_zajec)\n",
        "posortowane_po_mispach=sorted(lista_zajec, key= lambda zajecie: zajecie.ile_mispow())"
      ],
      "execution_count": 39,
      "outputs": []
    },
    {
      "cell_type": "code",
      "metadata": {
        "id": "ekrt5fyPry99",
        "colab": {
          "base_uri": "https://localhost:8080/"
        },
        "outputId": "390442f8-cdbc-42b4-9479-c520a4835ee2"
      },
      "source": [
        "print(posortowane_po_zajeciach)"
      ],
      "execution_count": 40,
      "outputs": [
        {
          "output_type": "stream",
          "text": [
            "[W dzien Pon mam zajecia: wf, W dzien Wto mam zajecia: informatyka, nauka czytania, W dzien Sro mam zajecia: relax, jedzenie, W dzien Czwar mam zajecia: mispy, mispy w domu, W dzien Pio mam zajecia: piateczek, praca domowa z mispow, Ilovemispy, mispy w czasie snu]\n"
          ],
          "name": "stdout"
        }
      ]
    },
    {
      "cell_type": "code",
      "metadata": {
        "id": "sVESbj49ry-A",
        "colab": {
          "base_uri": "https://localhost:8080/"
        },
        "outputId": "91b0b431-0a6a-4218-b08c-76191ca800e2"
      },
      "source": [
        "print(posortowane_po_mispach)"
      ],
      "execution_count": 41,
      "outputs": [
        {
          "output_type": "stream",
          "text": [
            "[W dzien Pon mam zajecia: wf, W dzien Wto mam zajecia: informatyka, nauka czytania, W dzien Sro mam zajecia: relax, jedzenie, W dzien Czwar mam zajecia: mispy, mispy w domu, W dzien Pio mam zajecia: piateczek, praca domowa z mispow, Ilovemispy, mispy w czasie snu]\n"
          ],
          "name": "stdout"
        }
      ]
    },
    {
      "cell_type": "markdown",
      "metadata": {
        "id": "xOR98EXHry-G"
      },
      "source": [
        "##### challenge 1\n",
        "\n",
        "Stworz typ NumerTelefonu\n",
        "\n",
        " -- przy tworzeniu sprawdza czy właściwy numer (Polski) jeśli nie pisze, że error (ew. Exception)\n",
        " \n",
        " -- gdy printuję to mi pisze polskimi słowami i.e. \"jeden, pięć, siedem, zero\"\n",
        " \n",
        " -- gdy wywołuję właściwość wojewodzwtwo, podaje mi wojewodztwo ew. ze to komorkowy\n",
        " \n",
        " "
      ]
    },
    {
      "cell_type": "code",
      "metadata": {
        "id": "AOIUbuYDry-H",
        "colab": {
          "base_uri": "https://localhost:8080/"
        },
        "outputId": "5c67630f-0a61-46ab-c4ae-e61fb601d325"
      },
      "source": [
        "class NumerTelefonu():\n",
        "    slownik =     {\"Biała Podlaska\": 83, \"Opole\": 77,\"Białystok\": 85, \"Ostrołęka\": 29,\n",
        "                  \"Bielsko Biała\": 33, \"Piła\": 67, \"Bydgoszcz\": 52, \"Piotrków Trybunalski\": 44,\n",
        "                  \"Chełm\": 82, \"Płock\": 24, \"Ciechanów\": 23, \"Poznań\": 61, \"Częstochowa\": 34,\n",
        "                  \"Przemyśl\": 16, \"Elbląg\": 55, \"Radom\": 48, \"Gdańsk\": 58, \"Rzeszów\": 17,\n",
        "                  \"Gorzów Wielkopolski\": 95, \"Siedlce\": 25, \"Jelenia Góra\": 75, \"Sieradz\": 43,\n",
        "                  \"Kalisz\": 62, \"Skierniewice\": 46, \"Katowice\": 32, \"Słupsk\": 59, \"Kielce\": 41,\n",
        "                  \"Suwałki\": 87, \"Konin\": 63, \"Szczecin\": 91, \"Koszalin\": 94, \"Tarnobrzeg\": 15,\n",
        "                  \"Kraków\": 12, \"Tarnów\": 14, \"Krosno\": 13, \"Toruń\": 56, \"Legnica\": 76,\n",
        "                  \"Wałbrzych\": 74, \"Leszno\": 65, \"Warszawa\": 22, \"Lublin\": 81, \"Włocławek\": 54,\n",
        "                  \"Łomża\": 86, \"Wrocław\": 71, \"Łódź\": 42,  \"Zamość\": 84, \"Nowy Sącz\": 18,\n",
        "                  \"Zielona Góra\": 68, \"Olsztyn\": 89} #slownik miast-kierunkowy\n",
        " \n",
        "    cyfry = { '0': \"zero\", '1': \"jeden\", '2': \"dwa\", '3': \"trzy\", '4': \"cztery\", '5': \"pięć\", '6': \"sześć\",\n",
        "                    '7': \"siedem\", '8': \"osiem\", '9': \"dziewięć\"} #slownik cyfra-wyraz\n",
        " \n",
        "    def __init__(self, numer_wprowadzony):    #definicja\n",
        "        if len(numer_wprowadzony) == 9 :      #czy numer ma 9 znakow?\n",
        "            self.numer= numer_wprowadzony            \n",
        "            print(\"numer poprawny\")            #ok\n",
        "        else:\n",
        "            print(\"numer nieprawidlowy\")      #nie ok\n",
        " \n",
        "    def wojewodztwo(self):                    #funkcja podaj wojewodztwo \n",
        "        nr_kom = \"komorka\"\n",
        "        for miasto, kierunkowy in self.slownik.items():\n",
        "            if str(kierunkowy) == self.numer[:2]:     #wycignij 2 pierwsze cyfry z numeru, zrzutuj na string\n",
        "                nr_kom = miasto\n",
        "        print(\"{}\".format(nr_kom))\n",
        "\n",
        "\n",
        "    def __repr__(self): #zmiana reprezantacji\n",
        "        return \"_\".join(map(lambda kokot : self.cyfry[kokot], str(self.numer))) #polacz _ i słowa\n",
        "        # kokot to cyfra z rzutowanego na string numeru\n",
        "        # dla danego kokot zwraca jest wartosc slownika -> cyfra jako slowo\n",
        "        # map -> wykonanie dla każdej cyfry numeru\n",
        " \n",
        "\n",
        " \n",
        "\n",
        "belmondo = NumerTelefonu(\"737491274\") #kom\n",
        "kazek = NumerTelefonu(\"226877868\") #stac\n",
        "oyche = NumerTelefonu(\"7744\") #zły \n",
        "belmondo.wojewodztwo()\n",
        "kazek.wojewodztwo()\n",
        " \n",
        "print(belmondo)\n",
        "print(kazek)\n"
      ],
      "execution_count": 42,
      "outputs": [
        {
          "output_type": "stream",
          "text": [
            "numer poprawny\n",
            "numer poprawny\n",
            "numer nieprawidlowy\n",
            "komorka\n",
            "Warszawa\n",
            "siedem_trzy_siedem_cztery_dziewięć_jeden_dwa_siedem_cztery\n",
            "dwa_dwa_sześć_osiem_siedem_siedem_osiem_sześć_osiem\n"
          ],
          "name": "stdout"
        }
      ]
    }
  ]
}